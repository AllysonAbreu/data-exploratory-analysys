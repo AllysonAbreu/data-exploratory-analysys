{
  "nbformat": 4,
  "nbformat_minor": 0,
  "metadata": {
    "kernelspec": {
      "display_name": "Python 3",
      "language": "python",
      "name": "python3"
    },
    "language_info": {
      "codemirror_mode": {
        "name": "ipython",
        "version": 3
      },
      "file_extension": ".py",
      "mimetype": "text/x-python",
      "name": "python",
      "nbconvert_exporter": "python",
      "pygments_lexer": "ipython3",
      "version": "3.7.3"
    },
    "colab": {
      "name": "Python_para_Data_Science_Pandas.ipynb",
      "provenance": [],
      "collapsed_sections": [
        "htjoBLwiD0_F",
        "MZH5_QnYD0_G",
        "iKUY2DOUD0_N",
        "xo76nR8rD0_0",
        "PQg-MLkGD0_-",
        "KYeRqavFD1AD",
        "KzmWbEltD1AD",
        "SWlE6VTBD1AE",
        "oWbWyDd0D1AI",
        "yYNqIHJBD1AK",
        "_z0JySuqD1AL",
        "FodJVx5sD1AP",
        "7pqdPOkYD1AP",
        "JLs5c0DeD1AR",
        "mNODkmHCD1AV",
        "Q5J0R7d3D1Ag",
        "QhoSRfPsD1Ai",
        "E-agaqakD1Ai",
        "qFj6Cc7dD1Ak",
        "-NGRwX0AD1Al",
        "-q3AlSg3D1Aq",
        "5CfEcU58D1Aq",
        "6w62Sl5ZD1A0",
        "OADZiBP2D1A0",
        "PwSlYSVAD1A2",
        "8zNYrmFbD1A9",
        "J44K-dMOD1A9",
        "MQaK8GV5D1BA",
        "uQ5lNnKrD1BD",
        "2qa7RC03D1BD",
        "kIey8_OcD1BF",
        "VYVIKd1-D1BG",
        "pJK2tQgYD1BK",
        "fCCXs0reD1BL",
        "y5V-1AK-D1BN",
        "wZjqlHe9D1BN",
        "7RPXPm1XD1BQ",
        "G3DMSk97D1BR",
        "SYKEe3vCD1BT",
        "eAbwq1oLD1BW",
        "_XKXcWO-D1BY",
        "ciJ4dw_FD1BZ",
        "HnUzHFQPD1Ba"
      ],
      "toc_visible": true,
      "include_colab_link": true
    }
  },
  "cells": [
    {
      "cell_type": "markdown",
      "metadata": {
        "id": "view-in-github",
        "colab_type": "text"
      },
      "source": [
        "<a href=\"https://colab.research.google.com/github/AllysonAbreu/data-exploratory-analysys/blob/main/Python_para_Data_Science_Pandas.ipynb\" target=\"_parent\"><img src=\"https://colab.research.google.com/assets/colab-badge.svg\" alt=\"Open In Colab\"/></a>"
      ]
    },
    {
      "cell_type": "markdown",
      "metadata": {
        "id": "W4bTJkJED0-t"
      },
      "source": [
        "# <font color=green> PYTHON PARA DATA SCIENCE - PANDAS\n",
        "---"
      ]
    },
    {
      "cell_type": "markdown",
      "metadata": {
        "id": "GOEcCc62D0-x"
      },
      "source": [
        "# <font color=green> 1. INTRODUÇÃO AO PYTHON\n",
        "---"
      ]
    },
    {
      "cell_type": "markdown",
      "metadata": {
        "id": "oGvoOJ-XD0-y"
      },
      "source": [
        "# 1.1 Introdução"
      ]
    },
    {
      "cell_type": "markdown",
      "metadata": {
        "id": "fam3BM0aD0-z"
      },
      "source": [
        "> Python é uma linguagem de programação de alto nível com suporte a múltiplos paradigmas de programação. É um projeto *open source* e desde seu surgimento, em 1991, vem se tornando uma das linguagens de programação interpretadas mais populares. \n",
        ">\n",
        "> Nos últimos anos Python desenvolveu uma comunidade ativa de processamento científico e análise de dados e vem se destacando como uma das linguagens mais relevantes quando o assundo é ciência de dados e machine learning, tanto no ambiente acadêmico como também no mercado."
      ]
    },
    {
      "cell_type": "markdown",
      "metadata": {
        "id": "6kH5DY-vD0-1"
      },
      "source": [
        "# 1.2 Instalação e ambiente de desenvolvimento"
      ]
    },
    {
      "cell_type": "markdown",
      "metadata": {
        "id": "BTpm79I2D0-2"
      },
      "source": [
        "### Instalação Local\n",
        "\n",
        "### https://www.python.org/downloads/\n",
        "### ou\n",
        "### https://www.anaconda.com/distribution/"
      ]
    },
    {
      "cell_type": "markdown",
      "metadata": {
        "id": "AuPS_XwRD0-3"
      },
      "source": [
        "### Google Colaboratory\n",
        "\n",
        "### https://colab.research.google.com"
      ]
    },
    {
      "cell_type": "markdown",
      "metadata": {
        "id": "4rUYsPrXD0-4"
      },
      "source": [
        "### Verificando versão"
      ]
    },
    {
      "cell_type": "code",
      "metadata": {
        "id": "PgTCVRB2D0-5",
        "colab": {
          "base_uri": "https://localhost:8080/"
        },
        "outputId": "f1e4228f-b0dc-4682-f328-7a0672efd7f9"
      },
      "source": [
        "!python -V\n"
      ],
      "execution_count": null,
      "outputs": [
        {
          "output_type": "stream",
          "name": "stdout",
          "text": [
            "Python 3.7.12\n"
          ]
        }
      ]
    },
    {
      "cell_type": "markdown",
      "metadata": {
        "id": "lTtI6so4D0-9"
      },
      "source": [
        "# 1.3 Trabalhando com dados"
      ]
    },
    {
      "cell_type": "code",
      "metadata": {
        "id": "E_n4FUUWD0-9"
      },
      "source": [
        "import pandas as pd\n",
        "# pd.set_option('display.max_rows', 500)\n",
        "# pd.set_option('display.max_columns', 500)"
      ],
      "execution_count": null,
      "outputs": []
    },
    {
      "cell_type": "code",
      "metadata": {
        "id": "Kq-JdRHFD0-_"
      },
      "source": [
        "dataset = pd.read_csv(\"db.csv\", sep=\";\")"
      ],
      "execution_count": null,
      "outputs": []
    },
    {
      "cell_type": "code",
      "metadata": {
        "scrolled": true,
        "id": "mOV1rCA6D0_A",
        "colab": {
          "base_uri": "https://localhost:8080/",
          "height": 1000
        },
        "outputId": "10dd035d-8708-4cd5-a46d-9483291590f0"
      },
      "source": [
        "dataset"
      ],
      "execution_count": null,
      "outputs": [
        {
          "output_type": "execute_result",
          "data": {
            "text/html": [
              "<div>\n",
              "<style scoped>\n",
              "    .dataframe tbody tr th:only-of-type {\n",
              "        vertical-align: middle;\n",
              "    }\n",
              "\n",
              "    .dataframe tbody tr th {\n",
              "        vertical-align: top;\n",
              "    }\n",
              "\n",
              "    .dataframe thead th {\n",
              "        text-align: right;\n",
              "    }\n",
              "</style>\n",
              "<table border=\"1\" class=\"dataframe\">\n",
              "  <thead>\n",
              "    <tr style=\"text-align: right;\">\n",
              "      <th></th>\n",
              "      <th>Nome</th>\n",
              "      <th>Motor</th>\n",
              "      <th>Ano</th>\n",
              "      <th>Quilometragem</th>\n",
              "      <th>Zero_km</th>\n",
              "      <th>Acessórios</th>\n",
              "      <th>Valor</th>\n",
              "    </tr>\n",
              "  </thead>\n",
              "  <tbody>\n",
              "    <tr>\n",
              "      <th>0</th>\n",
              "      <td>Jetta Variant</td>\n",
              "      <td>Motor 4.0 Turbo</td>\n",
              "      <td>2003</td>\n",
              "      <td>44410.0</td>\n",
              "      <td>False</td>\n",
              "      <td>['Rodas de liga', 'Travas elétricas', 'Piloto ...</td>\n",
              "      <td>88078.64</td>\n",
              "    </tr>\n",
              "    <tr>\n",
              "      <th>1</th>\n",
              "      <td>Passat</td>\n",
              "      <td>Motor Diesel</td>\n",
              "      <td>1991</td>\n",
              "      <td>5712.0</td>\n",
              "      <td>False</td>\n",
              "      <td>['Central multimídia', 'Teto panorâmico', 'Fre...</td>\n",
              "      <td>106161.94</td>\n",
              "    </tr>\n",
              "    <tr>\n",
              "      <th>2</th>\n",
              "      <td>Crossfox</td>\n",
              "      <td>Motor Diesel V8</td>\n",
              "      <td>1990</td>\n",
              "      <td>37123.0</td>\n",
              "      <td>False</td>\n",
              "      <td>['Piloto automático', 'Controle de estabilidad...</td>\n",
              "      <td>72832.16</td>\n",
              "    </tr>\n",
              "    <tr>\n",
              "      <th>3</th>\n",
              "      <td>DS5</td>\n",
              "      <td>Motor 2.4 Turbo</td>\n",
              "      <td>2019</td>\n",
              "      <td>NaN</td>\n",
              "      <td>True</td>\n",
              "      <td>['Travas elétricas', '4 X 4', 'Vidros elétrico...</td>\n",
              "      <td>124549.07</td>\n",
              "    </tr>\n",
              "    <tr>\n",
              "      <th>4</th>\n",
              "      <td>Aston Martin DB4</td>\n",
              "      <td>Motor 2.4 Turbo</td>\n",
              "      <td>2006</td>\n",
              "      <td>25757.0</td>\n",
              "      <td>False</td>\n",
              "      <td>['Rodas de liga', '4 X 4', 'Central multimídia...</td>\n",
              "      <td>92612.10</td>\n",
              "    </tr>\n",
              "    <tr>\n",
              "      <th>5</th>\n",
              "      <td>Palio Weekend</td>\n",
              "      <td>Motor 1.8 16v</td>\n",
              "      <td>2012</td>\n",
              "      <td>10728.0</td>\n",
              "      <td>False</td>\n",
              "      <td>['Sensor de estacionamento', 'Teto panorâmico'...</td>\n",
              "      <td>97497.73</td>\n",
              "    </tr>\n",
              "    <tr>\n",
              "      <th>6</th>\n",
              "      <td>A5</td>\n",
              "      <td>Motor 4.0 Turbo</td>\n",
              "      <td>2019</td>\n",
              "      <td>NaN</td>\n",
              "      <td>True</td>\n",
              "      <td>['Câmbio automático', 'Câmera de estacionament...</td>\n",
              "      <td>56445.20</td>\n",
              "    </tr>\n",
              "    <tr>\n",
              "      <th>7</th>\n",
              "      <td>Série 3 Cabrio</td>\n",
              "      <td>Motor 1.0 8v</td>\n",
              "      <td>2009</td>\n",
              "      <td>77599.0</td>\n",
              "      <td>False</td>\n",
              "      <td>['Controle de estabilidade', 'Sensor crepuscul...</td>\n",
              "      <td>112310.44</td>\n",
              "    </tr>\n",
              "    <tr>\n",
              "      <th>8</th>\n",
              "      <td>Dodge Jorney</td>\n",
              "      <td>Motor 3.0 32v</td>\n",
              "      <td>2010</td>\n",
              "      <td>99197.0</td>\n",
              "      <td>False</td>\n",
              "      <td>['Vidros elétricos', 'Piloto automático', 'Tet...</td>\n",
              "      <td>120716.27</td>\n",
              "    </tr>\n",
              "    <tr>\n",
              "      <th>9</th>\n",
              "      <td>Carens</td>\n",
              "      <td>Motor 5.0 V8 Bi-Turbo</td>\n",
              "      <td>2011</td>\n",
              "      <td>37978.0</td>\n",
              "      <td>False</td>\n",
              "      <td>['Ar condicionado', 'Painel digital', 'Central...</td>\n",
              "      <td>76566.49</td>\n",
              "    </tr>\n",
              "    <tr>\n",
              "      <th>10</th>\n",
              "      <td>Ford Edge</td>\n",
              "      <td>Motor Diesel V6</td>\n",
              "      <td>2002</td>\n",
              "      <td>12859.0</td>\n",
              "      <td>False</td>\n",
              "      <td>['Sensor crepuscular', 'Rodas de liga', 'Teto ...</td>\n",
              "      <td>71647.59</td>\n",
              "    </tr>\n",
              "    <tr>\n",
              "      <th>11</th>\n",
              "      <td>Courier</td>\n",
              "      <td>Motor Diesel V8</td>\n",
              "      <td>2007</td>\n",
              "      <td>8052.0</td>\n",
              "      <td>False</td>\n",
              "      <td>['Central multimídia', '4 X 4', 'Piloto automá...</td>\n",
              "      <td>73919.53</td>\n",
              "    </tr>\n",
              "    <tr>\n",
              "      <th>12</th>\n",
              "      <td>S-18</td>\n",
              "      <td>Motor V6</td>\n",
              "      <td>2001</td>\n",
              "      <td>89773.0</td>\n",
              "      <td>False</td>\n",
              "      <td>['Bancos de couro', 'Sensor de chuva', 'Rodas ...</td>\n",
              "      <td>112732.99</td>\n",
              "    </tr>\n",
              "    <tr>\n",
              "      <th>13</th>\n",
              "      <td>J5</td>\n",
              "      <td>Motor V6</td>\n",
              "      <td>2019</td>\n",
              "      <td>NaN</td>\n",
              "      <td>True</td>\n",
              "      <td>['Sensor crepuscular', 'Painel digital', 'Roda...</td>\n",
              "      <td>53183.38</td>\n",
              "    </tr>\n",
              "    <tr>\n",
              "      <th>14</th>\n",
              "      <td>F-Type Coupé</td>\n",
              "      <td>Motor 5.0 V8 Bi-Turbo</td>\n",
              "      <td>2009</td>\n",
              "      <td>41457.0</td>\n",
              "      <td>False</td>\n",
              "      <td>['Piloto automático', 'Sensor crepuscular', 'S...</td>\n",
              "      <td>127488.42</td>\n",
              "    </tr>\n",
              "    <tr>\n",
              "      <th>15</th>\n",
              "      <td>RAM</td>\n",
              "      <td>Motor Diesel V8</td>\n",
              "      <td>2016</td>\n",
              "      <td>115607.0</td>\n",
              "      <td>False</td>\n",
              "      <td>['Sensor crepuscular', 'Câmbio automático', 'S...</td>\n",
              "      <td>59910.40</td>\n",
              "    </tr>\n",
              "    <tr>\n",
              "      <th>16</th>\n",
              "      <td>Série 1</td>\n",
              "      <td>Motor 3.0 32v</td>\n",
              "      <td>2012</td>\n",
              "      <td>46449.0</td>\n",
              "      <td>False</td>\n",
              "      <td>['Teto panorâmico', 'Câmera de estacionamento'...</td>\n",
              "      <td>61118.59</td>\n",
              "    </tr>\n",
              "    <tr>\n",
              "      <th>17</th>\n",
              "      <td>A3</td>\n",
              "      <td>Motor 1.0 8v</td>\n",
              "      <td>2019</td>\n",
              "      <td>NaN</td>\n",
              "      <td>True</td>\n",
              "      <td>['4 X 4', 'Piloto automático', 'Central multim...</td>\n",
              "      <td>88552.39</td>\n",
              "    </tr>\n",
              "    <tr>\n",
              "      <th>18</th>\n",
              "      <td>XC90</td>\n",
              "      <td>Motor 1.0 8v</td>\n",
              "      <td>2016</td>\n",
              "      <td>37086.0</td>\n",
              "      <td>False</td>\n",
              "      <td>['Travas elétricas', 'Vidros elétricos', 'Teto...</td>\n",
              "      <td>62696.69</td>\n",
              "    </tr>\n",
              "    <tr>\n",
              "      <th>19</th>\n",
              "      <td>RS 3 Sportback</td>\n",
              "      <td>Motor 3.0 32v</td>\n",
              "      <td>2017</td>\n",
              "      <td>15173.0</td>\n",
              "      <td>False</td>\n",
              "      <td>['4 X 4', 'Piloto automático', 'Central multim...</td>\n",
              "      <td>101726.30</td>\n",
              "    </tr>\n",
              "    <tr>\n",
              "      <th>20</th>\n",
              "      <td>Pajero Sport</td>\n",
              "      <td>Motor 1.0 8v</td>\n",
              "      <td>2002</td>\n",
              "      <td>101193.0</td>\n",
              "      <td>False</td>\n",
              "      <td>['Sensor de estacionamento', 'Piloto automátic...</td>\n",
              "      <td>106147.38</td>\n",
              "    </tr>\n",
              "    <tr>\n",
              "      <th>21</th>\n",
              "      <td>Série 1 M</td>\n",
              "      <td>Motor V8</td>\n",
              "      <td>2019</td>\n",
              "      <td>NaN</td>\n",
              "      <td>True</td>\n",
              "      <td>['Controle de estabilidade', 'Central multimíd...</td>\n",
              "      <td>94564.40</td>\n",
              "    </tr>\n",
              "    <tr>\n",
              "      <th>22</th>\n",
              "      <td>Lamborghini Obvious</td>\n",
              "      <td>Motor Diesel V6</td>\n",
              "      <td>1994</td>\n",
              "      <td>98079.0</td>\n",
              "      <td>False</td>\n",
              "      <td>['Rodas de liga', 'Câmbio automático', 'Travas...</td>\n",
              "      <td>133529.84</td>\n",
              "    </tr>\n",
              "    <tr>\n",
              "      <th>23</th>\n",
              "      <td>Effa Hafei Picape Baú</td>\n",
              "      <td>Motor Diesel</td>\n",
              "      <td>1991</td>\n",
              "      <td>102959.0</td>\n",
              "      <td>False</td>\n",
              "      <td>['Controle de estabilidade', 'Painel digital',...</td>\n",
              "      <td>125684.65</td>\n",
              "    </tr>\n",
              "    <tr>\n",
              "      <th>24</th>\n",
              "      <td>Lamborghini Murciélago</td>\n",
              "      <td>Motor 5.0 V8 Bi-Turbo</td>\n",
              "      <td>2019</td>\n",
              "      <td>NaN</td>\n",
              "      <td>True</td>\n",
              "      <td>['Freios ABS', 'Câmbio automático', 'Ar condic...</td>\n",
              "      <td>121596.21</td>\n",
              "    </tr>\n",
              "    <tr>\n",
              "      <th>25</th>\n",
              "      <td>Up!</td>\n",
              "      <td>Motor Diesel V6</td>\n",
              "      <td>2019</td>\n",
              "      <td>NaN</td>\n",
              "      <td>True</td>\n",
              "      <td>['Sensor de estacionamento', 'Vidros elétricos...</td>\n",
              "      <td>71367.10</td>\n",
              "    </tr>\n",
              "    <tr>\n",
              "      <th>26</th>\n",
              "      <td>Fiesta Rocam Sedan</td>\n",
              "      <td>Motor 4.0 Turbo</td>\n",
              "      <td>2016</td>\n",
              "      <td>5795.0</td>\n",
              "      <td>False</td>\n",
              "      <td>['Ar condicionado', 'Bancos de couro', 'Câmbio...</td>\n",
              "      <td>95347.75</td>\n",
              "    </tr>\n",
              "    <tr>\n",
              "      <th>27</th>\n",
              "      <td>Sandero Stepway</td>\n",
              "      <td>Motor 3.0 32v</td>\n",
              "      <td>2019</td>\n",
              "      <td>NaN</td>\n",
              "      <td>True</td>\n",
              "      <td>['Freios ABS', 'Ar condicionado', 'Teto panorâ...</td>\n",
              "      <td>105432.84</td>\n",
              "    </tr>\n",
              "    <tr>\n",
              "      <th>28</th>\n",
              "      <td>Cayman S</td>\n",
              "      <td>Motor 3.0 32v</td>\n",
              "      <td>2002</td>\n",
              "      <td>58848.0</td>\n",
              "      <td>False</td>\n",
              "      <td>['Câmbio automático', 'Sensor de estacionament...</td>\n",
              "      <td>57045.27</td>\n",
              "    </tr>\n",
              "    <tr>\n",
              "      <th>29</th>\n",
              "      <td>V40</td>\n",
              "      <td>Motor 4.0 Turbo</td>\n",
              "      <td>1991</td>\n",
              "      <td>94381.0</td>\n",
              "      <td>False</td>\n",
              "      <td>['Câmera de estacionamento', 'Sensor de estaci...</td>\n",
              "      <td>120432.70</td>\n",
              "    </tr>\n",
              "    <tr>\n",
              "      <th>30</th>\n",
              "      <td>Classe SLS AMG</td>\n",
              "      <td>Motor 1.0 8v</td>\n",
              "      <td>1997</td>\n",
              "      <td>30163.0</td>\n",
              "      <td>False</td>\n",
              "      <td>['Sensor de estacionamento', 'Controle de esta...</td>\n",
              "      <td>70707.20</td>\n",
              "    </tr>\n",
              "    <tr>\n",
              "      <th>31</th>\n",
              "      <td>Gol G4</td>\n",
              "      <td>Motor 2.0 16v</td>\n",
              "      <td>1995</td>\n",
              "      <td>53332.0</td>\n",
              "      <td>False</td>\n",
              "      <td>['Sensor crepuscular', '4 X 4', 'Vidros elétri...</td>\n",
              "      <td>69105.18</td>\n",
              "    </tr>\n",
              "    <tr>\n",
              "      <th>32</th>\n",
              "      <td>Linea</td>\n",
              "      <td>Motor 1.0 8v</td>\n",
              "      <td>2018</td>\n",
              "      <td>17720.0</td>\n",
              "      <td>False</td>\n",
              "      <td>['Piloto automático', 'Painel digital', 'Vidro...</td>\n",
              "      <td>59358.69</td>\n",
              "    </tr>\n",
              "    <tr>\n",
              "      <th>33</th>\n",
              "      <td>Ford F100</td>\n",
              "      <td>Motor 2.0 16v</td>\n",
              "      <td>1991</td>\n",
              "      <td>33808.0</td>\n",
              "      <td>False</td>\n",
              "      <td>['Controle de tração', 'Sensor crepuscular', '...</td>\n",
              "      <td>65955.40</td>\n",
              "    </tr>\n",
              "    <tr>\n",
              "      <th>34</th>\n",
              "      <td>J2</td>\n",
              "      <td>Motor V8</td>\n",
              "      <td>2014</td>\n",
              "      <td>90684.0</td>\n",
              "      <td>False</td>\n",
              "      <td>['Teto panorâmico', 'Sensor de estacionamento'...</td>\n",
              "      <td>60017.03</td>\n",
              "    </tr>\n",
              "    <tr>\n",
              "      <th>35</th>\n",
              "      <td>Aston Martin DBS</td>\n",
              "      <td>Motor V8</td>\n",
              "      <td>1995</td>\n",
              "      <td>43975.0</td>\n",
              "      <td>False</td>\n",
              "      <td>['Teto panorâmico', 'Piloto automático', 'Ar c...</td>\n",
              "      <td>118909.52</td>\n",
              "    </tr>\n",
              "    <tr>\n",
              "      <th>36</th>\n",
              "      <td>Pajero TR4</td>\n",
              "      <td>Motor 2.4 Turbo</td>\n",
              "      <td>2019</td>\n",
              "      <td>NaN</td>\n",
              "      <td>True</td>\n",
              "      <td>['Controle de tração', 'Bancos de couro', 'Câm...</td>\n",
              "      <td>51606.59</td>\n",
              "    </tr>\n",
              "    <tr>\n",
              "      <th>37</th>\n",
              "      <td>Polo Sedan</td>\n",
              "      <td>Motor V6</td>\n",
              "      <td>2019</td>\n",
              "      <td>NaN</td>\n",
              "      <td>True</td>\n",
              "      <td>['Sensor de chuva', 'Sensor crepuscular', 'Ar ...</td>\n",
              "      <td>123281.87</td>\n",
              "    </tr>\n",
              "    <tr>\n",
              "      <th>38</th>\n",
              "      <td>California</td>\n",
              "      <td>Motor 1.0 8v</td>\n",
              "      <td>2009</td>\n",
              "      <td>5526.0</td>\n",
              "      <td>False</td>\n",
              "      <td>['Rodas de liga', 'Ar condicionado', 'Câmera d...</td>\n",
              "      <td>69770.18</td>\n",
              "    </tr>\n",
              "    <tr>\n",
              "      <th>39</th>\n",
              "      <td>S60</td>\n",
              "      <td>Motor 2.4 Turbo</td>\n",
              "      <td>2019</td>\n",
              "      <td>NaN</td>\n",
              "      <td>True</td>\n",
              "      <td>['Teto panorâmico', 'Freios ABS', '4 X 4', 'Ar...</td>\n",
              "      <td>102609.54</td>\n",
              "    </tr>\n",
              "    <tr>\n",
              "      <th>40</th>\n",
              "      <td>Tucson</td>\n",
              "      <td>Motor 2.0 16v</td>\n",
              "      <td>2013</td>\n",
              "      <td>93415.0</td>\n",
              "      <td>False</td>\n",
              "      <td>['Vidros elétricos', 'Sensor crepuscular', 'Fr...</td>\n",
              "      <td>67997.19</td>\n",
              "    </tr>\n",
              "    <tr>\n",
              "      <th>41</th>\n",
              "      <td>HB20</td>\n",
              "      <td>Motor V6</td>\n",
              "      <td>2003</td>\n",
              "      <td>40762.0</td>\n",
              "      <td>False</td>\n",
              "      <td>['Sensor de chuva', 'Travas elétricas', 'Contr...</td>\n",
              "      <td>135235.29</td>\n",
              "    </tr>\n",
              "    <tr>\n",
              "      <th>42</th>\n",
              "      <td>Optima</td>\n",
              "      <td>Motor 1.8 16v</td>\n",
              "      <td>2019</td>\n",
              "      <td>NaN</td>\n",
              "      <td>True</td>\n",
              "      <td>['Central multimídia', 'Ar condicionado', 'Tet...</td>\n",
              "      <td>86641.34</td>\n",
              "    </tr>\n",
              "    <tr>\n",
              "      <th>43</th>\n",
              "      <td>Logan</td>\n",
              "      <td>Motor 4.0 Turbo</td>\n",
              "      <td>2002</td>\n",
              "      <td>86302.0</td>\n",
              "      <td>False</td>\n",
              "      <td>['Câmera de estacionamento', 'Vidros elétricos...</td>\n",
              "      <td>136818.39</td>\n",
              "    </tr>\n",
              "    <tr>\n",
              "      <th>44</th>\n",
              "      <td>Range Rover Vogue</td>\n",
              "      <td>Motor 1.0 8v</td>\n",
              "      <td>2019</td>\n",
              "      <td>NaN</td>\n",
              "      <td>True</td>\n",
              "      <td>['4 X 4', 'Vidros elétricos', 'Rodas de liga',...</td>\n",
              "      <td>117626.73</td>\n",
              "    </tr>\n",
              "    <tr>\n",
              "      <th>45</th>\n",
              "      <td>Sonata</td>\n",
              "      <td>Motor 5.0 V8 Bi-Turbo</td>\n",
              "      <td>2002</td>\n",
              "      <td>9755.0</td>\n",
              "      <td>False</td>\n",
              "      <td>['Piloto automático', 'Ar condicionado', 'Vidr...</td>\n",
              "      <td>56208.70</td>\n",
              "    </tr>\n",
              "    <tr>\n",
              "      <th>46</th>\n",
              "      <td>Ford New Fiesta Sedan</td>\n",
              "      <td>Motor 3.0 32v</td>\n",
              "      <td>2004</td>\n",
              "      <td>69945.0</td>\n",
              "      <td>False</td>\n",
              "      <td>['Teto panorâmico', 'Painel digital', 'Ar cond...</td>\n",
              "      <td>84222.65</td>\n",
              "    </tr>\n",
              "    <tr>\n",
              "      <th>47</th>\n",
              "      <td>Série 5 Gran Turismo</td>\n",
              "      <td>Motor 4.0 Turbo</td>\n",
              "      <td>2001</td>\n",
              "      <td>2395.0</td>\n",
              "      <td>False</td>\n",
              "      <td>['Controle de tração', 'Piloto automático', 'A...</td>\n",
              "      <td>90781.65</td>\n",
              "    </tr>\n",
              "    <tr>\n",
              "      <th>48</th>\n",
              "      <td>CR-V</td>\n",
              "      <td>Motor Diesel V8</td>\n",
              "      <td>2019</td>\n",
              "      <td>NaN</td>\n",
              "      <td>True</td>\n",
              "      <td>['Câmbio automático', 'Central multimídia', 'V...</td>\n",
              "      <td>64701.10</td>\n",
              "    </tr>\n",
              "    <tr>\n",
              "      <th>49</th>\n",
              "      <td>Ford EcoSport</td>\n",
              "      <td>Motor 1.0 8v</td>\n",
              "      <td>2003</td>\n",
              "      <td>80349.0</td>\n",
              "      <td>False</td>\n",
              "      <td>['Vidros elétricos', 'Piloto automático', 'Pai...</td>\n",
              "      <td>126350.49</td>\n",
              "    </tr>\n",
              "    <tr>\n",
              "      <th>50</th>\n",
              "      <td>Versa</td>\n",
              "      <td>Motor 3.0 32v</td>\n",
              "      <td>2009</td>\n",
              "      <td>85554.0</td>\n",
              "      <td>False</td>\n",
              "      <td>['Bancos de couro', 'Ar condicionado', 'Rodas ...</td>\n",
              "      <td>148152.89</td>\n",
              "    </tr>\n",
              "    <tr>\n",
              "      <th>51</th>\n",
              "      <td>Classe E</td>\n",
              "      <td>Motor 1.0 8v</td>\n",
              "      <td>2006</td>\n",
              "      <td>50496.0</td>\n",
              "      <td>False</td>\n",
              "      <td>['Freios ABS', 'Sensor de estacionamento', 'Ce...</td>\n",
              "      <td>132298.83</td>\n",
              "    </tr>\n",
              "    <tr>\n",
              "      <th>52</th>\n",
              "      <td>Carnival</td>\n",
              "      <td>Motor V8</td>\n",
              "      <td>2000</td>\n",
              "      <td>67716.0</td>\n",
              "      <td>False</td>\n",
              "      <td>['Travas elétricas', 'Câmbio automático', 'Câm...</td>\n",
              "      <td>137627.63</td>\n",
              "    </tr>\n",
              "    <tr>\n",
              "      <th>53</th>\n",
              "      <td>Aston Martin V8 Vantage Roadster</td>\n",
              "      <td>Motor 2.4 Turbo</td>\n",
              "      <td>2006</td>\n",
              "      <td>93947.0</td>\n",
              "      <td>False</td>\n",
              "      <td>['Câmbio automático', 'Câmera de estacionament...</td>\n",
              "      <td>80422.71</td>\n",
              "    </tr>\n",
              "    <tr>\n",
              "      <th>54</th>\n",
              "      <td>Hoggar</td>\n",
              "      <td>Motor 5.0 V8 Bi-Turbo</td>\n",
              "      <td>2010</td>\n",
              "      <td>35345.0</td>\n",
              "      <td>False</td>\n",
              "      <td>['Controle de estabilidade', 'Bancos de couro'...</td>\n",
              "      <td>56373.99</td>\n",
              "    </tr>\n",
              "    <tr>\n",
              "      <th>55</th>\n",
              "      <td>A1</td>\n",
              "      <td>Motor 5.0 V8 Bi-Turbo</td>\n",
              "      <td>1994</td>\n",
              "      <td>81007.0</td>\n",
              "      <td>False</td>\n",
              "      <td>['Painel digital', 'Câmbio automático', 'Câmer...</td>\n",
              "      <td>70846.03</td>\n",
              "    </tr>\n",
              "    <tr>\n",
              "      <th>56</th>\n",
              "      <td>Aston Martin DB7 Vantage</td>\n",
              "      <td>Motor V6</td>\n",
              "      <td>2007</td>\n",
              "      <td>119513.0</td>\n",
              "      <td>False</td>\n",
              "      <td>['Sensor crepuscular', 'Piloto automático', 'T...</td>\n",
              "      <td>128694.23</td>\n",
              "    </tr>\n",
              "    <tr>\n",
              "      <th>57</th>\n",
              "      <td>CLA</td>\n",
              "      <td>Motor 1.0 8v</td>\n",
              "      <td>2019</td>\n",
              "      <td>NaN</td>\n",
              "      <td>True</td>\n",
              "      <td>['Central multimídia', 'Sensor de chuva', 'Con...</td>\n",
              "      <td>133329.19</td>\n",
              "    </tr>\n",
              "    <tr>\n",
              "      <th>58</th>\n",
              "      <td>Accord</td>\n",
              "      <td>Motor V8</td>\n",
              "      <td>2019</td>\n",
              "      <td>NaN</td>\n",
              "      <td>True</td>\n",
              "      <td>['Sensor de estacionamento', 'Ar condicionado'...</td>\n",
              "      <td>131961.43</td>\n",
              "    </tr>\n",
              "    <tr>\n",
              "      <th>59</th>\n",
              "      <td>EXTRA 103EX</td>\n",
              "      <td>Motor 2.0 16v</td>\n",
              "      <td>2019</td>\n",
              "      <td>NaN</td>\n",
              "      <td>True</td>\n",
              "      <td>['Sensor de estacionamento', 'Central multimíd...</td>\n",
              "      <td>112033.27</td>\n",
              "    </tr>\n",
              "    <tr>\n",
              "      <th>60</th>\n",
              "      <td>Sorento</td>\n",
              "      <td>Motor Diesel</td>\n",
              "      <td>2019</td>\n",
              "      <td>NaN</td>\n",
              "      <td>True</td>\n",
              "      <td>['Sensor de chuva', 'Câmera de estacionamento'...</td>\n",
              "      <td>81399.35</td>\n",
              "    </tr>\n",
              "    <tr>\n",
              "      <th>61</th>\n",
              "      <td>Tiggo</td>\n",
              "      <td>Motor 3.0 32v</td>\n",
              "      <td>2019</td>\n",
              "      <td>NaN</td>\n",
              "      <td>True</td>\n",
              "      <td>['Câmera de estacionamento', 'Freios ABS', 'Pi...</td>\n",
              "      <td>97163.10</td>\n",
              "    </tr>\n",
              "    <tr>\n",
              "      <th>62</th>\n",
              "      <td>New Fiesta Hatch</td>\n",
              "      <td>Motor Diesel</td>\n",
              "      <td>2017</td>\n",
              "      <td>118895.0</td>\n",
              "      <td>False</td>\n",
              "      <td>['Sensor de estacionamento', 'Travas elétricas...</td>\n",
              "      <td>66007.16</td>\n",
              "    </tr>\n",
              "    <tr>\n",
              "      <th>63</th>\n",
              "      <td>Jeep Renegade</td>\n",
              "      <td>Motor 5.0 V8 Bi-Turbo</td>\n",
              "      <td>2011</td>\n",
              "      <td>48509.0</td>\n",
              "      <td>False</td>\n",
              "      <td>['Vidros elétricos', 'Teto panorâmico', 'Banco...</td>\n",
              "      <td>128776.22</td>\n",
              "    </tr>\n",
              "    <tr>\n",
              "      <th>64</th>\n",
              "      <td>Lamborghini Ankonian</td>\n",
              "      <td>Motor 2.0 16v</td>\n",
              "      <td>2001</td>\n",
              "      <td>100912.0</td>\n",
              "      <td>False</td>\n",
              "      <td>['Bancos de couro', 'Câmera de estacionamento'...</td>\n",
              "      <td>142623.02</td>\n",
              "    </tr>\n",
              "    <tr>\n",
              "      <th>65</th>\n",
              "      <td>Space Cross</td>\n",
              "      <td>Motor 5.0 V8 Bi-Turbo</td>\n",
              "      <td>1996</td>\n",
              "      <td>95649.0</td>\n",
              "      <td>False</td>\n",
              "      <td>['Teto panorâmico', 'Vidros elétricos', 'Senso...</td>\n",
              "      <td>136930.13</td>\n",
              "    </tr>\n",
              "    <tr>\n",
              "      <th>66</th>\n",
              "      <td>Touareg</td>\n",
              "      <td>Motor V8</td>\n",
              "      <td>2019</td>\n",
              "      <td>NaN</td>\n",
              "      <td>True</td>\n",
              "      <td>['Controle de estabilidade', 'Piloto automátic...</td>\n",
              "      <td>66526.61</td>\n",
              "    </tr>\n",
              "    <tr>\n",
              "      <th>67</th>\n",
              "      <td>Classe M</td>\n",
              "      <td>Motor 1.0 8v</td>\n",
              "      <td>1994</td>\n",
              "      <td>90495.0</td>\n",
              "      <td>False</td>\n",
              "      <td>['Central multimídia', 'Bancos de couro', 'Rod...</td>\n",
              "      <td>114154.87</td>\n",
              "    </tr>\n",
              "    <tr>\n",
              "      <th>68</th>\n",
              "      <td>Lancer Evolution X</td>\n",
              "      <td>Motor Diesel V6</td>\n",
              "      <td>2019</td>\n",
              "      <td>NaN</td>\n",
              "      <td>True</td>\n",
              "      <td>['Vidros elétricos', 'Câmbio automático', 'Con...</td>\n",
              "      <td>142392.75</td>\n",
              "    </tr>\n",
              "    <tr>\n",
              "      <th>69</th>\n",
              "      <td>Kangoo Express</td>\n",
              "      <td>Motor Diesel</td>\n",
              "      <td>2007</td>\n",
              "      <td>29132.0</td>\n",
              "      <td>False</td>\n",
              "      <td>['Bancos de couro', 'Câmbio automático', 'Pilo...</td>\n",
              "      <td>146716.91</td>\n",
              "    </tr>\n",
              "    <tr>\n",
              "      <th>70</th>\n",
              "      <td>SW4</td>\n",
              "      <td>Motor Diesel V6</td>\n",
              "      <td>1994</td>\n",
              "      <td>23802.0</td>\n",
              "      <td>False</td>\n",
              "      <td>['Sensor de chuva', 'Bancos de couro', 'Contro...</td>\n",
              "      <td>122485.68</td>\n",
              "    </tr>\n",
              "    <tr>\n",
              "      <th>71</th>\n",
              "      <td>Cadillac ELR</td>\n",
              "      <td>Motor 1.0 8v</td>\n",
              "      <td>2007</td>\n",
              "      <td>84992.0</td>\n",
              "      <td>False</td>\n",
              "      <td>['Sensor crepuscular', 'Travas elétricas', 'Te...</td>\n",
              "      <td>97951.03</td>\n",
              "    </tr>\n",
              "    <tr>\n",
              "      <th>72</th>\n",
              "      <td>Doblò</td>\n",
              "      <td>Motor 1.8 16v</td>\n",
              "      <td>1997</td>\n",
              "      <td>54395.0</td>\n",
              "      <td>False</td>\n",
              "      <td>['Câmera de estacionamento', 'Teto panorâmico'...</td>\n",
              "      <td>78283.49</td>\n",
              "    </tr>\n",
              "    <tr>\n",
              "      <th>73</th>\n",
              "      <td>Lamborghini Egoista</td>\n",
              "      <td>Motor 3.0 32v</td>\n",
              "      <td>2006</td>\n",
              "      <td>26731.0</td>\n",
              "      <td>False</td>\n",
              "      <td>['Rodas de liga', 'Controle de tração', 'Centr...</td>\n",
              "      <td>83434.04</td>\n",
              "    </tr>\n",
              "    <tr>\n",
              "      <th>74</th>\n",
              "      <td>Fit</td>\n",
              "      <td>Motor Diesel</td>\n",
              "      <td>2013</td>\n",
              "      <td>44329.0</td>\n",
              "      <td>False</td>\n",
              "      <td>['Freios ABS', 'Câmera de estacionamento', 'Câ...</td>\n",
              "      <td>77836.23</td>\n",
              "    </tr>\n",
              "    <tr>\n",
              "      <th>75</th>\n",
              "      <td>C5</td>\n",
              "      <td>Motor 2.0 16v</td>\n",
              "      <td>1994</td>\n",
              "      <td>118236.0</td>\n",
              "      <td>False</td>\n",
              "      <td>['Painel digital', 'Teto panorâmico', 'Piloto ...</td>\n",
              "      <td>60813.92</td>\n",
              "    </tr>\n",
              "    <tr>\n",
              "      <th>76</th>\n",
              "      <td>Celer Hatch</td>\n",
              "      <td>Motor V8</td>\n",
              "      <td>2008</td>\n",
              "      <td>113808.0</td>\n",
              "      <td>False</td>\n",
              "      <td>['Controle de estabilidade', 'Câmbio automátic...</td>\n",
              "      <td>91353.86</td>\n",
              "    </tr>\n",
              "    <tr>\n",
              "      <th>77</th>\n",
              "      <td>HB20S</td>\n",
              "      <td>Motor V8</td>\n",
              "      <td>2008</td>\n",
              "      <td>610.0</td>\n",
              "      <td>False</td>\n",
              "      <td>['Teto panorâmico', 'Rodas de liga', 'Travas e...</td>\n",
              "      <td>116281.21</td>\n",
              "    </tr>\n",
              "    <tr>\n",
              "      <th>78</th>\n",
              "      <td>Cielo Hatch</td>\n",
              "      <td>Motor Diesel</td>\n",
              "      <td>2019</td>\n",
              "      <td>NaN</td>\n",
              "      <td>True</td>\n",
              "      <td>['Painel digital', 'Central multimídia', 'Câme...</td>\n",
              "      <td>145197.70</td>\n",
              "    </tr>\n",
              "    <tr>\n",
              "      <th>79</th>\n",
              "      <td>Livina</td>\n",
              "      <td>Motor 2.0 16v</td>\n",
              "      <td>2019</td>\n",
              "      <td>NaN</td>\n",
              "      <td>True</td>\n",
              "      <td>['Sensor crepuscular', 'Câmera de estacionamen...</td>\n",
              "      <td>50742.10</td>\n",
              "    </tr>\n",
              "    <tr>\n",
              "      <th>80</th>\n",
              "      <td>Ducato</td>\n",
              "      <td>Motor 5.0 V8 Bi-Turbo</td>\n",
              "      <td>1999</td>\n",
              "      <td>12887.0</td>\n",
              "      <td>False</td>\n",
              "      <td>['Sensor de chuva', 'Painel digital', 'Sensor ...</td>\n",
              "      <td>73033.53</td>\n",
              "    </tr>\n",
              "    <tr>\n",
              "      <th>81</th>\n",
              "      <td>March</td>\n",
              "      <td>Motor V6</td>\n",
              "      <td>2007</td>\n",
              "      <td>79607.0</td>\n",
              "      <td>False</td>\n",
              "      <td>['Bancos de couro', 'Piloto automático', 'Sens...</td>\n",
              "      <td>54332.87</td>\n",
              "    </tr>\n",
              "    <tr>\n",
              "      <th>82</th>\n",
              "      <td>Cadillac XTS sedan</td>\n",
              "      <td>Motor Diesel V6</td>\n",
              "      <td>1993</td>\n",
              "      <td>90924.0</td>\n",
              "      <td>False</td>\n",
              "      <td>['Ar condicionado', 'Câmbio automático', 'Sens...</td>\n",
              "      <td>52207.45</td>\n",
              "    </tr>\n",
              "    <tr>\n",
              "      <th>83</th>\n",
              "      <td>Lamborghini Centenario</td>\n",
              "      <td>Motor V6</td>\n",
              "      <td>1995</td>\n",
              "      <td>42733.0</td>\n",
              "      <td>False</td>\n",
              "      <td>['Central multimídia', 'Vidros elétricos', 'Se...</td>\n",
              "      <td>63578.50</td>\n",
              "    </tr>\n",
              "    <tr>\n",
              "      <th>84</th>\n",
              "      <td>Hilux</td>\n",
              "      <td>Motor 5.0 V8 Bi-Turbo</td>\n",
              "      <td>2019</td>\n",
              "      <td>NaN</td>\n",
              "      <td>True</td>\n",
              "      <td>['4 X 4', 'Piloto automático', 'Teto panorâmic...</td>\n",
              "      <td>64507.72</td>\n",
              "    </tr>\n",
              "    <tr>\n",
              "      <th>85</th>\n",
              "      <td>Grand Siena</td>\n",
              "      <td>Motor Diesel V8</td>\n",
              "      <td>2019</td>\n",
              "      <td>NaN</td>\n",
              "      <td>True</td>\n",
              "      <td>['Bancos de couro', 'Painel digital', 'Sensor ...</td>\n",
              "      <td>115075.59</td>\n",
              "    </tr>\n",
              "    <tr>\n",
              "      <th>86</th>\n",
              "      <td>Symbol</td>\n",
              "      <td>Motor Diesel</td>\n",
              "      <td>2016</td>\n",
              "      <td>117714.0</td>\n",
              "      <td>False</td>\n",
              "      <td>['4 X 4', 'Piloto automático', 'Sensor crepusc...</td>\n",
              "      <td>133030.60</td>\n",
              "    </tr>\n",
              "    <tr>\n",
              "      <th>87</th>\n",
              "      <td>Aston Martin V12 GT Zagato</td>\n",
              "      <td>Motor 4.0 Turbo</td>\n",
              "      <td>2011</td>\n",
              "      <td>113885.0</td>\n",
              "      <td>False</td>\n",
              "      <td>['Central multimídia', 'Piloto automático', 'S...</td>\n",
              "      <td>141591.86</td>\n",
              "    </tr>\n",
              "    <tr>\n",
              "      <th>88</th>\n",
              "      <td>Fusion</td>\n",
              "      <td>Motor 1.8 16v</td>\n",
              "      <td>2019</td>\n",
              "      <td>NaN</td>\n",
              "      <td>True</td>\n",
              "      <td>['Controle de tração', 'Câmbio automático', 'F...</td>\n",
              "      <td>100380.28</td>\n",
              "    </tr>\n",
              "    <tr>\n",
              "      <th>89</th>\n",
              "      <td>A4 Sedan</td>\n",
              "      <td>Motor Diesel</td>\n",
              "      <td>2002</td>\n",
              "      <td>30511.0</td>\n",
              "      <td>False</td>\n",
              "      <td>['Câmera de estacionamento', '4 X 4', 'Travas ...</td>\n",
              "      <td>96369.04</td>\n",
              "    </tr>\n",
              "    <tr>\n",
              "      <th>90</th>\n",
              "      <td>Xsara Picasso</td>\n",
              "      <td>Motor 2.0 16v</td>\n",
              "      <td>2013</td>\n",
              "      <td>74867.0</td>\n",
              "      <td>False</td>\n",
              "      <td>['Sensor de chuva', 'Teto panorâmico', 'Centra...</td>\n",
              "      <td>142603.84</td>\n",
              "    </tr>\n",
              "    <tr>\n",
              "      <th>91</th>\n",
              "      <td>207 SW</td>\n",
              "      <td>Motor 3.0 32v</td>\n",
              "      <td>2017</td>\n",
              "      <td>119760.0</td>\n",
              "      <td>False</td>\n",
              "      <td>['Controle de estabilidade', 'Travas elétricas...</td>\n",
              "      <td>117709.67</td>\n",
              "    </tr>\n",
              "    <tr>\n",
              "      <th>92</th>\n",
              "      <td>Star</td>\n",
              "      <td>Motor V6</td>\n",
              "      <td>2016</td>\n",
              "      <td>8356.0</td>\n",
              "      <td>False</td>\n",
              "      <td>['Câmera de estacionamento', '4 X 4', 'Central...</td>\n",
              "      <td>102241.54</td>\n",
              "    </tr>\n",
              "    <tr>\n",
              "      <th>93</th>\n",
              "      <td>Doblò Cargo</td>\n",
              "      <td>Motor 3.0 32v</td>\n",
              "      <td>2008</td>\n",
              "      <td>64247.0</td>\n",
              "      <td>False</td>\n",
              "      <td>['Freios ABS', 'Teto panorâmico', 'Vidros elét...</td>\n",
              "      <td>96065.38</td>\n",
              "    </tr>\n",
              "    <tr>\n",
              "      <th>94</th>\n",
              "      <td>Cadillac CTS</td>\n",
              "      <td>Motor 1.8 16v</td>\n",
              "      <td>2018</td>\n",
              "      <td>88661.0</td>\n",
              "      <td>False</td>\n",
              "      <td>['Travas elétricas', 'Sensor de chuva', 'Freio...</td>\n",
              "      <td>53894.61</td>\n",
              "    </tr>\n",
              "    <tr>\n",
              "      <th>95</th>\n",
              "      <td>Cayenne</td>\n",
              "      <td>Motor 1.0 8v</td>\n",
              "      <td>2003</td>\n",
              "      <td>4539.0</td>\n",
              "      <td>False</td>\n",
              "      <td>['Controle de tração', 'Piloto automático', 'T...</td>\n",
              "      <td>123911.78</td>\n",
              "    </tr>\n",
              "    <tr>\n",
              "      <th>96</th>\n",
              "      <td>Fox</td>\n",
              "      <td>Motor 4.0 Turbo</td>\n",
              "      <td>2003</td>\n",
              "      <td>110116.0</td>\n",
              "      <td>False</td>\n",
              "      <td>['Piloto automático', 'Câmbio automático', 'Tr...</td>\n",
              "      <td>101996.35</td>\n",
              "    </tr>\n",
              "    <tr>\n",
              "      <th>97</th>\n",
              "      <td>Tiida Hatch</td>\n",
              "      <td>Motor Diesel V6</td>\n",
              "      <td>2004</td>\n",
              "      <td>33215.0</td>\n",
              "      <td>False</td>\n",
              "      <td>['Teto panorâmico', 'Travas elétricas', 'Senso...</td>\n",
              "      <td>83431.66</td>\n",
              "    </tr>\n",
              "    <tr>\n",
              "      <th>98</th>\n",
              "      <td>Dodge Charger</td>\n",
              "      <td>Motor 2.4 Turbo</td>\n",
              "      <td>2010</td>\n",
              "      <td>92001.0</td>\n",
              "      <td>False</td>\n",
              "      <td>['Vidros elétricos', 'Sensor crepuscular', 'Co...</td>\n",
              "      <td>122975.63</td>\n",
              "    </tr>\n",
              "    <tr>\n",
              "      <th>99</th>\n",
              "      <td>Face</td>\n",
              "      <td>Motor V8</td>\n",
              "      <td>2019</td>\n",
              "      <td>NaN</td>\n",
              "      <td>True</td>\n",
              "      <td>['Controle de estabilidade', 'Vidros elétricos...</td>\n",
              "      <td>93227.73</td>\n",
              "    </tr>\n",
              "    <tr>\n",
              "      <th>100</th>\n",
              "      <td>Prius</td>\n",
              "      <td>Motor 3.0 32v</td>\n",
              "      <td>2006</td>\n",
              "      <td>81708.0</td>\n",
              "      <td>False</td>\n",
              "      <td>['Rodas de liga', 'Bancos de couro', 'Painel d...</td>\n",
              "      <td>58762.65</td>\n",
              "    </tr>\n",
              "    <tr>\n",
              "      <th>101</th>\n",
              "      <td>Idea</td>\n",
              "      <td>Motor V6</td>\n",
              "      <td>2001</td>\n",
              "      <td>70641.0</td>\n",
              "      <td>False</td>\n",
              "      <td>['Central multimídia', 'Piloto automático', 'T...</td>\n",
              "      <td>139549.67</td>\n",
              "    </tr>\n",
              "    <tr>\n",
              "      <th>102</th>\n",
              "      <td>A8</td>\n",
              "      <td>Motor 2.0 16v</td>\n",
              "      <td>2019</td>\n",
              "      <td>NaN</td>\n",
              "      <td>True</td>\n",
              "      <td>['Painel digital', 'Teto panorâmico', 'Piloto ...</td>\n",
              "      <td>122016.42</td>\n",
              "    </tr>\n",
              "    <tr>\n",
              "      <th>103</th>\n",
              "      <td>Série 1 Cabrio</td>\n",
              "      <td>Motor 3.0 32v</td>\n",
              "      <td>2015</td>\n",
              "      <td>91277.0</td>\n",
              "      <td>False</td>\n",
              "      <td>['Vidros elétricos', 'Travas elétricas', 'Cont...</td>\n",
              "      <td>72731.98</td>\n",
              "    </tr>\n",
              "    <tr>\n",
              "      <th>104</th>\n",
              "      <td>Edge</td>\n",
              "      <td>Motor V6</td>\n",
              "      <td>2018</td>\n",
              "      <td>26544.0</td>\n",
              "      <td>False</td>\n",
              "      <td>['Freios ABS', 'Controle de tração', 'Sensor c...</td>\n",
              "      <td>88416.54</td>\n",
              "    </tr>\n",
              "    <tr>\n",
              "      <th>105</th>\n",
              "      <td>Cadillac ATS sedan</td>\n",
              "      <td>Motor 1.8 16v</td>\n",
              "      <td>2017</td>\n",
              "      <td>52596.0</td>\n",
              "      <td>False</td>\n",
              "      <td>['Painel digital', 'Vidros elétricos', 'Teto p...</td>\n",
              "      <td>73873.42</td>\n",
              "    </tr>\n",
              "    <tr>\n",
              "      <th>106</th>\n",
              "      <td>Lamborghini Asterion LPI 910-4</td>\n",
              "      <td>Motor 5.0 V8 Bi-Turbo</td>\n",
              "      <td>1992</td>\n",
              "      <td>47503.0</td>\n",
              "      <td>False</td>\n",
              "      <td>['Ar condicionado', 'Painel digital', 'Control...</td>\n",
              "      <td>70709.34</td>\n",
              "    </tr>\n",
              "    <tr>\n",
              "      <th>107</th>\n",
              "      <td>Frontier</td>\n",
              "      <td>Motor V8</td>\n",
              "      <td>2001</td>\n",
              "      <td>89056.0</td>\n",
              "      <td>False</td>\n",
              "      <td>['Câmbio automático', 'Rodas de liga', 'Sensor...</td>\n",
              "      <td>115306.50</td>\n",
              "    </tr>\n",
              "    <tr>\n",
              "      <th>108</th>\n",
              "      <td>Série 3 Sedã</td>\n",
              "      <td>Motor 3.0 32v</td>\n",
              "      <td>1993</td>\n",
              "      <td>28834.0</td>\n",
              "      <td>False</td>\n",
              "      <td>['Controle de tração', 'Controle de estabilida...</td>\n",
              "      <td>55924.63</td>\n",
              "    </tr>\n",
              "    <tr>\n",
              "      <th>109</th>\n",
              "      <td>Lamborghini LM002</td>\n",
              "      <td>Motor 1.8 16v</td>\n",
              "      <td>1995</td>\n",
              "      <td>110564.0</td>\n",
              "      <td>False</td>\n",
              "      <td>['Bancos de couro', 'Freios ABS', 'Central mul...</td>\n",
              "      <td>85052.26</td>\n",
              "    </tr>\n",
              "    <tr>\n",
              "      <th>110</th>\n",
              "      <td>Cadillac XLR</td>\n",
              "      <td>Motor Diesel V8</td>\n",
              "      <td>2003</td>\n",
              "      <td>56638.0</td>\n",
              "      <td>False</td>\n",
              "      <td>['Sensor crepuscular', 'Teto panorâmico', 'Sen...</td>\n",
              "      <td>56646.34</td>\n",
              "    </tr>\n",
              "    <tr>\n",
              "      <th>111</th>\n",
              "      <td>A4 Avant</td>\n",
              "      <td>Motor Diesel</td>\n",
              "      <td>2014</td>\n",
              "      <td>17357.0</td>\n",
              "      <td>False</td>\n",
              "      <td>['Teto panorâmico', '4 X 4', 'Bancos de couro'...</td>\n",
              "      <td>138946.88</td>\n",
              "    </tr>\n",
              "    <tr>\n",
              "      <th>112</th>\n",
              "      <td>EcoSport</td>\n",
              "      <td>Motor 4.0 Turbo</td>\n",
              "      <td>2008</td>\n",
              "      <td>74015.0</td>\n",
              "      <td>False</td>\n",
              "      <td>['Piloto automático', 'Sensor de estacionament...</td>\n",
              "      <td>108256.72</td>\n",
              "    </tr>\n",
              "    <tr>\n",
              "      <th>113</th>\n",
              "      <td>J3</td>\n",
              "      <td>Motor 1.8 16v</td>\n",
              "      <td>2013</td>\n",
              "      <td>15196.0</td>\n",
              "      <td>False</td>\n",
              "      <td>['Controle de estabilidade', '4 X 4', 'Câmera ...</td>\n",
              "      <td>58979.30</td>\n",
              "    </tr>\n",
              "    <tr>\n",
              "      <th>114</th>\n",
              "      <td>Q3</td>\n",
              "      <td>Motor 3.0 32v</td>\n",
              "      <td>2019</td>\n",
              "      <td>NaN</td>\n",
              "      <td>True</td>\n",
              "      <td>['Controle de estabilidade', 'Bancos de couro'...</td>\n",
              "      <td>114727.68</td>\n",
              "    </tr>\n",
              "    <tr>\n",
              "      <th>115</th>\n",
              "      <td>Aston Martin V8 Vantage</td>\n",
              "      <td>Motor V8</td>\n",
              "      <td>2017</td>\n",
              "      <td>10821.0</td>\n",
              "      <td>False</td>\n",
              "      <td>['Teto panorâmico', 'Controle de tração', 'Pai...</td>\n",
              "      <td>139661.48</td>\n",
              "    </tr>\n",
              "    <tr>\n",
              "      <th>116</th>\n",
              "      <td>Z4 Roadster</td>\n",
              "      <td>Motor 3.0 32v</td>\n",
              "      <td>2019</td>\n",
              "      <td>NaN</td>\n",
              "      <td>True</td>\n",
              "      <td>['Central multimídia', 'Câmbio automático', 'T...</td>\n",
              "      <td>80382.24</td>\n",
              "    </tr>\n",
              "    <tr>\n",
              "      <th>117</th>\n",
              "      <td>Lamborghini Ferruccio</td>\n",
              "      <td>Motor 3.0 32v</td>\n",
              "      <td>2019</td>\n",
              "      <td>NaN</td>\n",
              "      <td>True</td>\n",
              "      <td>['Vidros elétricos', 'Piloto automático', 'Tet...</td>\n",
              "      <td>149157.17</td>\n",
              "    </tr>\n",
              "    <tr>\n",
              "      <th>118</th>\n",
              "      <td>Ford Ka+</td>\n",
              "      <td>Motor 1.8 16v</td>\n",
              "      <td>2006</td>\n",
              "      <td>9595.0</td>\n",
              "      <td>False</td>\n",
              "      <td>['Sensor crepuscular', 'Piloto automático', 'C...</td>\n",
              "      <td>87830.41</td>\n",
              "    </tr>\n",
              "    <tr>\n",
              "      <th>119</th>\n",
              "      <td>Silver Shadow</td>\n",
              "      <td>Motor Diesel</td>\n",
              "      <td>2015</td>\n",
              "      <td>99052.0</td>\n",
              "      <td>False</td>\n",
              "      <td>['4 X 4', 'Central multimídia', 'Ar condiciona...</td>\n",
              "      <td>143568.22</td>\n",
              "    </tr>\n",
              "    <tr>\n",
              "      <th>120</th>\n",
              "      <td>Classe C 63 AMG Touring</td>\n",
              "      <td>Motor Diesel V8</td>\n",
              "      <td>2007</td>\n",
              "      <td>52389.0</td>\n",
              "      <td>False</td>\n",
              "      <td>['Central multimídia', 'Piloto automático', 'F...</td>\n",
              "      <td>138171.85</td>\n",
              "    </tr>\n",
              "    <tr>\n",
              "      <th>121</th>\n",
              "      <td>Discovery 4</td>\n",
              "      <td>Motor 4.0 Turbo</td>\n",
              "      <td>2005</td>\n",
              "      <td>119945.0</td>\n",
              "      <td>False</td>\n",
              "      <td>['Freios ABS', 'Rodas de liga', 'Sensor de chu...</td>\n",
              "      <td>115784.95</td>\n",
              "    </tr>\n",
              "    <tr>\n",
              "      <th>122</th>\n",
              "      <td>Veloster</td>\n",
              "      <td>Motor Diesel V8</td>\n",
              "      <td>2017</td>\n",
              "      <td>96005.0</td>\n",
              "      <td>False</td>\n",
              "      <td>['Ar condicionado', 'Central multimídia', 'Ban...</td>\n",
              "      <td>146508.99</td>\n",
              "    </tr>\n",
              "    <tr>\n",
              "      <th>123</th>\n",
              "      <td>Classe C</td>\n",
              "      <td>Motor Diesel V6</td>\n",
              "      <td>1998</td>\n",
              "      <td>31639.0</td>\n",
              "      <td>False</td>\n",
              "      <td>['Freios ABS', 'Sensor de chuva', 'Central mul...</td>\n",
              "      <td>137670.23</td>\n",
              "    </tr>\n",
              "    <tr>\n",
              "      <th>124</th>\n",
              "      <td>Camry</td>\n",
              "      <td>Motor Diesel</td>\n",
              "      <td>2019</td>\n",
              "      <td>NaN</td>\n",
              "      <td>True</td>\n",
              "      <td>['Travas elétricas', 'Rodas de liga', 'Sensor ...</td>\n",
              "      <td>138597.27</td>\n",
              "    </tr>\n",
              "    <tr>\n",
              "      <th>125</th>\n",
              "      <td>C5 Tourer</td>\n",
              "      <td>Motor Diesel V6</td>\n",
              "      <td>1999</td>\n",
              "      <td>80187.0</td>\n",
              "      <td>False</td>\n",
              "      <td>['Rodas de liga', 'Sensor de chuva', 'Painel d...</td>\n",
              "      <td>147627.81</td>\n",
              "    </tr>\n",
              "    <tr>\n",
              "      <th>126</th>\n",
              "      <td>R8 GT</td>\n",
              "      <td>Motor 4.0 Turbo</td>\n",
              "      <td>2019</td>\n",
              "      <td>NaN</td>\n",
              "      <td>True</td>\n",
              "      <td>['Rodas de liga', 'Câmbio automático', 'Sensor...</td>\n",
              "      <td>62999.02</td>\n",
              "    </tr>\n",
              "    <tr>\n",
              "      <th>127</th>\n",
              "      <td>Bongo</td>\n",
              "      <td>Motor Diesel V8</td>\n",
              "      <td>2009</td>\n",
              "      <td>58212.0</td>\n",
              "      <td>False</td>\n",
              "      <td>['Vidros elétricos', 'Teto panorâmico', 'Paine...</td>\n",
              "      <td>91242.44</td>\n",
              "    </tr>\n",
              "    <tr>\n",
              "      <th>128</th>\n",
              "      <td>ASX</td>\n",
              "      <td>Motor Diesel V8</td>\n",
              "      <td>2003</td>\n",
              "      <td>61672.0</td>\n",
              "      <td>False</td>\n",
              "      <td>['Ar condicionado', 'Sensor crepuscular', 'Rod...</td>\n",
              "      <td>149489.92</td>\n",
              "    </tr>\n",
              "    <tr>\n",
              "      <th>129</th>\n",
              "      <td>Cadillac SRX</td>\n",
              "      <td>Motor 5.0 V8 Bi-Turbo</td>\n",
              "      <td>1994</td>\n",
              "      <td>32017.0</td>\n",
              "      <td>False</td>\n",
              "      <td>['Painel digital', 'Piloto automático', 'Contr...</td>\n",
              "      <td>63529.95</td>\n",
              "    </tr>\n",
              "    <tr>\n",
              "      <th>130</th>\n",
              "      <td>Classe CL</td>\n",
              "      <td>Motor V8</td>\n",
              "      <td>2019</td>\n",
              "      <td>NaN</td>\n",
              "      <td>True</td>\n",
              "      <td>['Central multimídia', 'Câmbio automático', '4...</td>\n",
              "      <td>58525.41</td>\n",
              "    </tr>\n",
              "    <tr>\n",
              "      <th>131</th>\n",
              "      <td>500 Abarth</td>\n",
              "      <td>Motor V6</td>\n",
              "      <td>1994</td>\n",
              "      <td>56944.0</td>\n",
              "      <td>False</td>\n",
              "      <td>['4 X 4', 'Teto panorâmico', 'Controle de traç...</td>\n",
              "      <td>90345.05</td>\n",
              "    </tr>\n",
              "    <tr>\n",
              "      <th>132</th>\n",
              "      <td>Aston Martin Cygnet</td>\n",
              "      <td>Motor 5.0 V8 Bi-Turbo</td>\n",
              "      <td>2019</td>\n",
              "      <td>NaN</td>\n",
              "      <td>True</td>\n",
              "      <td>['Painel digital', 'Ar condicionado', 'Sensor ...</td>\n",
              "      <td>147770.87</td>\n",
              "    </tr>\n",
              "    <tr>\n",
              "      <th>133</th>\n",
              "      <td>Cadillac STS</td>\n",
              "      <td>Motor 4.0 Turbo</td>\n",
              "      <td>2015</td>\n",
              "      <td>86519.0</td>\n",
              "      <td>False</td>\n",
              "      <td>['Painel digital', 'Bancos de couro', 'Sensor ...</td>\n",
              "      <td>106617.71</td>\n",
              "    </tr>\n",
              "    <tr>\n",
              "      <th>134</th>\n",
              "      <td>Aston Martin DB9</td>\n",
              "      <td>Motor 1.8 16v</td>\n",
              "      <td>1996</td>\n",
              "      <td>4821.0</td>\n",
              "      <td>False</td>\n",
              "      <td>['Ar condicionado', 'Vidros elétricos', '4 X 4...</td>\n",
              "      <td>104929.88</td>\n",
              "    </tr>\n",
              "    <tr>\n",
              "      <th>135</th>\n",
              "      <td>NX 200t</td>\n",
              "      <td>Motor 2.4 Turbo</td>\n",
              "      <td>1997</td>\n",
              "      <td>101025.0</td>\n",
              "      <td>False</td>\n",
              "      <td>['Controle de estabilidade', 'Painel digital',...</td>\n",
              "      <td>100712.45</td>\n",
              "    </tr>\n",
              "    <tr>\n",
              "      <th>136</th>\n",
              "      <td>Aston Martin One-77</td>\n",
              "      <td>Motor V6</td>\n",
              "      <td>1993</td>\n",
              "      <td>30705.0</td>\n",
              "      <td>False</td>\n",
              "      <td>['Sensor de estacionamento', 'Rodas de liga', ...</td>\n",
              "      <td>141982.93</td>\n",
              "    </tr>\n",
              "    <tr>\n",
              "      <th>137</th>\n",
              "      <td>Lamborghini Veneno</td>\n",
              "      <td>Motor 3.0 32v</td>\n",
              "      <td>2019</td>\n",
              "      <td>NaN</td>\n",
              "      <td>True</td>\n",
              "      <td>['4 X 4', 'Sensor de estacionamento', 'Câmbio ...</td>\n",
              "      <td>104038.79</td>\n",
              "    </tr>\n",
              "    <tr>\n",
              "      <th>138</th>\n",
              "      <td>Sentra</td>\n",
              "      <td>Motor 2.0 16v</td>\n",
              "      <td>1992</td>\n",
              "      <td>32555.0</td>\n",
              "      <td>False</td>\n",
              "      <td>['Piloto automático', 'Sensor crepuscular', 'T...</td>\n",
              "      <td>88501.54</td>\n",
              "    </tr>\n",
              "    <tr>\n",
              "      <th>139</th>\n",
              "      <td>Jumper</td>\n",
              "      <td>Motor 2.4 Turbo</td>\n",
              "      <td>1995</td>\n",
              "      <td>103389.0</td>\n",
              "      <td>False</td>\n",
              "      <td>['Ar condicionado', 'Rodas de liga', 'Câmbio a...</td>\n",
              "      <td>79782.02</td>\n",
              "    </tr>\n",
              "    <tr>\n",
              "      <th>140</th>\n",
              "      <td>i30</td>\n",
              "      <td>Motor 1.8 16v</td>\n",
              "      <td>2019</td>\n",
              "      <td>NaN</td>\n",
              "      <td>True</td>\n",
              "      <td>['Câmbio automático', 'Controle de estabilidad...</td>\n",
              "      <td>86224.10</td>\n",
              "    </tr>\n",
              "    <tr>\n",
              "      <th>141</th>\n",
              "      <td>X6</td>\n",
              "      <td>Motor Diesel V6</td>\n",
              "      <td>1990</td>\n",
              "      <td>55289.0</td>\n",
              "      <td>False</td>\n",
              "      <td>['Câmera de estacionamento', 'Travas elétricas...</td>\n",
              "      <td>103596.18</td>\n",
              "    </tr>\n",
              "    <tr>\n",
              "      <th>142</th>\n",
              "      <td>Voyage</td>\n",
              "      <td>Motor 5.0 V8 Bi-Turbo</td>\n",
              "      <td>2019</td>\n",
              "      <td>NaN</td>\n",
              "      <td>True</td>\n",
              "      <td>['Ar condicionado', 'Sensor de estacionamento'...</td>\n",
              "      <td>148996.47</td>\n",
              "    </tr>\n",
              "    <tr>\n",
              "      <th>143</th>\n",
              "      <td>Phantom I Phantom II</td>\n",
              "      <td>Motor 1.8 16v</td>\n",
              "      <td>2019</td>\n",
              "      <td>NaN</td>\n",
              "      <td>True</td>\n",
              "      <td>['Piloto automático', 'Freios ABS', 'Painel di...</td>\n",
              "      <td>60948.01</td>\n",
              "    </tr>\n",
              "    <tr>\n",
              "      <th>144</th>\n",
              "      <td>Passat Variant</td>\n",
              "      <td>Motor 1.0 8v</td>\n",
              "      <td>1991</td>\n",
              "      <td>115930.0</td>\n",
              "      <td>False</td>\n",
              "      <td>['Freios ABS', 'Rodas de liga', 'Piloto automá...</td>\n",
              "      <td>69535.44</td>\n",
              "    </tr>\n",
              "    <tr>\n",
              "      <th>145</th>\n",
              "      <td>Clio</td>\n",
              "      <td>Motor Diesel</td>\n",
              "      <td>1990</td>\n",
              "      <td>66437.0</td>\n",
              "      <td>False</td>\n",
              "      <td>['4 X 4', 'Câmbio automático', 'Freios ABS', '...</td>\n",
              "      <td>111130.33</td>\n",
              "    </tr>\n",
              "    <tr>\n",
              "      <th>146</th>\n",
              "      <td>Classe G</td>\n",
              "      <td>Motor Diesel V6</td>\n",
              "      <td>2012</td>\n",
              "      <td>96800.0</td>\n",
              "      <td>False</td>\n",
              "      <td>['Controle de estabilidade', 'Central multimíd...</td>\n",
              "      <td>65847.69</td>\n",
              "    </tr>\n",
              "    <tr>\n",
              "      <th>147</th>\n",
              "      <td>Silver Ghost</td>\n",
              "      <td>Motor 1.8 16v</td>\n",
              "      <td>2007</td>\n",
              "      <td>14237.0</td>\n",
              "      <td>False</td>\n",
              "      <td>['Travas elétricas', 'Painel digital', 'Câmera...</td>\n",
              "      <td>78096.06</td>\n",
              "    </tr>\n",
              "    <tr>\n",
              "      <th>148</th>\n",
              "      <td>Série 3 M3 Coupé</td>\n",
              "      <td>Motor Diesel</td>\n",
              "      <td>2013</td>\n",
              "      <td>19896.0</td>\n",
              "      <td>False</td>\n",
              "      <td>['Bancos de couro', 'Sensor de chuva', 'Ar con...</td>\n",
              "      <td>69219.89</td>\n",
              "    </tr>\n",
              "    <tr>\n",
              "      <th>149</th>\n",
              "      <td>Gallardo LP 560 – 4</td>\n",
              "      <td>Motor Diesel</td>\n",
              "      <td>2000</td>\n",
              "      <td>113045.0</td>\n",
              "      <td>False</td>\n",
              "      <td>['Freios ABS', 'Teto panorâmico', 'Central mul...</td>\n",
              "      <td>144118.91</td>\n",
              "    </tr>\n",
              "    <tr>\n",
              "      <th>150</th>\n",
              "      <td>Freelander 2</td>\n",
              "      <td>Motor Diesel V6</td>\n",
              "      <td>2002</td>\n",
              "      <td>114942.0</td>\n",
              "      <td>False</td>\n",
              "      <td>['4 X 4', 'Câmera de estacionamento', 'Sensor ...</td>\n",
              "      <td>77397.05</td>\n",
              "    </tr>\n",
              "    <tr>\n",
              "      <th>151</th>\n",
              "      <td>Grand Cherokee</td>\n",
              "      <td>Motor 5.0 V8 Bi-Turbo</td>\n",
              "      <td>1996</td>\n",
              "      <td>3173.0</td>\n",
              "      <td>False</td>\n",
              "      <td>['Câmbio automático', 'Travas elétricas', 'Sen...</td>\n",
              "      <td>68974.25</td>\n",
              "    </tr>\n",
              "    <tr>\n",
              "      <th>152</th>\n",
              "      <td>Aston Martin DBR9</td>\n",
              "      <td>Motor 4.0 Turbo</td>\n",
              "      <td>1996</td>\n",
              "      <td>83611.0</td>\n",
              "      <td>False</td>\n",
              "      <td>['Controle de estabilidade', 'Sensor de estaci...</td>\n",
              "      <td>125231.30</td>\n",
              "    </tr>\n",
              "    <tr>\n",
              "      <th>153</th>\n",
              "      <td>Soul</td>\n",
              "      <td>Motor 5.0 V8 Bi-Turbo</td>\n",
              "      <td>2015</td>\n",
              "      <td>25356.0</td>\n",
              "      <td>False</td>\n",
              "      <td>['Sensor crepuscular', 'Piloto automático', 'S...</td>\n",
              "      <td>85501.12</td>\n",
              "    </tr>\n",
              "    <tr>\n",
              "      <th>154</th>\n",
              "      <td>Cadillac BLS</td>\n",
              "      <td>Motor V8</td>\n",
              "      <td>1993</td>\n",
              "      <td>88634.0</td>\n",
              "      <td>False</td>\n",
              "      <td>['Teto panorâmico', 'Controle de estabilidade'...</td>\n",
              "      <td>137116.21</td>\n",
              "    </tr>\n",
              "    <tr>\n",
              "      <th>155</th>\n",
              "      <td>RX 350</td>\n",
              "      <td>Motor V6</td>\n",
              "      <td>2013</td>\n",
              "      <td>2314.0</td>\n",
              "      <td>False</td>\n",
              "      <td>['Piloto automático', 'Sensor crepuscular', 'A...</td>\n",
              "      <td>138823.81</td>\n",
              "    </tr>\n",
              "    <tr>\n",
              "      <th>156</th>\n",
              "      <td>Cayman</td>\n",
              "      <td>Motor 3.0 32v</td>\n",
              "      <td>2013</td>\n",
              "      <td>2627.0</td>\n",
              "      <td>False</td>\n",
              "      <td>['Central multimídia', 'Painel digital', 'Sens...</td>\n",
              "      <td>117961.95</td>\n",
              "    </tr>\n",
              "    <tr>\n",
              "      <th>157</th>\n",
              "      <td>Chana Utility</td>\n",
              "      <td>Motor Diesel</td>\n",
              "      <td>2009</td>\n",
              "      <td>52034.0</td>\n",
              "      <td>False</td>\n",
              "      <td>['Ar condicionado', 'Sensor de estacionamento'...</td>\n",
              "      <td>132662.32</td>\n",
              "    </tr>\n",
              "    <tr>\n",
              "      <th>158</th>\n",
              "      <td>308 CC</td>\n",
              "      <td>Motor 4.0 Turbo</td>\n",
              "      <td>2019</td>\n",
              "      <td>NaN</td>\n",
              "      <td>True</td>\n",
              "      <td>['Câmera de estacionamento', 'Bancos de couro'...</td>\n",
              "      <td>146405.79</td>\n",
              "    </tr>\n",
              "    <tr>\n",
              "      <th>159</th>\n",
              "      <td>L200 Triton</td>\n",
              "      <td>Motor Diesel V8</td>\n",
              "      <td>2019</td>\n",
              "      <td>NaN</td>\n",
              "      <td>True</td>\n",
              "      <td>['Vidros elétricos', 'Ar condicionado', 'Paine...</td>\n",
              "      <td>81999.21</td>\n",
              "    </tr>\n",
              "    <tr>\n",
              "      <th>160</th>\n",
              "      <td>Jetta</td>\n",
              "      <td>Motor 5.0 V8 Bi-Turbo</td>\n",
              "      <td>2002</td>\n",
              "      <td>79577.0</td>\n",
              "      <td>False</td>\n",
              "      <td>['Central multimídia', 'Vidros elétricos', 'Câ...</td>\n",
              "      <td>140934.60</td>\n",
              "    </tr>\n",
              "    <tr>\n",
              "      <th>161</th>\n",
              "      <td>C4 Lounge</td>\n",
              "      <td>Motor V8</td>\n",
              "      <td>1997</td>\n",
              "      <td>108201.0</td>\n",
              "      <td>False</td>\n",
              "      <td>['Central multimídia', 'Controle de tração', '...</td>\n",
              "      <td>82366.81</td>\n",
              "    </tr>\n",
              "    <tr>\n",
              "      <th>162</th>\n",
              "      <td>C4 Pallas</td>\n",
              "      <td>Motor 1.0 8v</td>\n",
              "      <td>1998</td>\n",
              "      <td>76453.0</td>\n",
              "      <td>False</td>\n",
              "      <td>['4 X 4', 'Freios ABS', 'Sensor de chuva', 'Ro...</td>\n",
              "      <td>70424.11</td>\n",
              "    </tr>\n",
              "    <tr>\n",
              "      <th>163</th>\n",
              "      <td>Equus</td>\n",
              "      <td>Motor 3.0 32v</td>\n",
              "      <td>2004</td>\n",
              "      <td>57683.0</td>\n",
              "      <td>False</td>\n",
              "      <td>['Travas elétricas', 'Rodas de liga', '4 X 4',...</td>\n",
              "      <td>53620.31</td>\n",
              "    </tr>\n",
              "    <tr>\n",
              "      <th>164</th>\n",
              "      <td>Classe GL</td>\n",
              "      <td>Motor 3.0 32v</td>\n",
              "      <td>1996</td>\n",
              "      <td>96610.0</td>\n",
              "      <td>False</td>\n",
              "      <td>['Freios ABS', 'Câmera de estacionamento', 'Tr...</td>\n",
              "      <td>73389.18</td>\n",
              "    </tr>\n",
              "    <tr>\n",
              "      <th>165</th>\n",
              "      <td>Range Rover Evoque</td>\n",
              "      <td>Motor 2.0 16v</td>\n",
              "      <td>2015</td>\n",
              "      <td>109001.0</td>\n",
              "      <td>False</td>\n",
              "      <td>['Rodas de liga', 'Teto panorâmico', 'Sensor d...</td>\n",
              "      <td>111618.12</td>\n",
              "    </tr>\n",
              "    <tr>\n",
              "      <th>166</th>\n",
              "      <td>Cherokee</td>\n",
              "      <td>Motor 4.0 Turbo</td>\n",
              "      <td>2016</td>\n",
              "      <td>26212.0</td>\n",
              "      <td>False</td>\n",
              "      <td>['Painel digital', 'Travas elétricas', 'Rodas ...</td>\n",
              "      <td>112187.37</td>\n",
              "    </tr>\n",
              "    <tr>\n",
              "      <th>167</th>\n",
              "      <td>Punto</td>\n",
              "      <td>Motor 4.0 Turbo</td>\n",
              "      <td>2005</td>\n",
              "      <td>45971.0</td>\n",
              "      <td>False</td>\n",
              "      <td>['Central multimídia', 'Câmbio automático', 'P...</td>\n",
              "      <td>120812.57</td>\n",
              "    </tr>\n",
              "    <tr>\n",
              "      <th>168</th>\n",
              "      <td>Grand Tour</td>\n",
              "      <td>Motor 3.0 32v</td>\n",
              "      <td>1999</td>\n",
              "      <td>49182.0</td>\n",
              "      <td>False</td>\n",
              "      <td>['Rodas de liga', 'Travas elétricas', 'Bancos ...</td>\n",
              "      <td>116031.04</td>\n",
              "    </tr>\n",
              "    <tr>\n",
              "      <th>169</th>\n",
              "      <td>Fluence</td>\n",
              "      <td>Motor Diesel V6</td>\n",
              "      <td>1995</td>\n",
              "      <td>49907.0</td>\n",
              "      <td>False</td>\n",
              "      <td>['Sensor crepuscular', 'Teto panorâmico', 'Câm...</td>\n",
              "      <td>125398.11</td>\n",
              "    </tr>\n",
              "    <tr>\n",
              "      <th>170</th>\n",
              "      <td>Effa Hafei Picape Cabine Simples</td>\n",
              "      <td>Motor 1.0 8v</td>\n",
              "      <td>1993</td>\n",
              "      <td>38620.0</td>\n",
              "      <td>False</td>\n",
              "      <td>['Piloto automático', 'Ar condicionado', 'Cent...</td>\n",
              "      <td>76101.47</td>\n",
              "    </tr>\n",
              "    <tr>\n",
              "      <th>171</th>\n",
              "      <td>Durango</td>\n",
              "      <td>Motor 2.0 16v</td>\n",
              "      <td>2004</td>\n",
              "      <td>60996.0</td>\n",
              "      <td>False</td>\n",
              "      <td>['Bancos de couro', 'Painel digital', 'Câmbio ...</td>\n",
              "      <td>75263.24</td>\n",
              "    </tr>\n",
              "    <tr>\n",
              "      <th>172</th>\n",
              "      <td>Boxster</td>\n",
              "      <td>Motor Diesel V8</td>\n",
              "      <td>2013</td>\n",
              "      <td>73914.0</td>\n",
              "      <td>False</td>\n",
              "      <td>['Teto panorâmico', 'Sensor crepuscular', 'Ban...</td>\n",
              "      <td>147387.76</td>\n",
              "    </tr>\n",
              "    <tr>\n",
              "      <th>173</th>\n",
              "      <td>TT Roadster</td>\n",
              "      <td>Motor Diesel</td>\n",
              "      <td>1998</td>\n",
              "      <td>107392.0</td>\n",
              "      <td>False</td>\n",
              "      <td>['Ar condicionado', 'Sensor de estacionamento'...</td>\n",
              "      <td>85311.40</td>\n",
              "    </tr>\n",
              "    <tr>\n",
              "      <th>174</th>\n",
              "      <td>Lamborghini Jalpa</td>\n",
              "      <td>Motor 1.8 16v</td>\n",
              "      <td>2018</td>\n",
              "      <td>9146.0</td>\n",
              "      <td>False</td>\n",
              "      <td>['Piloto automático', 'Freios ABS', 'Sensor de...</td>\n",
              "      <td>54388.11</td>\n",
              "    </tr>\n",
              "    <tr>\n",
              "      <th>175</th>\n",
              "      <td>Classe SLK</td>\n",
              "      <td>Motor 4.0 Turbo</td>\n",
              "      <td>2019</td>\n",
              "      <td>NaN</td>\n",
              "      <td>True</td>\n",
              "      <td>['4 X 4', 'Sensor de estacionamento', 'Control...</td>\n",
              "      <td>124156.65</td>\n",
              "    </tr>\n",
              "    <tr>\n",
              "      <th>176</th>\n",
              "      <td>Golf</td>\n",
              "      <td>Motor 1.0 8v</td>\n",
              "      <td>2018</td>\n",
              "      <td>17924.0</td>\n",
              "      <td>False</td>\n",
              "      <td>['Rodas de liga', 'Controle de tração', 'Senso...</td>\n",
              "      <td>146203.34</td>\n",
              "    </tr>\n",
              "    <tr>\n",
              "      <th>177</th>\n",
              "      <td>C3 Picasso</td>\n",
              "      <td>Motor 3.0 32v</td>\n",
              "      <td>2019</td>\n",
              "      <td>NaN</td>\n",
              "      <td>True</td>\n",
              "      <td>['Teto panorâmico', 'Sensor crepuscular', 'Sen...</td>\n",
              "      <td>56453.94</td>\n",
              "    </tr>\n",
              "    <tr>\n",
              "      <th>178</th>\n",
              "      <td>V50</td>\n",
              "      <td>Motor 2.0 16v</td>\n",
              "      <td>1990</td>\n",
              "      <td>116949.0</td>\n",
              "      <td>False</td>\n",
              "      <td>['Teto panorâmico', 'Câmera de estacionamento'...</td>\n",
              "      <td>68873.79</td>\n",
              "    </tr>\n",
              "    <tr>\n",
              "      <th>179</th>\n",
              "      <td>Picanto</td>\n",
              "      <td>Motor 4.0 Turbo</td>\n",
              "      <td>2009</td>\n",
              "      <td>20476.0</td>\n",
              "      <td>False</td>\n",
              "      <td>['Painel digital', 'Controle de estabilidade',...</td>\n",
              "      <td>91667.61</td>\n",
              "    </tr>\n",
              "    <tr>\n",
              "      <th>180</th>\n",
              "      <td>Cadenza</td>\n",
              "      <td>Motor Diesel V6</td>\n",
              "      <td>1990</td>\n",
              "      <td>52804.0</td>\n",
              "      <td>False</td>\n",
              "      <td>['Sensor crepuscular', 'Controle de estabilida...</td>\n",
              "      <td>93776.52</td>\n",
              "    </tr>\n",
              "    <tr>\n",
              "      <th>181</th>\n",
              "      <td>Etios Sedã</td>\n",
              "      <td>Motor 5.0 V8 Bi-Turbo</td>\n",
              "      <td>2006</td>\n",
              "      <td>8849.0</td>\n",
              "      <td>False</td>\n",
              "      <td>['Ar condicionado', 'Vidros elétricos', 'Senso...</td>\n",
              "      <td>66433.82</td>\n",
              "    </tr>\n",
              "    <tr>\n",
              "      <th>182</th>\n",
              "      <td>Alsvin</td>\n",
              "      <td>Motor Diesel V8</td>\n",
              "      <td>2002</td>\n",
              "      <td>91724.0</td>\n",
              "      <td>False</td>\n",
              "      <td>['Central multimídia', 'Controle de estabilida...</td>\n",
              "      <td>109059.27</td>\n",
              "    </tr>\n",
              "    <tr>\n",
              "      <th>183</th>\n",
              "      <td>Cadillac ATS</td>\n",
              "      <td>Motor Diesel V6</td>\n",
              "      <td>1991</td>\n",
              "      <td>32056.0</td>\n",
              "      <td>False</td>\n",
              "      <td>['Piloto automático', 'Rodas de liga', '4 X 4'...</td>\n",
              "      <td>122069.97</td>\n",
              "    </tr>\n",
              "    <tr>\n",
              "      <th>184</th>\n",
              "      <td>Série 3 M3 Sedã</td>\n",
              "      <td>Motor Diesel V6</td>\n",
              "      <td>1992</td>\n",
              "      <td>74886.0</td>\n",
              "      <td>False</td>\n",
              "      <td>['Painel digital', 'Freios ABS', 'Ar condicion...</td>\n",
              "      <td>113090.32</td>\n",
              "    </tr>\n",
              "    <tr>\n",
              "      <th>185</th>\n",
              "      <td>Classe S</td>\n",
              "      <td>Motor 3.0 32v</td>\n",
              "      <td>2019</td>\n",
              "      <td>NaN</td>\n",
              "      <td>True</td>\n",
              "      <td>['Controle de tração', 'Teto panorâmico', 'Câm...</td>\n",
              "      <td>89401.10</td>\n",
              "    </tr>\n",
              "    <tr>\n",
              "      <th>186</th>\n",
              "      <td>T6</td>\n",
              "      <td>Motor 3.0 32v</td>\n",
              "      <td>2019</td>\n",
              "      <td>NaN</td>\n",
              "      <td>True</td>\n",
              "      <td>['Sensor de chuva', 'Câmera de estacionamento'...</td>\n",
              "      <td>56842.79</td>\n",
              "    </tr>\n",
              "    <tr>\n",
              "      <th>187</th>\n",
              "      <td>Aston Martin DB7</td>\n",
              "      <td>Motor Diesel V8</td>\n",
              "      <td>2005</td>\n",
              "      <td>52189.0</td>\n",
              "      <td>False</td>\n",
              "      <td>['Travas elétricas', 'Painel digital', 'Sensor...</td>\n",
              "      <td>146676.71</td>\n",
              "    </tr>\n",
              "    <tr>\n",
              "      <th>188</th>\n",
              "      <td>207 Sedan</td>\n",
              "      <td>Motor 4.0 Turbo</td>\n",
              "      <td>2010</td>\n",
              "      <td>83559.0</td>\n",
              "      <td>False</td>\n",
              "      <td>['Controle de tração', 'Central multimídia', '...</td>\n",
              "      <td>89511.96</td>\n",
              "    </tr>\n",
              "    <tr>\n",
              "      <th>189</th>\n",
              "      <td>Aston Martin Virage</td>\n",
              "      <td>Motor Diesel</td>\n",
              "      <td>2019</td>\n",
              "      <td>NaN</td>\n",
              "      <td>True</td>\n",
              "      <td>['Travas elétricas', 'Controle de tração', 'Câ...</td>\n",
              "      <td>97290.18</td>\n",
              "    </tr>\n",
              "    <tr>\n",
              "      <th>190</th>\n",
              "      <td>Azera</td>\n",
              "      <td>Motor 1.8 16v</td>\n",
              "      <td>2016</td>\n",
              "      <td>20328.0</td>\n",
              "      <td>False</td>\n",
              "      <td>['Bancos de couro', 'Controle de tração', 'Ar ...</td>\n",
              "      <td>120673.56</td>\n",
              "    </tr>\n",
              "    <tr>\n",
              "      <th>191</th>\n",
              "      <td>Vantage Volante</td>\n",
              "      <td>Motor Diesel V8</td>\n",
              "      <td>2019</td>\n",
              "      <td>NaN</td>\n",
              "      <td>True</td>\n",
              "      <td>['Freios ABS', 'Controle de tração', 'Central ...</td>\n",
              "      <td>114434.94</td>\n",
              "    </tr>\n",
              "    <tr>\n",
              "      <th>192</th>\n",
              "      <td>Siena EL</td>\n",
              "      <td>Motor V8</td>\n",
              "      <td>2010</td>\n",
              "      <td>75577.0</td>\n",
              "      <td>False</td>\n",
              "      <td>['Freios ABS', 'Sensor crepuscular', 'Controle...</td>\n",
              "      <td>139546.69</td>\n",
              "    </tr>\n",
              "    <tr>\n",
              "      <th>193</th>\n",
              "      <td>Palio Adventure</td>\n",
              "      <td>Motor Diesel V8</td>\n",
              "      <td>1994</td>\n",
              "      <td>33659.0</td>\n",
              "      <td>False</td>\n",
              "      <td>['Teto panorâmico', 'Central multimídia', 'Pil...</td>\n",
              "      <td>95078.16</td>\n",
              "    </tr>\n",
              "    <tr>\n",
              "      <th>194</th>\n",
              "      <td>HB20X</td>\n",
              "      <td>Motor V8</td>\n",
              "      <td>2001</td>\n",
              "      <td>104341.0</td>\n",
              "      <td>False</td>\n",
              "      <td>['Sensor crepuscular', 'Teto panorâmico', 'Pai...</td>\n",
              "      <td>68091.77</td>\n",
              "    </tr>\n",
              "    <tr>\n",
              "      <th>195</th>\n",
              "      <td>HR</td>\n",
              "      <td>Motor 5.0 V8 Bi-Turbo</td>\n",
              "      <td>2014</td>\n",
              "      <td>25510.0</td>\n",
              "      <td>False</td>\n",
              "      <td>['Controle de tração', 'Câmbio automático', '4...</td>\n",
              "      <td>61496.97</td>\n",
              "    </tr>\n",
              "    <tr>\n",
              "      <th>196</th>\n",
              "      <td>Cadillac STS V-Series</td>\n",
              "      <td>Motor 2.0 16v</td>\n",
              "      <td>1996</td>\n",
              "      <td>18965.0</td>\n",
              "      <td>False</td>\n",
              "      <td>['Vidros elétricos', 'Piloto automático', 'Câm...</td>\n",
              "      <td>139669.30</td>\n",
              "    </tr>\n",
              "    <tr>\n",
              "      <th>197</th>\n",
              "      <td>Série 1 Coupé</td>\n",
              "      <td>Motor 1.0 8v</td>\n",
              "      <td>1993</td>\n",
              "      <td>87161.0</td>\n",
              "      <td>False</td>\n",
              "      <td>['Controle de estabilidade', 'Teto panorâmico'...</td>\n",
              "      <td>80661.39</td>\n",
              "    </tr>\n",
              "    <tr>\n",
              "      <th>198</th>\n",
              "      <td>SpaceFox</td>\n",
              "      <td>Motor V8</td>\n",
              "      <td>1993</td>\n",
              "      <td>6652.0</td>\n",
              "      <td>False</td>\n",
              "      <td>['Sensor crepuscular', '4 X 4', 'Painel digita...</td>\n",
              "      <td>61783.65</td>\n",
              "    </tr>\n",
              "    <tr>\n",
              "      <th>199</th>\n",
              "      <td>C30</td>\n",
              "      <td>Motor 1.0 8v</td>\n",
              "      <td>2001</td>\n",
              "      <td>55738.0</td>\n",
              "      <td>False</td>\n",
              "      <td>['Teto panorâmico', 'Freios ABS', 'Sensor crep...</td>\n",
              "      <td>52805.91</td>\n",
              "    </tr>\n",
              "    <tr>\n",
              "      <th>200</th>\n",
              "      <td>J3 Turin</td>\n",
              "      <td>Motor V6</td>\n",
              "      <td>2019</td>\n",
              "      <td>NaN</td>\n",
              "      <td>True</td>\n",
              "      <td>['Sensor crepuscular', 'Câmera de estacionamen...</td>\n",
              "      <td>127024.75</td>\n",
              "    </tr>\n",
              "    <tr>\n",
              "      <th>201</th>\n",
              "      <td>Classe B</td>\n",
              "      <td>Motor Diesel V8</td>\n",
              "      <td>2019</td>\n",
              "      <td>NaN</td>\n",
              "      <td>True</td>\n",
              "      <td>['4 X 4', 'Bancos de couro', 'Sensor crepuscul...</td>\n",
              "      <td>135543.00</td>\n",
              "    </tr>\n",
              "    <tr>\n",
              "      <th>202</th>\n",
              "      <td>Parati</td>\n",
              "      <td>Motor Diesel V8</td>\n",
              "      <td>2019</td>\n",
              "      <td>NaN</td>\n",
              "      <td>True</td>\n",
              "      <td>['Sensor de estacionamento', 'Piloto automátic...</td>\n",
              "      <td>121708.73</td>\n",
              "    </tr>\n",
              "    <tr>\n",
              "      <th>203</th>\n",
              "      <td>Cadillac CTS V-Series</td>\n",
              "      <td>Motor 4.0 Turbo</td>\n",
              "      <td>2007</td>\n",
              "      <td>64320.0</td>\n",
              "      <td>False</td>\n",
              "      <td>['Piloto automático', 'Ar condicionado', 'Cent...</td>\n",
              "      <td>107342.68</td>\n",
              "    </tr>\n",
              "    <tr>\n",
              "      <th>204</th>\n",
              "      <td>Sedan</td>\n",
              "      <td>Motor V8</td>\n",
              "      <td>2019</td>\n",
              "      <td>NaN</td>\n",
              "      <td>True</td>\n",
              "      <td>['Bancos de couro', 'Central multimídia', 'Fre...</td>\n",
              "      <td>57888.10</td>\n",
              "    </tr>\n",
              "    <tr>\n",
              "      <th>205</th>\n",
              "      <td>Classe CLS 63 AMG</td>\n",
              "      <td>Motor Diesel V6</td>\n",
              "      <td>2016</td>\n",
              "      <td>68678.0</td>\n",
              "      <td>False</td>\n",
              "      <td>['Freios ABS', 'Vidros elétricos', 'Câmbio aut...</td>\n",
              "      <td>118161.48</td>\n",
              "    </tr>\n",
              "    <tr>\n",
              "      <th>206</th>\n",
              "      <td>Aircross</td>\n",
              "      <td>Motor 1.0 8v</td>\n",
              "      <td>2014</td>\n",
              "      <td>71697.0</td>\n",
              "      <td>False</td>\n",
              "      <td>['Controle de tração', 'Piloto automático', 'C...</td>\n",
              "      <td>142499.06</td>\n",
              "    </tr>\n",
              "    <tr>\n",
              "      <th>207</th>\n",
              "      <td>Aston Martin V12 Vantage</td>\n",
              "      <td>Motor V8</td>\n",
              "      <td>2019</td>\n",
              "      <td>NaN</td>\n",
              "      <td>True</td>\n",
              "      <td>['Bancos de couro', 'Central multimídia', 'Con...</td>\n",
              "      <td>128396.11</td>\n",
              "    </tr>\n",
              "    <tr>\n",
              "      <th>208</th>\n",
              "      <td>Sandero</td>\n",
              "      <td>Motor Diesel</td>\n",
              "      <td>2015</td>\n",
              "      <td>34783.0</td>\n",
              "      <td>False</td>\n",
              "      <td>['Piloto automático', 'Teto panorâmico', 'Câmb...</td>\n",
              "      <td>112350.61</td>\n",
              "    </tr>\n",
              "    <tr>\n",
              "      <th>209</th>\n",
              "      <td>New Fiesta</td>\n",
              "      <td>Motor 5.0 V8 Bi-Turbo</td>\n",
              "      <td>2015</td>\n",
              "      <td>33772.0</td>\n",
              "      <td>False</td>\n",
              "      <td>['Controle de tração', 'Travas elétricas', '4 ...</td>\n",
              "      <td>124661.38</td>\n",
              "    </tr>\n",
              "    <tr>\n",
              "      <th>210</th>\n",
              "      <td>XKR</td>\n",
              "      <td>Motor Diesel</td>\n",
              "      <td>1996</td>\n",
              "      <td>85127.0</td>\n",
              "      <td>False</td>\n",
              "      <td>['Controle de tração', 'Ar condicionado', 'Tra...</td>\n",
              "      <td>54263.16</td>\n",
              "    </tr>\n",
              "    <tr>\n",
              "      <th>211</th>\n",
              "      <td>X5</td>\n",
              "      <td>Motor Diesel</td>\n",
              "      <td>2002</td>\n",
              "      <td>13606.0</td>\n",
              "      <td>False</td>\n",
              "      <td>['Controle de tração', 'Piloto automático', 'T...</td>\n",
              "      <td>62041.32</td>\n",
              "    </tr>\n",
              "    <tr>\n",
              "      <th>212</th>\n",
              "      <td>Cadillac DTS</td>\n",
              "      <td>Motor 1.8 16v</td>\n",
              "      <td>2005</td>\n",
              "      <td>35647.0</td>\n",
              "      <td>False</td>\n",
              "      <td>['Central multimídia', 'Rodas de liga', 'Câmbi...</td>\n",
              "      <td>129296.11</td>\n",
              "    </tr>\n",
              "    <tr>\n",
              "      <th>213</th>\n",
              "      <td>Pajero Dakar</td>\n",
              "      <td>Motor 4.0 Turbo</td>\n",
              "      <td>1995</td>\n",
              "      <td>95128.0</td>\n",
              "      <td>False</td>\n",
              "      <td>['Piloto automático', 'Sensor de chuva', 'Cont...</td>\n",
              "      <td>60998.33</td>\n",
              "    </tr>\n",
              "    <tr>\n",
              "      <th>214</th>\n",
              "      <td>Classe A</td>\n",
              "      <td>Motor 1.0 8v</td>\n",
              "      <td>1999</td>\n",
              "      <td>14046.0</td>\n",
              "      <td>False</td>\n",
              "      <td>['Controle de tração', 'Central multimídia', '...</td>\n",
              "      <td>58008.50</td>\n",
              "    </tr>\n",
              "    <tr>\n",
              "      <th>215</th>\n",
              "      <td>Ford Focus Fastback</td>\n",
              "      <td>Motor 4.0 Turbo</td>\n",
              "      <td>2005</td>\n",
              "      <td>41194.0</td>\n",
              "      <td>False</td>\n",
              "      <td>['Bancos de couro', 'Câmera de estacionamento'...</td>\n",
              "      <td>82304.19</td>\n",
              "    </tr>\n",
              "    <tr>\n",
              "      <th>216</th>\n",
              "      <td>Partner</td>\n",
              "      <td>Motor 2.4 Turbo</td>\n",
              "      <td>2019</td>\n",
              "      <td>NaN</td>\n",
              "      <td>True</td>\n",
              "      <td>['Central multimídia', 'Controle de tração', '...</td>\n",
              "      <td>114531.74</td>\n",
              "    </tr>\n",
              "    <tr>\n",
              "      <th>217</th>\n",
              "      <td>R8</td>\n",
              "      <td>Motor V6</td>\n",
              "      <td>1997</td>\n",
              "      <td>96100.0</td>\n",
              "      <td>False</td>\n",
              "      <td>['4 X 4', 'Controle de estabilidade', 'Câmera ...</td>\n",
              "      <td>128565.61</td>\n",
              "    </tr>\n",
              "    <tr>\n",
              "      <th>218</th>\n",
              "      <td>Aston Martin DBS Volante</td>\n",
              "      <td>Motor 4.0 Turbo</td>\n",
              "      <td>1990</td>\n",
              "      <td>103900.0</td>\n",
              "      <td>False</td>\n",
              "      <td>['Central multimídia', 'Controle de estabilida...</td>\n",
              "      <td>126488.26</td>\n",
              "    </tr>\n",
              "    <tr>\n",
              "      <th>219</th>\n",
              "      <td>Mohave</td>\n",
              "      <td>Motor Diesel V6</td>\n",
              "      <td>2001</td>\n",
              "      <td>43814.0</td>\n",
              "      <td>False</td>\n",
              "      <td>['Travas elétricas', 'Central multimídia', 'Pa...</td>\n",
              "      <td>119074.55</td>\n",
              "    </tr>\n",
              "    <tr>\n",
              "      <th>220</th>\n",
              "      <td>Fusca</td>\n",
              "      <td>Motor 3.0 32v</td>\n",
              "      <td>2013</td>\n",
              "      <td>24638.0</td>\n",
              "      <td>False</td>\n",
              "      <td>['Câmbio automático', 'Teto panorâmico', 'Sens...</td>\n",
              "      <td>130238.04</td>\n",
              "    </tr>\n",
              "    <tr>\n",
              "      <th>221</th>\n",
              "      <td>Chana Family</td>\n",
              "      <td>Motor V8</td>\n",
              "      <td>2019</td>\n",
              "      <td>NaN</td>\n",
              "      <td>True</td>\n",
              "      <td>['Piloto automático', 'Teto panorâmico', 'Sens...</td>\n",
              "      <td>115760.17</td>\n",
              "    </tr>\n",
              "    <tr>\n",
              "      <th>222</th>\n",
              "      <td>XC40</td>\n",
              "      <td>Motor 2.4 Turbo</td>\n",
              "      <td>2017</td>\n",
              "      <td>110966.0</td>\n",
              "      <td>False</td>\n",
              "      <td>['Sensor de chuva', 'Central multimídia', 'Vid...</td>\n",
              "      <td>121248.00</td>\n",
              "    </tr>\n",
              "    <tr>\n",
              "      <th>223</th>\n",
              "      <td>Phantom I Jonckheere Aerodynamic Coupe</td>\n",
              "      <td>Motor 1.8 16v</td>\n",
              "      <td>2011</td>\n",
              "      <td>15987.0</td>\n",
              "      <td>False</td>\n",
              "      <td>['Sensor crepuscular', 'Travas elétricas', 'Pi...</td>\n",
              "      <td>98156.35</td>\n",
              "    </tr>\n",
              "    <tr>\n",
              "      <th>224</th>\n",
              "      <td>Boxer</td>\n",
              "      <td>Motor V6</td>\n",
              "      <td>2005</td>\n",
              "      <td>53369.0</td>\n",
              "      <td>False</td>\n",
              "      <td>['Travas elétricas', 'Piloto automático', 'Vid...</td>\n",
              "      <td>112146.80</td>\n",
              "    </tr>\n",
              "    <tr>\n",
              "      <th>225</th>\n",
              "      <td>Chana Cargo</td>\n",
              "      <td>Motor 2.0 16v</td>\n",
              "      <td>2007</td>\n",
              "      <td>10077.0</td>\n",
              "      <td>False</td>\n",
              "      <td>['Teto panorâmico', '4 X 4', 'Central multimíd...</td>\n",
              "      <td>102729.63</td>\n",
              "    </tr>\n",
              "    <tr>\n",
              "      <th>226</th>\n",
              "      <td>Dodge Dakota</td>\n",
              "      <td>Motor Diesel</td>\n",
              "      <td>1993</td>\n",
              "      <td>71544.0</td>\n",
              "      <td>False</td>\n",
              "      <td>['Controle de tração', 'Sensor de estacionamen...</td>\n",
              "      <td>141083.35</td>\n",
              "    </tr>\n",
              "    <tr>\n",
              "      <th>227</th>\n",
              "      <td>X1</td>\n",
              "      <td>Motor Diesel V8</td>\n",
              "      <td>1991</td>\n",
              "      <td>107.0</td>\n",
              "      <td>False</td>\n",
              "      <td>['4 X 4', 'Teto panorâmico', 'Ar condicionado'...</td>\n",
              "      <td>102968.76</td>\n",
              "    </tr>\n",
              "    <tr>\n",
              "      <th>228</th>\n",
              "      <td>GLA</td>\n",
              "      <td>Motor 1.0 8v</td>\n",
              "      <td>1991</td>\n",
              "      <td>8394.0</td>\n",
              "      <td>False</td>\n",
              "      <td>['Sensor de chuva', 'Câmera de estacionamento'...</td>\n",
              "      <td>76310.01</td>\n",
              "    </tr>\n",
              "    <tr>\n",
              "      <th>229</th>\n",
              "      <td>Range Rover Sport</td>\n",
              "      <td>Motor 1.0 8v</td>\n",
              "      <td>1997</td>\n",
              "      <td>41498.0</td>\n",
              "      <td>False</td>\n",
              "      <td>['Sensor de estacionamento', 'Câmera de estaci...</td>\n",
              "      <td>120481.74</td>\n",
              "    </tr>\n",
              "    <tr>\n",
              "      <th>230</th>\n",
              "      <td>DS3</td>\n",
              "      <td>Motor 1.8 16v</td>\n",
              "      <td>2000</td>\n",
              "      <td>116002.0</td>\n",
              "      <td>False</td>\n",
              "      <td>['Controle de estabilidade', 'Ar condicionado'...</td>\n",
              "      <td>54559.18</td>\n",
              "    </tr>\n",
              "    <tr>\n",
              "      <th>231</th>\n",
              "      <td>Veracruz</td>\n",
              "      <td>Motor Diesel V8</td>\n",
              "      <td>2007</td>\n",
              "      <td>100858.0</td>\n",
              "      <td>False</td>\n",
              "      <td>['Controle de estabilidade', 'Câmera de estaci...</td>\n",
              "      <td>92957.64</td>\n",
              "    </tr>\n",
              "    <tr>\n",
              "      <th>232</th>\n",
              "      <td>Cadillac CTS coupe, sedan, and wagon</td>\n",
              "      <td>Motor V8</td>\n",
              "      <td>2006</td>\n",
              "      <td>67475.0</td>\n",
              "      <td>False</td>\n",
              "      <td>['Sensor de chuva', 'Sensor de estacionamento'...</td>\n",
              "      <td>127810.06</td>\n",
              "    </tr>\n",
              "    <tr>\n",
              "      <th>233</th>\n",
              "      <td>i30 CW</td>\n",
              "      <td>Motor Diesel</td>\n",
              "      <td>2015</td>\n",
              "      <td>8497.0</td>\n",
              "      <td>False</td>\n",
              "      <td>['Sensor de chuva', 'Vidros elétricos', 'Contr...</td>\n",
              "      <td>73311.75</td>\n",
              "    </tr>\n",
              "    <tr>\n",
              "      <th>234</th>\n",
              "      <td>Phantom III</td>\n",
              "      <td>Motor Diesel V6</td>\n",
              "      <td>2008</td>\n",
              "      <td>4420.0</td>\n",
              "      <td>False</td>\n",
              "      <td>['Vidros elétricos', 'Bancos de couro', 'Pilot...</td>\n",
              "      <td>65138.03</td>\n",
              "    </tr>\n",
              "    <tr>\n",
              "      <th>235</th>\n",
              "      <td>A3 Sedan</td>\n",
              "      <td>Motor V6</td>\n",
              "      <td>2019</td>\n",
              "      <td>NaN</td>\n",
              "      <td>True</td>\n",
              "      <td>['Ar condicionado', 'Sensor de chuva', 'Travas...</td>\n",
              "      <td>90141.47</td>\n",
              "    </tr>\n",
              "    <tr>\n",
              "      <th>236</th>\n",
              "      <td>Aston Martin DB9 Volante</td>\n",
              "      <td>Motor 2.0 16v</td>\n",
              "      <td>1996</td>\n",
              "      <td>58537.0</td>\n",
              "      <td>False</td>\n",
              "      <td>['Central multimídia', 'Bancos de couro', 'Câm...</td>\n",
              "      <td>71160.36</td>\n",
              "    </tr>\n",
              "    <tr>\n",
              "      <th>237</th>\n",
              "      <td>Série 7 Sedã</td>\n",
              "      <td>Motor Diesel</td>\n",
              "      <td>2019</td>\n",
              "      <td>NaN</td>\n",
              "      <td>True</td>\n",
              "      <td>['Vidros elétricos', 'Travas elétricas', 'Roda...</td>\n",
              "      <td>67539.79</td>\n",
              "    </tr>\n",
              "    <tr>\n",
              "      <th>238</th>\n",
              "      <td>Lamborghini Reventón</td>\n",
              "      <td>Motor 4.0 Turbo</td>\n",
              "      <td>2019</td>\n",
              "      <td>NaN</td>\n",
              "      <td>True</td>\n",
              "      <td>['Controle de tração', 'Ar condicionado', 'Cen...</td>\n",
              "      <td>67664.86</td>\n",
              "    </tr>\n",
              "    <tr>\n",
              "      <th>239</th>\n",
              "      <td>Grand Livina</td>\n",
              "      <td>Motor 2.0 16v</td>\n",
              "      <td>2014</td>\n",
              "      <td>112016.0</td>\n",
              "      <td>False</td>\n",
              "      <td>['Controle de tração', 'Teto panorâmico', 'Vid...</td>\n",
              "      <td>68652.16</td>\n",
              "    </tr>\n",
              "    <tr>\n",
              "      <th>240</th>\n",
              "      <td>V60</td>\n",
              "      <td>Motor Diesel</td>\n",
              "      <td>2004</td>\n",
              "      <td>91840.0</td>\n",
              "      <td>False</td>\n",
              "      <td>['Rodas de liga', 'Sensor crepuscular', 'Ar co...</td>\n",
              "      <td>114728.74</td>\n",
              "    </tr>\n",
              "    <tr>\n",
              "      <th>241</th>\n",
              "      <td>Effa Hafei Picape Cabine Dupla</td>\n",
              "      <td>Motor V6</td>\n",
              "      <td>2008</td>\n",
              "      <td>112787.0</td>\n",
              "      <td>False</td>\n",
              "      <td>['Sensor crepuscular', 'Controle de tração', '...</td>\n",
              "      <td>141645.08</td>\n",
              "    </tr>\n",
              "    <tr>\n",
              "      <th>242</th>\n",
              "      <td>Benni Mini</td>\n",
              "      <td>Motor V8</td>\n",
              "      <td>2019</td>\n",
              "      <td>NaN</td>\n",
              "      <td>True</td>\n",
              "      <td>['Sensor crepuscular', 'Câmbio automático', 'C...</td>\n",
              "      <td>126247.84</td>\n",
              "    </tr>\n",
              "    <tr>\n",
              "      <th>243</th>\n",
              "      <td>Uno</td>\n",
              "      <td>Motor Diesel V6</td>\n",
              "      <td>2019</td>\n",
              "      <td>NaN</td>\n",
              "      <td>True</td>\n",
              "      <td>['Central multimídia', 'Sensor crepuscular', '...</td>\n",
              "      <td>128852.21</td>\n",
              "    </tr>\n",
              "    <tr>\n",
              "      <th>244</th>\n",
              "      <td>L200 Savana</td>\n",
              "      <td>Motor 2.0 16v</td>\n",
              "      <td>2012</td>\n",
              "      <td>9293.0</td>\n",
              "      <td>False</td>\n",
              "      <td>['Sensor de chuva', 'Vidros elétricos', 'Paine...</td>\n",
              "      <td>132384.76</td>\n",
              "    </tr>\n",
              "    <tr>\n",
              "      <th>245</th>\n",
              "      <td>Santa Fe</td>\n",
              "      <td>Motor 3.0 32v</td>\n",
              "      <td>2019</td>\n",
              "      <td>NaN</td>\n",
              "      <td>True</td>\n",
              "      <td>['Travas elétricas', 'Ar condicionado', '4 X 4...</td>\n",
              "      <td>129415.33</td>\n",
              "    </tr>\n",
              "    <tr>\n",
              "      <th>246</th>\n",
              "      <td>RS5</td>\n",
              "      <td>Motor V6</td>\n",
              "      <td>1996</td>\n",
              "      <td>55083.0</td>\n",
              "      <td>False</td>\n",
              "      <td>['Painel digital', 'Câmbio automático', 'Vidro...</td>\n",
              "      <td>89536.82</td>\n",
              "    </tr>\n",
              "    <tr>\n",
              "      <th>247</th>\n",
              "      <td>Cerato</td>\n",
              "      <td>Motor V6</td>\n",
              "      <td>2011</td>\n",
              "      <td>48796.0</td>\n",
              "      <td>False</td>\n",
              "      <td>['Sensor de estacionamento', 'Câmera de estaci...</td>\n",
              "      <td>87975.30</td>\n",
              "    </tr>\n",
              "    <tr>\n",
              "      <th>248</th>\n",
              "      <td>XC60</td>\n",
              "      <td>Motor 4.0 Turbo</td>\n",
              "      <td>2019</td>\n",
              "      <td>NaN</td>\n",
              "      <td>True</td>\n",
              "      <td>['Painel digital', 'Piloto automático', 'Centr...</td>\n",
              "      <td>77675.79</td>\n",
              "    </tr>\n",
              "    <tr>\n",
              "      <th>249</th>\n",
              "      <td>LS 460L</td>\n",
              "      <td>Motor Diesel V8</td>\n",
              "      <td>2010</td>\n",
              "      <td>89685.0</td>\n",
              "      <td>False</td>\n",
              "      <td>['Rodas de liga', 'Freios ABS', 'Controle de t...</td>\n",
              "      <td>58881.67</td>\n",
              "    </tr>\n",
              "    <tr>\n",
              "      <th>250</th>\n",
              "      <td>Lamborghini Sesto Elemento</td>\n",
              "      <td>Motor V8</td>\n",
              "      <td>2007</td>\n",
              "      <td>85384.0</td>\n",
              "      <td>False</td>\n",
              "      <td>['Sensor crepuscular', 'Freios ABS', 'Ar condi...</td>\n",
              "      <td>55081.99</td>\n",
              "    </tr>\n",
              "    <tr>\n",
              "      <th>251</th>\n",
              "      <td>Lamborghini Huracán</td>\n",
              "      <td>Motor V8</td>\n",
              "      <td>1994</td>\n",
              "      <td>98108.0</td>\n",
              "      <td>False</td>\n",
              "      <td>['Sensor de chuva', 'Sensor de estacionamento'...</td>\n",
              "      <td>118826.44</td>\n",
              "    </tr>\n",
              "    <tr>\n",
              "      <th>252</th>\n",
              "      <td>A7</td>\n",
              "      <td>Motor 1.0 8v</td>\n",
              "      <td>2007</td>\n",
              "      <td>71280.0</td>\n",
              "      <td>False</td>\n",
              "      <td>['Sensor de chuva', 'Vidros elétricos', 'Senso...</td>\n",
              "      <td>137627.62</td>\n",
              "    </tr>\n",
              "    <tr>\n",
              "      <th>253</th>\n",
              "      <td>Phantom 2013</td>\n",
              "      <td>Motor V8</td>\n",
              "      <td>2014</td>\n",
              "      <td>27505.0</td>\n",
              "      <td>False</td>\n",
              "      <td>['Controle de estabilidade', 'Piloto automátic...</td>\n",
              "      <td>51759.58</td>\n",
              "    </tr>\n",
              "    <tr>\n",
              "      <th>254</th>\n",
              "      <td>Cadillac Ciel concept</td>\n",
              "      <td>Motor V8</td>\n",
              "      <td>1991</td>\n",
              "      <td>29981.0</td>\n",
              "      <td>False</td>\n",
              "      <td>['Bancos de couro', 'Painel digital', 'Sensor ...</td>\n",
              "      <td>51667.06</td>\n",
              "    </tr>\n",
              "    <tr>\n",
              "      <th>255</th>\n",
              "      <td>Classe GLK</td>\n",
              "      <td>Motor 5.0 V8 Bi-Turbo</td>\n",
              "      <td>2002</td>\n",
              "      <td>52637.0</td>\n",
              "      <td>False</td>\n",
              "      <td>['Rodas de liga', 'Controle de tração', 'Câmbi...</td>\n",
              "      <td>68934.03</td>\n",
              "    </tr>\n",
              "    <tr>\n",
              "      <th>256</th>\n",
              "      <td>Aston Martin DB5</td>\n",
              "      <td>Motor Diesel</td>\n",
              "      <td>1996</td>\n",
              "      <td>7685.0</td>\n",
              "      <td>False</td>\n",
              "      <td>['Ar condicionado', '4 X 4', 'Câmbio automátic...</td>\n",
              "      <td>122110.90</td>\n",
              "    </tr>\n",
              "    <tr>\n",
              "      <th>257</th>\n",
              "      <td>Macan</td>\n",
              "      <td>Motor Diesel V6</td>\n",
              "      <td>1992</td>\n",
              "      <td>50188.0</td>\n",
              "      <td>False</td>\n",
              "      <td>['Central multimídia', 'Teto panorâmico', 'Vid...</td>\n",
              "      <td>90381.47</td>\n",
              "    </tr>\n",
              "  </tbody>\n",
              "</table>\n",
              "</div>"
            ],
            "text/plain": [
              "                                       Nome  ...      Valor\n",
              "0                             Jetta Variant  ...   88078.64\n",
              "1                                    Passat  ...  106161.94\n",
              "2                                  Crossfox  ...   72832.16\n",
              "3                                       DS5  ...  124549.07\n",
              "4                          Aston Martin DB4  ...   92612.10\n",
              "5                             Palio Weekend  ...   97497.73\n",
              "6                                        A5  ...   56445.20\n",
              "7                            Série 3 Cabrio  ...  112310.44\n",
              "8                              Dodge Jorney  ...  120716.27\n",
              "9                                    Carens  ...   76566.49\n",
              "10                                Ford Edge  ...   71647.59\n",
              "11                                  Courier  ...   73919.53\n",
              "12                                     S-18  ...  112732.99\n",
              "13                                       J5  ...   53183.38\n",
              "14                             F-Type Coupé  ...  127488.42\n",
              "15                                      RAM  ...   59910.40\n",
              "16                                  Série 1  ...   61118.59\n",
              "17                                       A3  ...   88552.39\n",
              "18                                     XC90  ...   62696.69\n",
              "19                           RS 3 Sportback  ...  101726.30\n",
              "20                             Pajero Sport  ...  106147.38\n",
              "21                                Série 1 M  ...   94564.40\n",
              "22                      Lamborghini Obvious  ...  133529.84\n",
              "23                    Effa Hafei Picape Baú  ...  125684.65\n",
              "24                   Lamborghini Murciélago  ...  121596.21\n",
              "25                                      Up!  ...   71367.10\n",
              "26                       Fiesta Rocam Sedan  ...   95347.75\n",
              "27                          Sandero Stepway  ...  105432.84\n",
              "28                                 Cayman S  ...   57045.27\n",
              "29                                      V40  ...  120432.70\n",
              "30                           Classe SLS AMG  ...   70707.20\n",
              "31                                   Gol G4  ...   69105.18\n",
              "32                                    Linea  ...   59358.69\n",
              "33                                Ford F100  ...   65955.40\n",
              "34                                       J2  ...   60017.03\n",
              "35                         Aston Martin DBS  ...  118909.52\n",
              "36                               Pajero TR4  ...   51606.59\n",
              "37                               Polo Sedan  ...  123281.87\n",
              "38                               California  ...   69770.18\n",
              "39                                      S60  ...  102609.54\n",
              "40                                   Tucson  ...   67997.19\n",
              "41                                     HB20  ...  135235.29\n",
              "42                                   Optima  ...   86641.34\n",
              "43                                    Logan  ...  136818.39\n",
              "44                        Range Rover Vogue  ...  117626.73\n",
              "45                                   Sonata  ...   56208.70\n",
              "46                    Ford New Fiesta Sedan  ...   84222.65\n",
              "47                     Série 5 Gran Turismo  ...   90781.65\n",
              "48                                     CR-V  ...   64701.10\n",
              "49                            Ford EcoSport  ...  126350.49\n",
              "50                                    Versa  ...  148152.89\n",
              "51                                 Classe E  ...  132298.83\n",
              "52                                 Carnival  ...  137627.63\n",
              "53         Aston Martin V8 Vantage Roadster  ...   80422.71\n",
              "54                                   Hoggar  ...   56373.99\n",
              "55                                       A1  ...   70846.03\n",
              "56                 Aston Martin DB7 Vantage  ...  128694.23\n",
              "57                                      CLA  ...  133329.19\n",
              "58                                   Accord  ...  131961.43\n",
              "59                              EXTRA 103EX  ...  112033.27\n",
              "60                                  Sorento  ...   81399.35\n",
              "61                                    Tiggo  ...   97163.10\n",
              "62                         New Fiesta Hatch  ...   66007.16\n",
              "63                            Jeep Renegade  ...  128776.22\n",
              "64                     Lamborghini Ankonian  ...  142623.02\n",
              "65                              Space Cross  ...  136930.13\n",
              "66                                  Touareg  ...   66526.61\n",
              "67                                 Classe M  ...  114154.87\n",
              "68                       Lancer Evolution X  ...  142392.75\n",
              "69                           Kangoo Express  ...  146716.91\n",
              "70                                      SW4  ...  122485.68\n",
              "71                             Cadillac ELR  ...   97951.03\n",
              "72                                    Doblò  ...   78283.49\n",
              "73                      Lamborghini Egoista  ...   83434.04\n",
              "74                                      Fit  ...   77836.23\n",
              "75                                       C5  ...   60813.92\n",
              "76                              Celer Hatch  ...   91353.86\n",
              "77                                    HB20S  ...  116281.21\n",
              "78                              Cielo Hatch  ...  145197.70\n",
              "79                                   Livina  ...   50742.10\n",
              "80                                   Ducato  ...   73033.53\n",
              "81                                    March  ...   54332.87\n",
              "82                       Cadillac XTS sedan  ...   52207.45\n",
              "83                   Lamborghini Centenario  ...   63578.50\n",
              "84                                    Hilux  ...   64507.72\n",
              "85                              Grand Siena  ...  115075.59\n",
              "86                                   Symbol  ...  133030.60\n",
              "87               Aston Martin V12 GT Zagato  ...  141591.86\n",
              "88                                   Fusion  ...  100380.28\n",
              "89                                 A4 Sedan  ...   96369.04\n",
              "90                            Xsara Picasso  ...  142603.84\n",
              "91                                   207 SW  ...  117709.67\n",
              "92                                     Star  ...  102241.54\n",
              "93                              Doblò Cargo  ...   96065.38\n",
              "94                             Cadillac CTS  ...   53894.61\n",
              "95                                  Cayenne  ...  123911.78\n",
              "96                                      Fox  ...  101996.35\n",
              "97                              Tiida Hatch  ...   83431.66\n",
              "98                            Dodge Charger  ...  122975.63\n",
              "99                                     Face  ...   93227.73\n",
              "100                                   Prius  ...   58762.65\n",
              "101                                    Idea  ...  139549.67\n",
              "102                                      A8  ...  122016.42\n",
              "103                          Série 1 Cabrio  ...   72731.98\n",
              "104                                    Edge  ...   88416.54\n",
              "105                      Cadillac ATS sedan  ...   73873.42\n",
              "106          Lamborghini Asterion LPI 910-4  ...   70709.34\n",
              "107                                Frontier  ...  115306.50\n",
              "108                            Série 3 Sedã  ...   55924.63\n",
              "109                       Lamborghini LM002  ...   85052.26\n",
              "110                            Cadillac XLR  ...   56646.34\n",
              "111                                A4 Avant  ...  138946.88\n",
              "112                                EcoSport  ...  108256.72\n",
              "113                                      J3  ...   58979.30\n",
              "114                                      Q3  ...  114727.68\n",
              "115                 Aston Martin V8 Vantage  ...  139661.48\n",
              "116                             Z4 Roadster  ...   80382.24\n",
              "117                   Lamborghini Ferruccio  ...  149157.17\n",
              "118                                Ford Ka+  ...   87830.41\n",
              "119                           Silver Shadow  ...  143568.22\n",
              "120                 Classe C 63 AMG Touring  ...  138171.85\n",
              "121                             Discovery 4  ...  115784.95\n",
              "122                                Veloster  ...  146508.99\n",
              "123                                Classe C  ...  137670.23\n",
              "124                                   Camry  ...  138597.27\n",
              "125                               C5 Tourer  ...  147627.81\n",
              "126                                   R8 GT  ...   62999.02\n",
              "127                                   Bongo  ...   91242.44\n",
              "128                                     ASX  ...  149489.92\n",
              "129                            Cadillac SRX  ...   63529.95\n",
              "130                               Classe CL  ...   58525.41\n",
              "131                              500 Abarth  ...   90345.05\n",
              "132                     Aston Martin Cygnet  ...  147770.87\n",
              "133                            Cadillac STS  ...  106617.71\n",
              "134                        Aston Martin DB9  ...  104929.88\n",
              "135                                 NX 200t  ...  100712.45\n",
              "136                     Aston Martin One-77  ...  141982.93\n",
              "137                      Lamborghini Veneno  ...  104038.79\n",
              "138                                  Sentra  ...   88501.54\n",
              "139                                  Jumper  ...   79782.02\n",
              "140                                     i30  ...   86224.10\n",
              "141                                      X6  ...  103596.18\n",
              "142                                  Voyage  ...  148996.47\n",
              "143                    Phantom I Phantom II  ...   60948.01\n",
              "144                          Passat Variant  ...   69535.44\n",
              "145                                    Clio  ...  111130.33\n",
              "146                                Classe G  ...   65847.69\n",
              "147                            Silver Ghost  ...   78096.06\n",
              "148                        Série 3 M3 Coupé  ...   69219.89\n",
              "149                     Gallardo LP 560 – 4  ...  144118.91\n",
              "150                            Freelander 2  ...   77397.05\n",
              "151                          Grand Cherokee  ...   68974.25\n",
              "152                       Aston Martin DBR9  ...  125231.30\n",
              "153                                    Soul  ...   85501.12\n",
              "154                            Cadillac BLS  ...  137116.21\n",
              "155                                  RX 350  ...  138823.81\n",
              "156                                  Cayman  ...  117961.95\n",
              "157                           Chana Utility  ...  132662.32\n",
              "158                                  308 CC  ...  146405.79\n",
              "159                             L200 Triton  ...   81999.21\n",
              "160                                   Jetta  ...  140934.60\n",
              "161                               C4 Lounge  ...   82366.81\n",
              "162                               C4 Pallas  ...   70424.11\n",
              "163                                   Equus  ...   53620.31\n",
              "164                               Classe GL  ...   73389.18\n",
              "165                      Range Rover Evoque  ...  111618.12\n",
              "166                                Cherokee  ...  112187.37\n",
              "167                                   Punto  ...  120812.57\n",
              "168                              Grand Tour  ...  116031.04\n",
              "169                                 Fluence  ...  125398.11\n",
              "170        Effa Hafei Picape Cabine Simples  ...   76101.47\n",
              "171                                 Durango  ...   75263.24\n",
              "172                                 Boxster  ...  147387.76\n",
              "173                             TT Roadster  ...   85311.40\n",
              "174                       Lamborghini Jalpa  ...   54388.11\n",
              "175                              Classe SLK  ...  124156.65\n",
              "176                                    Golf  ...  146203.34\n",
              "177                              C3 Picasso  ...   56453.94\n",
              "178                                     V50  ...   68873.79\n",
              "179                                 Picanto  ...   91667.61\n",
              "180                                 Cadenza  ...   93776.52\n",
              "181                              Etios Sedã  ...   66433.82\n",
              "182                                  Alsvin  ...  109059.27\n",
              "183                            Cadillac ATS  ...  122069.97\n",
              "184                         Série 3 M3 Sedã  ...  113090.32\n",
              "185                                Classe S  ...   89401.10\n",
              "186                                      T6  ...   56842.79\n",
              "187                        Aston Martin DB7  ...  146676.71\n",
              "188                               207 Sedan  ...   89511.96\n",
              "189                     Aston Martin Virage  ...   97290.18\n",
              "190                                   Azera  ...  120673.56\n",
              "191                         Vantage Volante  ...  114434.94\n",
              "192                                Siena EL  ...  139546.69\n",
              "193                         Palio Adventure  ...   95078.16\n",
              "194                                   HB20X  ...   68091.77\n",
              "195                                      HR  ...   61496.97\n",
              "196                   Cadillac STS V-Series  ...  139669.30\n",
              "197                           Série 1 Coupé  ...   80661.39\n",
              "198                                SpaceFox  ...   61783.65\n",
              "199                                     C30  ...   52805.91\n",
              "200                                J3 Turin  ...  127024.75\n",
              "201                                Classe B  ...  135543.00\n",
              "202                                  Parati  ...  121708.73\n",
              "203                   Cadillac CTS V-Series  ...  107342.68\n",
              "204                                   Sedan  ...   57888.10\n",
              "205                       Classe CLS 63 AMG  ...  118161.48\n",
              "206                                Aircross  ...  142499.06\n",
              "207                Aston Martin V12 Vantage  ...  128396.11\n",
              "208                                 Sandero  ...  112350.61\n",
              "209                              New Fiesta  ...  124661.38\n",
              "210                                     XKR  ...   54263.16\n",
              "211                                      X5  ...   62041.32\n",
              "212                            Cadillac DTS  ...  129296.11\n",
              "213                            Pajero Dakar  ...   60998.33\n",
              "214                                Classe A  ...   58008.50\n",
              "215                     Ford Focus Fastback  ...   82304.19\n",
              "216                                 Partner  ...  114531.74\n",
              "217                                      R8  ...  128565.61\n",
              "218                Aston Martin DBS Volante  ...  126488.26\n",
              "219                                  Mohave  ...  119074.55\n",
              "220                                   Fusca  ...  130238.04\n",
              "221                            Chana Family  ...  115760.17\n",
              "222                                    XC40  ...  121248.00\n",
              "223  Phantom I Jonckheere Aerodynamic Coupe  ...   98156.35\n",
              "224                                   Boxer  ...  112146.80\n",
              "225                             Chana Cargo  ...  102729.63\n",
              "226                            Dodge Dakota  ...  141083.35\n",
              "227                                      X1  ...  102968.76\n",
              "228                                     GLA  ...   76310.01\n",
              "229                       Range Rover Sport  ...  120481.74\n",
              "230                                     DS3  ...   54559.18\n",
              "231                                Veracruz  ...   92957.64\n",
              "232    Cadillac CTS coupe, sedan, and wagon  ...  127810.06\n",
              "233                                  i30 CW  ...   73311.75\n",
              "234                             Phantom III  ...   65138.03\n",
              "235                                A3 Sedan  ...   90141.47\n",
              "236                Aston Martin DB9 Volante  ...   71160.36\n",
              "237                            Série 7 Sedã  ...   67539.79\n",
              "238                    Lamborghini Reventón  ...   67664.86\n",
              "239                            Grand Livina  ...   68652.16\n",
              "240                                     V60  ...  114728.74\n",
              "241          Effa Hafei Picape Cabine Dupla  ...  141645.08\n",
              "242                              Benni Mini  ...  126247.84\n",
              "243                                     Uno  ...  128852.21\n",
              "244                             L200 Savana  ...  132384.76\n",
              "245                                Santa Fe  ...  129415.33\n",
              "246                                     RS5  ...   89536.82\n",
              "247                                  Cerato  ...   87975.30\n",
              "248                                    XC60  ...   77675.79\n",
              "249                                 LS 460L  ...   58881.67\n",
              "250              Lamborghini Sesto Elemento  ...   55081.99\n",
              "251                     Lamborghini Huracán  ...  118826.44\n",
              "252                                      A7  ...  137627.62\n",
              "253                            Phantom 2013  ...   51759.58\n",
              "254                   Cadillac Ciel concept  ...   51667.06\n",
              "255                              Classe GLK  ...   68934.03\n",
              "256                        Aston Martin DB5  ...  122110.90\n",
              "257                                   Macan  ...   90381.47\n",
              "\n",
              "[258 rows x 7 columns]"
            ]
          },
          "metadata": {},
          "execution_count": 10
        }
      ]
    },
    {
      "cell_type": "code",
      "metadata": {
        "id": "5D739PzJD0_B",
        "colab": {
          "base_uri": "https://localhost:8080/"
        },
        "outputId": "dc2dcc11-93ed-4215-b23b-be567b259cca"
      },
      "source": [
        "dataset.dtypes"
      ],
      "execution_count": null,
      "outputs": [
        {
          "output_type": "execute_result",
          "data": {
            "text/plain": [
              "Nome              object\n",
              "Motor             object\n",
              "Ano                int64\n",
              "Quilometragem    float64\n",
              "Zero_km             bool\n",
              "Acessórios        object\n",
              "Valor            float64\n",
              "dtype: object"
            ]
          },
          "metadata": {},
          "execution_count": 11
        }
      ]
    },
    {
      "cell_type": "code",
      "metadata": {
        "id": "r_qUf16LD0_D",
        "colab": {
          "base_uri": "https://localhost:8080/",
          "height": 300
        },
        "outputId": "ee610523-a6a5-4b9c-930c-6b46ecc6044e"
      },
      "source": [
        "dataset[['Quilometragem','Valor']].describe()"
      ],
      "execution_count": null,
      "outputs": [
        {
          "output_type": "execute_result",
          "data": {
            "text/html": [
              "<div>\n",
              "<style scoped>\n",
              "    .dataframe tbody tr th:only-of-type {\n",
              "        vertical-align: middle;\n",
              "    }\n",
              "\n",
              "    .dataframe tbody tr th {\n",
              "        vertical-align: top;\n",
              "    }\n",
              "\n",
              "    .dataframe thead th {\n",
              "        text-align: right;\n",
              "    }\n",
              "</style>\n",
              "<table border=\"1\" class=\"dataframe\">\n",
              "  <thead>\n",
              "    <tr style=\"text-align: right;\">\n",
              "      <th></th>\n",
              "      <th>Quilometragem</th>\n",
              "      <th>Valor</th>\n",
              "    </tr>\n",
              "  </thead>\n",
              "  <tbody>\n",
              "    <tr>\n",
              "      <th>count</th>\n",
              "      <td>197.000000</td>\n",
              "      <td>258.000000</td>\n",
              "    </tr>\n",
              "    <tr>\n",
              "      <th>mean</th>\n",
              "      <td>58278.421320</td>\n",
              "      <td>98960.513101</td>\n",
              "    </tr>\n",
              "    <tr>\n",
              "      <th>std</th>\n",
              "      <td>35836.733259</td>\n",
              "      <td>29811.932305</td>\n",
              "    </tr>\n",
              "    <tr>\n",
              "      <th>min</th>\n",
              "      <td>107.000000</td>\n",
              "      <td>50742.100000</td>\n",
              "    </tr>\n",
              "    <tr>\n",
              "      <th>25%</th>\n",
              "      <td>27505.000000</td>\n",
              "      <td>70743.512500</td>\n",
              "    </tr>\n",
              "    <tr>\n",
              "      <th>50%</th>\n",
              "      <td>55083.000000</td>\n",
              "      <td>97724.380000</td>\n",
              "    </tr>\n",
              "    <tr>\n",
              "      <th>75%</th>\n",
              "      <td>90495.000000</td>\n",
              "      <td>124633.302500</td>\n",
              "    </tr>\n",
              "    <tr>\n",
              "      <th>max</th>\n",
              "      <td>119945.000000</td>\n",
              "      <td>149489.920000</td>\n",
              "    </tr>\n",
              "  </tbody>\n",
              "</table>\n",
              "</div>"
            ],
            "text/plain": [
              "       Quilometragem          Valor\n",
              "count     197.000000     258.000000\n",
              "mean    58278.421320   98960.513101\n",
              "std     35836.733259   29811.932305\n",
              "min       107.000000   50742.100000\n",
              "25%     27505.000000   70743.512500\n",
              "50%     55083.000000   97724.380000\n",
              "75%     90495.000000  124633.302500\n",
              "max    119945.000000  149489.920000"
            ]
          },
          "metadata": {},
          "execution_count": 12
        }
      ]
    },
    {
      "cell_type": "code",
      "metadata": {
        "id": "0R-_7PH5D0_E",
        "colab": {
          "base_uri": "https://localhost:8080/"
        },
        "outputId": "e83b661d-38fd-4efc-ea9c-c5efcb5ed8e1"
      },
      "source": [
        "dataset.info()"
      ],
      "execution_count": null,
      "outputs": [
        {
          "output_type": "stream",
          "name": "stdout",
          "text": [
            "<class 'pandas.core.frame.DataFrame'>\n",
            "RangeIndex: 258 entries, 0 to 257\n",
            "Data columns (total 7 columns):\n",
            " #   Column         Non-Null Count  Dtype  \n",
            "---  ------         --------------  -----  \n",
            " 0   Nome           258 non-null    object \n",
            " 1   Motor          258 non-null    object \n",
            " 2   Ano            258 non-null    int64  \n",
            " 3   Quilometragem  197 non-null    float64\n",
            " 4   Zero_km        258 non-null    bool   \n",
            " 5   Acessórios     258 non-null    object \n",
            " 6   Valor          258 non-null    float64\n",
            "dtypes: bool(1), float64(2), int64(1), object(3)\n",
            "memory usage: 12.5+ KB\n"
          ]
        }
      ]
    },
    {
      "cell_type": "markdown",
      "metadata": {
        "id": "htjoBLwiD0_F"
      },
      "source": [
        "# <font color=green> 2. TRABALHANDO COM TUPLAS\n",
        "---"
      ]
    },
    {
      "cell_type": "markdown",
      "metadata": {
        "id": "MZH5_QnYD0_G"
      },
      "source": [
        "# 2.1 Criando tuplas\n",
        "\n",
        "Tuplas são sequências imutáveis que são utilizadas para armazenar coleções de itens, geralmente heterogêneos. Podem ser construídas de várias formas:\n",
        "```\n",
        "- Utilizando um par de parênteses: ( )\n",
        "- Utilizando uma vírgula à direita: x,\n",
        "- Utilizando um par de parênteses com itens separados por vírgulas: ( x, y, z )\n",
        "- Utilizando: tuple() ou tuple(iterador)\n",
        "```"
      ]
    },
    {
      "cell_type": "code",
      "metadata": {
        "id": "xzcs9fzeD0_G",
        "colab": {
          "base_uri": "https://localhost:8080/"
        },
        "outputId": "00e6d4ba-5148-483d-cb40-d349a0ae9e29"
      },
      "source": [
        "()"
      ],
      "execution_count": null,
      "outputs": [
        {
          "output_type": "execute_result",
          "data": {
            "text/plain": [
              "()"
            ]
          },
          "metadata": {},
          "execution_count": 14
        }
      ]
    },
    {
      "cell_type": "code",
      "metadata": {
        "id": "qJq7a2qTD0_I",
        "colab": {
          "base_uri": "https://localhost:8080/"
        },
        "outputId": "cd1edcd7-5b50-43ea-d3a8-b6770d21c20b"
      },
      "source": [
        "1,2,3"
      ],
      "execution_count": null,
      "outputs": [
        {
          "output_type": "execute_result",
          "data": {
            "text/plain": [
              "(1, 2, 3)"
            ]
          },
          "metadata": {},
          "execution_count": 15
        }
      ]
    },
    {
      "cell_type": "code",
      "metadata": {
        "id": "sg7LdvptD0_J",
        "colab": {
          "base_uri": "https://localhost:8080/"
        },
        "outputId": "9ce92976-8315-4b7b-c458-f125ca7bc389"
      },
      "source": [
        "nome = 'Passat'\n",
        "valor = 15300\n",
        "(nome,valor)"
      ],
      "execution_count": null,
      "outputs": [
        {
          "output_type": "execute_result",
          "data": {
            "text/plain": [
              "('Passat', 15300)"
            ]
          },
          "metadata": {},
          "execution_count": 16
        }
      ]
    },
    {
      "cell_type": "code",
      "metadata": {
        "id": "XSSMebXjD0_K",
        "colab": {
          "base_uri": "https://localhost:8080/"
        },
        "outputId": "fa5e51cb-7abd-4bc9-d863-23f0221c140f"
      },
      "source": [
        "nomes_carros = tuple(['Jetta Variant', 'Passat', 'Crossfox', 'DS5'])\n",
        "nomes_carros"
      ],
      "execution_count": null,
      "outputs": [
        {
          "output_type": "execute_result",
          "data": {
            "text/plain": [
              "('Jetta Variant', 'Passat', 'Crossfox', 'DS5')"
            ]
          },
          "metadata": {},
          "execution_count": 20
        }
      ]
    },
    {
      "cell_type": "code",
      "metadata": {
        "id": "dpkdzrzRD0_M",
        "colab": {
          "base_uri": "https://localhost:8080/"
        },
        "outputId": "3723e9a1-3926-4ed8-e6a8-2a7c388c64e7"
      },
      "source": [
        "type(nomes_carros)"
      ],
      "execution_count": null,
      "outputs": [
        {
          "output_type": "execute_result",
          "data": {
            "text/plain": [
              "tuple"
            ]
          },
          "metadata": {},
          "execution_count": 19
        }
      ]
    },
    {
      "cell_type": "markdown",
      "metadata": {
        "id": "iKUY2DOUD0_N"
      },
      "source": [
        "# 2.2 Seleções em tuplas"
      ]
    },
    {
      "cell_type": "code",
      "metadata": {
        "id": "hBEeAM7_D0_N",
        "colab": {
          "base_uri": "https://localhost:8080/",
          "height": 34
        },
        "outputId": "8ffd643f-e683-4372-c028-1edea7ee8a32"
      },
      "source": [
        "nomes_carros[0]"
      ],
      "execution_count": null,
      "outputs": [
        {
          "output_type": "execute_result",
          "data": {
            "application/vnd.google.colaboratory.intrinsic+json": {
              "type": "string"
            },
            "text/plain": [
              "'Jetta Variant'"
            ]
          },
          "metadata": {},
          "execution_count": 21
        }
      ]
    },
    {
      "cell_type": "code",
      "metadata": {
        "id": "-mx_1E_tD0_P",
        "colab": {
          "base_uri": "https://localhost:8080/",
          "height": 34
        },
        "outputId": "013ceb47-d9e7-4715-bc7f-1f57791a42d6"
      },
      "source": [
        "nomes_carros[1]"
      ],
      "execution_count": null,
      "outputs": [
        {
          "output_type": "execute_result",
          "data": {
            "application/vnd.google.colaboratory.intrinsic+json": {
              "type": "string"
            },
            "text/plain": [
              "'Passat'"
            ]
          },
          "metadata": {},
          "execution_count": 22
        }
      ]
    },
    {
      "cell_type": "code",
      "metadata": {
        "id": "LMhyqnFID0_Q",
        "colab": {
          "base_uri": "https://localhost:8080/",
          "height": 34
        },
        "outputId": "dd97254b-8a6e-4960-bfea-73dee40ed4d1"
      },
      "source": [
        "nomes_carros[-1]"
      ],
      "execution_count": null,
      "outputs": [
        {
          "output_type": "execute_result",
          "data": {
            "application/vnd.google.colaboratory.intrinsic+json": {
              "type": "string"
            },
            "text/plain": [
              "'DS5'"
            ]
          },
          "metadata": {},
          "execution_count": 23
        }
      ]
    },
    {
      "cell_type": "code",
      "metadata": {
        "id": "6btHff4BD0_T",
        "colab": {
          "base_uri": "https://localhost:8080/"
        },
        "outputId": "6562409c-2b43-4f54-8a2a-03f88d3d4b5e"
      },
      "source": [
        "nomes_carros[1:3]"
      ],
      "execution_count": null,
      "outputs": [
        {
          "output_type": "execute_result",
          "data": {
            "text/plain": [
              "('Passat', 'Crossfox')"
            ]
          },
          "metadata": {},
          "execution_count": 24
        }
      ]
    },
    {
      "cell_type": "code",
      "metadata": {
        "id": "K_Dc12xBD0_U"
      },
      "source": [
        ""
      ],
      "execution_count": null,
      "outputs": []
    },
    {
      "cell_type": "code",
      "metadata": {
        "id": "zvrWYkkeD0_W",
        "colab": {
          "base_uri": "https://localhost:8080/"
        },
        "outputId": "41cea977-34f3-4899-8221-254ed02a9786"
      },
      "source": [
        "nomes_carros = ('Jetta Variant', 'Passat', 'Crossfox', 'DS5', ('Fusca', 'Gol', 'C4'))\n",
        "nomes_carros"
      ],
      "execution_count": null,
      "outputs": [
        {
          "output_type": "execute_result",
          "data": {
            "text/plain": [
              "('Jetta Variant', 'Passat', 'Crossfox', 'DS5', ('Fusca', 'Gol', 'C4'))"
            ]
          },
          "metadata": {},
          "execution_count": 25
        }
      ]
    },
    {
      "cell_type": "code",
      "metadata": {
        "id": "Dw7tbM2ED0_Z",
        "colab": {
          "base_uri": "https://localhost:8080/"
        },
        "outputId": "51db7e81-6507-4792-9a0a-8723906da983"
      },
      "source": [
        "nomes_carros[-1]"
      ],
      "execution_count": null,
      "outputs": [
        {
          "output_type": "execute_result",
          "data": {
            "text/plain": [
              "('Fusca', 'Gol', 'C4')"
            ]
          },
          "metadata": {},
          "execution_count": 26
        }
      ]
    },
    {
      "cell_type": "code",
      "metadata": {
        "id": "SAMD3BtXD0_b",
        "colab": {
          "base_uri": "https://localhost:8080/",
          "height": 34
        },
        "outputId": "d5a36e94-7f4d-45c9-ea84-e8d3019187f2"
      },
      "source": [
        "nomes_carros[-1][1]"
      ],
      "execution_count": null,
      "outputs": [
        {
          "output_type": "execute_result",
          "data": {
            "application/vnd.google.colaboratory.intrinsic+json": {
              "type": "string"
            },
            "text/plain": [
              "'Gol'"
            ]
          },
          "metadata": {},
          "execution_count": 27
        }
      ]
    },
    {
      "cell_type": "markdown",
      "metadata": {
        "id": "KLMxh4-0D0_c"
      },
      "source": [
        "# 2.3 Iterando em tuplas"
      ]
    },
    {
      "cell_type": "code",
      "metadata": {
        "id": "K53elKsYD0_c",
        "colab": {
          "base_uri": "https://localhost:8080/"
        },
        "outputId": "97cbbe96-aa58-4278-84c5-69c42bc7857e"
      },
      "source": [
        "nomes_carros = ('Jetta Variant', 'Passat', 'Crossfox', 'DS5')\n",
        "nomes_carros"
      ],
      "execution_count": null,
      "outputs": [
        {
          "output_type": "execute_result",
          "data": {
            "text/plain": [
              "('Jetta Variant', 'Passat', 'Crossfox', 'DS5')"
            ]
          },
          "metadata": {},
          "execution_count": 2
        }
      ]
    },
    {
      "cell_type": "code",
      "metadata": {
        "id": "igZhZ5zdD0_d",
        "colab": {
          "base_uri": "https://localhost:8080/"
        },
        "outputId": "31980c12-5b33-4cf1-ed0f-944bd26656fb"
      },
      "source": [
        "for item in nomes_carros:\n",
        "  print(item)"
      ],
      "execution_count": null,
      "outputs": [
        {
          "output_type": "stream",
          "name": "stdout",
          "text": [
            "Jetta Variant\n",
            "Passat\n",
            "Crossfox\n",
            "DS5\n"
          ]
        }
      ]
    },
    {
      "cell_type": "markdown",
      "metadata": {
        "id": "AOBjxBk8D0_f"
      },
      "source": [
        "### Desempacotamento de tuplas"
      ]
    },
    {
      "cell_type": "code",
      "metadata": {
        "id": "UoEFnumhD0_f"
      },
      "source": [
        "carro_1,carro_2,carro_3,carro_4 = nomes_carros"
      ],
      "execution_count": null,
      "outputs": []
    },
    {
      "cell_type": "code",
      "metadata": {
        "id": "AaCLcNYTD0_g",
        "colab": {
          "base_uri": "https://localhost:8080/"
        },
        "outputId": "eb893ef8-e59a-4d60-a0ee-51373b6739dc"
      },
      "source": [
        "carro_1,carro_2,carro_3,carro_4"
      ],
      "execution_count": null,
      "outputs": [
        {
          "output_type": "execute_result",
          "data": {
            "text/plain": [
              "('Jetta Variant', 'Passat', 'Crossfox', 'DS5')"
            ]
          },
          "metadata": {},
          "execution_count": 32
        }
      ]
    },
    {
      "cell_type": "code",
      "metadata": {
        "id": "TA71S9egD0_h",
        "colab": {
          "base_uri": "https://localhost:8080/",
          "height": 34
        },
        "outputId": "1bb26e5e-ea76-4ab6-fa29-a0a9cf62b5a4"
      },
      "source": [
        "carro_1"
      ],
      "execution_count": null,
      "outputs": [
        {
          "output_type": "execute_result",
          "data": {
            "application/vnd.google.colaboratory.intrinsic+json": {
              "type": "string"
            },
            "text/plain": [
              "'Jetta Variant'"
            ]
          },
          "metadata": {},
          "execution_count": 33
        }
      ]
    },
    {
      "cell_type": "code",
      "metadata": {
        "id": "CHoJ034MD0_i",
        "colab": {
          "base_uri": "https://localhost:8080/",
          "height": 34
        },
        "outputId": "a2c017ac-8985-406b-89a9-a807c3a7140e"
      },
      "source": [
        "carro_2"
      ],
      "execution_count": null,
      "outputs": [
        {
          "output_type": "execute_result",
          "data": {
            "application/vnd.google.colaboratory.intrinsic+json": {
              "type": "string"
            },
            "text/plain": [
              "'Passat'"
            ]
          },
          "metadata": {},
          "execution_count": 34
        }
      ]
    },
    {
      "cell_type": "code",
      "metadata": {
        "id": "oxJrOuCSD0_j",
        "colab": {
          "base_uri": "https://localhost:8080/",
          "height": 34
        },
        "outputId": "1b8f2b60-66a3-40fe-915c-96c514ea9019"
      },
      "source": [
        "carro_3"
      ],
      "execution_count": null,
      "outputs": [
        {
          "output_type": "execute_result",
          "data": {
            "application/vnd.google.colaboratory.intrinsic+json": {
              "type": "string"
            },
            "text/plain": [
              "'Crossfox'"
            ]
          },
          "metadata": {},
          "execution_count": 35
        }
      ]
    },
    {
      "cell_type": "code",
      "metadata": {
        "id": "BbR9sB4BD0_k",
        "colab": {
          "base_uri": "https://localhost:8080/",
          "height": 34
        },
        "outputId": "6ad4ce69-f36b-471c-eafa-99e08212d747"
      },
      "source": [
        "carro_4"
      ],
      "execution_count": null,
      "outputs": [
        {
          "output_type": "execute_result",
          "data": {
            "application/vnd.google.colaboratory.intrinsic+json": {
              "type": "string"
            },
            "text/plain": [
              "'DS5'"
            ]
          },
          "metadata": {},
          "execution_count": 36
        }
      ]
    },
    {
      "cell_type": "code",
      "metadata": {
        "id": "aZvokrjPD0_m"
      },
      "source": [
        "_, A, _, B = nomes_carros"
      ],
      "execution_count": null,
      "outputs": []
    },
    {
      "cell_type": "code",
      "metadata": {
        "id": "wZXDbVg0D0_o",
        "colab": {
          "base_uri": "https://localhost:8080/",
          "height": 34
        },
        "outputId": "4d378ce4-7a86-4269-9fd0-ae3124785414"
      },
      "source": [
        "A"
      ],
      "execution_count": null,
      "outputs": [
        {
          "output_type": "execute_result",
          "data": {
            "application/vnd.google.colaboratory.intrinsic+json": {
              "type": "string"
            },
            "text/plain": [
              "'Passat'"
            ]
          },
          "metadata": {},
          "execution_count": 4
        }
      ]
    },
    {
      "cell_type": "code",
      "metadata": {
        "id": "aWgDMBXiD0_p",
        "colab": {
          "base_uri": "https://localhost:8080/",
          "height": 34
        },
        "outputId": "5f389092-3eb8-4e9d-ab84-1f621834b0ad"
      },
      "source": [
        "B"
      ],
      "execution_count": null,
      "outputs": [
        {
          "output_type": "execute_result",
          "data": {
            "application/vnd.google.colaboratory.intrinsic+json": {
              "type": "string"
            },
            "text/plain": [
              "'DS5'"
            ]
          },
          "metadata": {},
          "execution_count": 5
        }
      ]
    },
    {
      "cell_type": "code",
      "metadata": {
        "id": "OdpgNh-ND0_q"
      },
      "source": [
        "_, C, *_ = nomes_carros"
      ],
      "execution_count": null,
      "outputs": []
    },
    {
      "cell_type": "code",
      "metadata": {
        "id": "upVYFnMdD0_r",
        "colab": {
          "base_uri": "https://localhost:8080/",
          "height": 34
        },
        "outputId": "4498aca0-05c7-4d48-ef22-fef02503e048"
      },
      "source": [
        "C"
      ],
      "execution_count": null,
      "outputs": [
        {
          "output_type": "execute_result",
          "data": {
            "application/vnd.google.colaboratory.intrinsic+json": {
              "type": "string"
            },
            "text/plain": [
              "'Passat'"
            ]
          },
          "metadata": {},
          "execution_count": 7
        }
      ]
    },
    {
      "cell_type": "markdown",
      "metadata": {
        "id": "u85Aou8WD0_s"
      },
      "source": [
        "## *zip()*\n",
        "\n",
        "https://docs.python.org/3.6/library/functions.html#zip"
      ]
    },
    {
      "cell_type": "code",
      "metadata": {
        "id": "PaC2oXGED0_t",
        "colab": {
          "base_uri": "https://localhost:8080/"
        },
        "outputId": "e781f371-7eb0-4aa9-c2a3-beecb46f3131"
      },
      "source": [
        "carros = ['Jetta Variant', 'Passat', 'Crossfox', 'DS5']\n",
        "carros"
      ],
      "execution_count": null,
      "outputs": [
        {
          "output_type": "execute_result",
          "data": {
            "text/plain": [
              "['Jetta Variant', 'Passat', 'Crossfox', 'DS5']"
            ]
          },
          "metadata": {},
          "execution_count": 8
        }
      ]
    },
    {
      "cell_type": "code",
      "metadata": {
        "id": "_02O1VnHD0_u",
        "colab": {
          "base_uri": "https://localhost:8080/"
        },
        "outputId": "d0771ddb-18da-4f31-83e0-fa134e19e3d8"
      },
      "source": [
        "valores = [88078.64, 106161.94, 72832.16, 124549.07]\n",
        "valores"
      ],
      "execution_count": null,
      "outputs": [
        {
          "output_type": "execute_result",
          "data": {
            "text/plain": [
              "[88078.64, 106161.94, 72832.16, 124549.07]"
            ]
          },
          "metadata": {},
          "execution_count": 9
        }
      ]
    },
    {
      "cell_type": "code",
      "metadata": {
        "id": "roQK5nYRD0_v",
        "colab": {
          "base_uri": "https://localhost:8080/"
        },
        "outputId": "0dc81b35-4e7d-4cca-afe9-31c42f6e530b"
      },
      "source": [
        "list(zip(carros,valores))\n"
      ],
      "execution_count": null,
      "outputs": [
        {
          "output_type": "execute_result",
          "data": {
            "text/plain": [
              "[('Jetta Variant', 88078.64),\n",
              " ('Passat', 106161.94),\n",
              " ('Crossfox', 72832.16),\n",
              " ('DS5', 124549.07)]"
            ]
          },
          "metadata": {},
          "execution_count": 11
        }
      ]
    },
    {
      "cell_type": "code",
      "metadata": {
        "id": "_WRxIRHrD0_w",
        "colab": {
          "base_uri": "https://localhost:8080/"
        },
        "outputId": "15f77c36-f987-4370-9767-673799e5683b"
      },
      "source": [
        "for item in zip(carros,valores):\n",
        "  print(item)"
      ],
      "execution_count": null,
      "outputs": [
        {
          "output_type": "stream",
          "name": "stdout",
          "text": [
            "('Jetta Variant', 88078.64)\n",
            "('Passat', 106161.94)\n",
            "('Crossfox', 72832.16)\n",
            "('DS5', 124549.07)\n"
          ]
        }
      ]
    },
    {
      "cell_type": "code",
      "metadata": {
        "id": "2zIuhIILD0_x",
        "colab": {
          "base_uri": "https://localhost:8080/"
        },
        "outputId": "8a09d8e4-79c2-4d65-877f-d9966b487a10"
      },
      "source": [
        "for carro,valor in zip(carros,valores):\n",
        "  print(carro,valor)\n",
        "\n"
      ],
      "execution_count": null,
      "outputs": [
        {
          "output_type": "stream",
          "name": "stdout",
          "text": [
            "Jetta Variant 88078.64\n",
            "Passat 106161.94\n",
            "Crossfox 72832.16\n",
            "DS5 124549.07\n"
          ]
        }
      ]
    },
    {
      "cell_type": "code",
      "metadata": {
        "id": "ZJaL62IpD0_y",
        "colab": {
          "base_uri": "https://localhost:8080/"
        },
        "outputId": "c98419df-beda-4d1d-8b3c-e5acfacec58c"
      },
      "source": [
        "for carro,valor in zip(carros,valores):\n",
        "  if valor > 100000:\n",
        "    print(carro)\n"
      ],
      "execution_count": null,
      "outputs": [
        {
          "output_type": "stream",
          "name": "stdout",
          "text": [
            "Passat\n",
            "DS5\n"
          ]
        }
      ]
    },
    {
      "cell_type": "markdown",
      "metadata": {
        "id": "xo76nR8rD0_0"
      },
      "source": [
        "# <font color=green> 3. TRABALHANDO COM DICIONÁRIOS\n",
        "---"
      ]
    },
    {
      "cell_type": "markdown",
      "metadata": {
        "id": "wfWzOuztD0_0"
      },
      "source": [
        "# 3.1 Criando dicionários\n",
        "\n",
        "Listas são coleções sequenciais, isto é, os itens destas sequências estão ordenados e utilizam índices (números inteiros) para acessar os valores.\n",
        "\n",
        "Os dicionários são coleções um pouco diferentes. São estruturas de dados que representam um tipo de mapeamento. Mapeamentos são coleções de associações entre pares de valores onde o primeiro elemento do par é conhecido como chave (*key*) e o segundo como valor (*value*).\n",
        "\n",
        "```\n",
        "dicionario = {key_1: value_1, key_2: value_2, ..., key_n: value_n}\n",
        "```\n",
        "\n",
        "https://docs.python.org/3.6/library/stdtypes.html#typesmapping"
      ]
    },
    {
      "cell_type": "code",
      "metadata": {
        "id": "SuPcV9v6D0_0"
      },
      "source": [
        ""
      ],
      "execution_count": null,
      "outputs": []
    },
    {
      "cell_type": "code",
      "metadata": {
        "id": "YIFVkWT6D0_1",
        "colab": {
          "base_uri": "https://localhost:8080/"
        },
        "outputId": "252a58fb-3d0d-4bb1-bd9c-9e0eeac234b7"
      },
      "source": [
        "carros = ['Jetta Variant', 'Passat', 'Crossfox']\n",
        "carros"
      ],
      "execution_count": null,
      "outputs": [
        {
          "output_type": "execute_result",
          "data": {
            "text/plain": [
              "['Jetta Variant', 'Passat', 'Crossfox']"
            ]
          },
          "metadata": {},
          "execution_count": 15
        }
      ]
    },
    {
      "cell_type": "code",
      "metadata": {
        "id": "2LHiBn3-D0_2",
        "colab": {
          "base_uri": "https://localhost:8080/"
        },
        "outputId": "18c9f534-428d-4c29-e7d7-8e174a14f65f"
      },
      "source": [
        "valores = [88078.64, 106161.94, 72832.16]\n",
        "valores"
      ],
      "execution_count": null,
      "outputs": [
        {
          "output_type": "execute_result",
          "data": {
            "text/plain": [
              "[88078.64, 106161.94, 72832.16]"
            ]
          },
          "metadata": {},
          "execution_count": 16
        }
      ]
    },
    {
      "cell_type": "code",
      "metadata": {
        "id": "YxLAx_sqD0_4",
        "colab": {
          "base_uri": "https://localhost:8080/"
        },
        "outputId": "ab1373e3-69a6-4767-8830-b728501c874b"
      },
      "source": [
        "carros.index('Passat')"
      ],
      "execution_count": null,
      "outputs": [
        {
          "output_type": "execute_result",
          "data": {
            "text/plain": [
              "1"
            ]
          },
          "metadata": {},
          "execution_count": 17
        }
      ]
    },
    {
      "cell_type": "code",
      "metadata": {
        "id": "WITNWExID0_7",
        "colab": {
          "base_uri": "https://localhost:8080/"
        },
        "outputId": "c0c56ca2-b54a-4bf6-ede7-b3e655d86f13"
      },
      "source": [
        "valores[carros.index('Passat')]"
      ],
      "execution_count": null,
      "outputs": [
        {
          "output_type": "execute_result",
          "data": {
            "text/plain": [
              "106161.94"
            ]
          },
          "metadata": {},
          "execution_count": 18
        }
      ]
    },
    {
      "cell_type": "code",
      "metadata": {
        "id": "bHNqoDbTD0_8",
        "colab": {
          "base_uri": "https://localhost:8080/"
        },
        "outputId": "89e53b42-cf10-408b-fb25-b0d889c36261"
      },
      "source": [
        "dados = {'Jetta Variant':88078.64, 'Passat':106161.94, 'Crossfox':72832.16}\n",
        "dados"
      ],
      "execution_count": null,
      "outputs": [
        {
          "output_type": "execute_result",
          "data": {
            "text/plain": [
              "{'Crossfox': 72832.16, 'Jetta Variant': 88078.64, 'Passat': 106161.94}"
            ]
          },
          "metadata": {},
          "execution_count": 20
        }
      ]
    },
    {
      "cell_type": "code",
      "metadata": {
        "id": "4FyQgmcAD0_9",
        "colab": {
          "base_uri": "https://localhost:8080/"
        },
        "outputId": "211c7d5f-a52a-451c-e4f6-89af9eccf80b"
      },
      "source": [
        "type(dados)"
      ],
      "execution_count": null,
      "outputs": [
        {
          "output_type": "execute_result",
          "data": {
            "text/plain": [
              "dict"
            ]
          },
          "metadata": {},
          "execution_count": 21
        }
      ]
    },
    {
      "cell_type": "markdown",
      "metadata": {
        "id": "PQg-MLkGD0_-"
      },
      "source": [
        "### Criando dicionários com *zip()*"
      ]
    },
    {
      "cell_type": "code",
      "metadata": {
        "id": "iB4Q_gbND0__",
        "colab": {
          "base_uri": "https://localhost:8080/"
        },
        "outputId": "df194b09-6b63-4f60-9e25-f2fc90ad6065"
      },
      "source": [
        "list(zip(carros,valores))"
      ],
      "execution_count": null,
      "outputs": [
        {
          "output_type": "execute_result",
          "data": {
            "text/plain": [
              "[('Jetta Variant', 88078.64), ('Passat', 106161.94), ('Crossfox', 72832.16)]"
            ]
          },
          "metadata": {},
          "execution_count": 22
        }
      ]
    },
    {
      "cell_type": "code",
      "metadata": {
        "id": "mIgZqdKKD1AA",
        "colab": {
          "base_uri": "https://localhost:8080/"
        },
        "outputId": "1eae7002-293d-4914-f307-3ea90b8f0ca6"
      },
      "source": [
        "dados = dict(zip(carros,valores))\n",
        "dados"
      ],
      "execution_count": null,
      "outputs": [
        {
          "output_type": "execute_result",
          "data": {
            "text/plain": [
              "{'Crossfox': 72832.16, 'Jetta Variant': 88078.64, 'Passat': 106161.94}"
            ]
          },
          "metadata": {},
          "execution_count": 24
        }
      ]
    },
    {
      "cell_type": "code",
      "metadata": {
        "id": "SiLNgJsMa6KE"
      },
      "source": [
        ""
      ],
      "execution_count": null,
      "outputs": []
    },
    {
      "cell_type": "markdown",
      "metadata": {
        "id": "KYeRqavFD1AD"
      },
      "source": [
        "# 3.2 Operações com dicionários"
      ]
    },
    {
      "cell_type": "markdown",
      "metadata": {
        "id": "KzmWbEltD1AD"
      },
      "source": [
        "## *dict[ key ]*\n",
        "\n",
        "Retorna o valor correspondente à chave (*key*) no dicionário."
      ]
    },
    {
      "cell_type": "code",
      "metadata": {
        "id": "hFFDz6wKD1AD",
        "colab": {
          "base_uri": "https://localhost:8080/"
        },
        "outputId": "237c73fd-c3ec-44f5-c8a2-a33bc034c99d"
      },
      "source": [
        "dados['Passat']"
      ],
      "execution_count": null,
      "outputs": [
        {
          "output_type": "execute_result",
          "data": {
            "text/plain": [
              "106161.94"
            ]
          },
          "metadata": {},
          "execution_count": 25
        }
      ]
    },
    {
      "cell_type": "markdown",
      "metadata": {
        "id": "SWlE6VTBD1AE"
      },
      "source": [
        "## *key in dict*\n",
        "\n",
        "Retorna **True** se a chave (*key*) for encontrada no dicionário."
      ]
    },
    {
      "cell_type": "code",
      "metadata": {
        "id": "Iy88SxBtD1AE",
        "colab": {
          "base_uri": "https://localhost:8080/"
        },
        "outputId": "986c8c8f-5b25-48cc-af76-e0698caad0bb"
      },
      "source": [
        "'Passat' in dados"
      ],
      "execution_count": null,
      "outputs": [
        {
          "output_type": "execute_result",
          "data": {
            "text/plain": [
              "True"
            ]
          },
          "metadata": {},
          "execution_count": 26
        }
      ]
    },
    {
      "cell_type": "code",
      "metadata": {
        "id": "Oma56NkAD1AF",
        "colab": {
          "base_uri": "https://localhost:8080/"
        },
        "outputId": "5fd117d5-d182-45e1-b50a-4a0125b35878"
      },
      "source": [
        "'Fusca' in dados"
      ],
      "execution_count": null,
      "outputs": [
        {
          "output_type": "execute_result",
          "data": {
            "text/plain": [
              "False"
            ]
          },
          "metadata": {},
          "execution_count": 27
        }
      ]
    },
    {
      "cell_type": "code",
      "metadata": {
        "id": "yS2U-_8gD1AG",
        "colab": {
          "base_uri": "https://localhost:8080/"
        },
        "outputId": "e5a25647-e2b7-4dd4-d17d-16654c9bbdf6"
      },
      "source": [
        "'Passat' not in dados"
      ],
      "execution_count": null,
      "outputs": [
        {
          "output_type": "execute_result",
          "data": {
            "text/plain": [
              "False"
            ]
          },
          "metadata": {},
          "execution_count": 28
        }
      ]
    },
    {
      "cell_type": "markdown",
      "metadata": {
        "id": "oWbWyDd0D1AI"
      },
      "source": [
        "## *len(dict)*\n",
        "\n",
        "Retorna o número de itens do dicionário."
      ]
    },
    {
      "cell_type": "code",
      "metadata": {
        "id": "k08YkCc1D1AJ",
        "colab": {
          "base_uri": "https://localhost:8080/"
        },
        "outputId": "edfcbd93-7888-4304-f105-11727aefd494"
      },
      "source": [
        "len(dados)"
      ],
      "execution_count": null,
      "outputs": [
        {
          "output_type": "execute_result",
          "data": {
            "text/plain": [
              "3"
            ]
          },
          "metadata": {},
          "execution_count": 29
        }
      ]
    },
    {
      "cell_type": "markdown",
      "metadata": {
        "id": "yYNqIHJBD1AK"
      },
      "source": [
        "## *dict[ key ] = value*\n",
        "\n",
        "Inclui um item ao dicionário."
      ]
    },
    {
      "cell_type": "code",
      "metadata": {
        "id": "5jj3i52bD1AK"
      },
      "source": [
        "dados['DS5'] = 124549.07"
      ],
      "execution_count": null,
      "outputs": []
    },
    {
      "cell_type": "code",
      "metadata": {
        "id": "y6rso5hLD1AL",
        "colab": {
          "base_uri": "https://localhost:8080/"
        },
        "outputId": "bf038ac3-2c18-4755-b29a-0db14e1bd344"
      },
      "source": [
        "dados"
      ],
      "execution_count": null,
      "outputs": [
        {
          "output_type": "execute_result",
          "data": {
            "text/plain": [
              "{'Crossfox': 72832.16,\n",
              " 'DS5': 124549.07,\n",
              " 'Jetta Variant': 88078.64,\n",
              " 'Passat': 106161.94}"
            ]
          },
          "metadata": {},
          "execution_count": 31
        }
      ]
    },
    {
      "cell_type": "markdown",
      "metadata": {
        "id": "_z0JySuqD1AL"
      },
      "source": [
        "## *del dict[ key ]*\n",
        "\n",
        "Remove o item de chave (*key*) do dicionário."
      ]
    },
    {
      "cell_type": "code",
      "metadata": {
        "id": "PPfh6sfID1AM",
        "colab": {
          "base_uri": "https://localhost:8080/"
        },
        "outputId": "57db1a0f-7603-4274-b783-98498e01c6ce"
      },
      "source": [
        "dados"
      ],
      "execution_count": null,
      "outputs": [
        {
          "output_type": "execute_result",
          "data": {
            "text/plain": [
              "{'Crossfox': 72832.16,\n",
              " 'DS5': 124549.07,\n",
              " 'Jetta Variant': 88078.64,\n",
              " 'Passat': 106161.94}"
            ]
          },
          "metadata": {},
          "execution_count": 32
        }
      ]
    },
    {
      "cell_type": "code",
      "metadata": {
        "id": "BtjGpXtGD1AN",
        "colab": {
          "base_uri": "https://localhost:8080/"
        },
        "outputId": "655b2070-ecf1-42ce-f35f-4494ca542ab5"
      },
      "source": [
        "del dados['Passat']\n",
        "dados"
      ],
      "execution_count": null,
      "outputs": [
        {
          "output_type": "execute_result",
          "data": {
            "text/plain": [
              "{'Crossfox': 72832.16, 'DS5': 124549.07, 'Jetta Variant': 88078.64}"
            ]
          },
          "metadata": {},
          "execution_count": 33
        }
      ]
    },
    {
      "cell_type": "markdown",
      "metadata": {
        "id": "FodJVx5sD1AP"
      },
      "source": [
        "# 3.3 Métodos de dicionários"
      ]
    },
    {
      "cell_type": "markdown",
      "metadata": {
        "id": "7pqdPOkYD1AP"
      },
      "source": [
        "## *dict.update()*\n",
        "\n",
        "Atualiza o dicionário."
      ]
    },
    {
      "cell_type": "code",
      "metadata": {
        "id": "DUySYxKQD1AQ",
        "colab": {
          "base_uri": "https://localhost:8080/"
        },
        "outputId": "727770a3-fc45-40d9-dc4f-2d1e9bea7679"
      },
      "source": [
        "dados"
      ],
      "execution_count": null,
      "outputs": [
        {
          "output_type": "execute_result",
          "data": {
            "text/plain": [
              "{'Crossfox': 72832.16, 'DS5': 124549.07, 'Jetta Variant': 88078.64}"
            ]
          },
          "metadata": {},
          "execution_count": 34
        }
      ]
    },
    {
      "cell_type": "code",
      "metadata": {
        "id": "DLsqp71cD1AR",
        "colab": {
          "base_uri": "https://localhost:8080/"
        },
        "outputId": "80a498b6-4a68-46f2-ea5c-336b713559bb"
      },
      "source": [
        "dados.update({'Passat':106161.94})\n",
        "dados"
      ],
      "execution_count": null,
      "outputs": [
        {
          "output_type": "execute_result",
          "data": {
            "text/plain": [
              "{'Crossfox': 72832.16,\n",
              " 'DS5': 124549.07,\n",
              " 'Jetta Variant': 88078.64,\n",
              " 'Passat': 106161.94}"
            ]
          },
          "metadata": {},
          "execution_count": 36
        }
      ]
    },
    {
      "cell_type": "code",
      "metadata": {
        "colab": {
          "base_uri": "https://localhost:8080/"
        },
        "id": "UqCeT95SdLpW",
        "outputId": "10d0db01-d8f6-4fff-90b6-b93fd44cb122"
      },
      "source": [
        "dados.update({'Passat':106161.95,'Fusca':150000})\n",
        "dados"
      ],
      "execution_count": null,
      "outputs": [
        {
          "output_type": "execute_result",
          "data": {
            "text/plain": [
              "{'Crossfox': 72832.16,\n",
              " 'DS5': 124549.07,\n",
              " 'Fusca': 150000,\n",
              " 'Jetta Variant': 88078.64,\n",
              " 'Passat': 106161.95}"
            ]
          },
          "metadata": {},
          "execution_count": 37
        }
      ]
    },
    {
      "cell_type": "markdown",
      "metadata": {
        "id": "JLs5c0DeD1AR"
      },
      "source": [
        "## *dict.copy()*\n",
        "\n",
        "Cria uma cópia do dicionário."
      ]
    },
    {
      "cell_type": "code",
      "metadata": {
        "id": "X9F7OB3eD1AS"
      },
      "source": [
        "dadosCopy = dados.copy()"
      ],
      "execution_count": null,
      "outputs": []
    },
    {
      "cell_type": "code",
      "metadata": {
        "id": "v0rL0bveD1AS",
        "colab": {
          "base_uri": "https://localhost:8080/"
        },
        "outputId": "f6853736-6692-453e-e528-6b37642fb2da"
      },
      "source": [
        "dadosCopy"
      ],
      "execution_count": null,
      "outputs": [
        {
          "output_type": "execute_result",
          "data": {
            "text/plain": [
              "{'Crossfox': 72832.16,\n",
              " 'DS5': 124549.07,\n",
              " 'Fusca': 150000,\n",
              " 'Jetta Variant': 88078.64,\n",
              " 'Passat': 106161.95}"
            ]
          },
          "metadata": {},
          "execution_count": 40
        }
      ]
    },
    {
      "cell_type": "code",
      "metadata": {
        "id": "M-abRGGrD1AT"
      },
      "source": [
        "del dadosCopy['Fusca']"
      ],
      "execution_count": null,
      "outputs": []
    },
    {
      "cell_type": "code",
      "metadata": {
        "id": "ETBD0TkND1AU",
        "colab": {
          "base_uri": "https://localhost:8080/"
        },
        "outputId": "3496127d-d9f0-4867-89f3-4702a02f368e"
      },
      "source": [
        "dadosCopy"
      ],
      "execution_count": null,
      "outputs": [
        {
          "output_type": "execute_result",
          "data": {
            "text/plain": [
              "{'Crossfox': 72832.16,\n",
              " 'DS5': 124549.07,\n",
              " 'Jetta Variant': 88078.64,\n",
              " 'Passat': 106161.95}"
            ]
          },
          "metadata": {},
          "execution_count": 42
        }
      ]
    },
    {
      "cell_type": "code",
      "metadata": {
        "colab": {
          "base_uri": "https://localhost:8080/"
        },
        "id": "gRJh8pXbdKUj",
        "outputId": "e6d8b255-9289-46e5-8e44-db87ac3b26dd"
      },
      "source": [
        "dados"
      ],
      "execution_count": null,
      "outputs": [
        {
          "output_type": "execute_result",
          "data": {
            "text/plain": [
              "{'Crossfox': 72832.16,\n",
              " 'DS5': 124549.07,\n",
              " 'Fusca': 150000,\n",
              " 'Jetta Variant': 88078.64,\n",
              " 'Passat': 106161.95}"
            ]
          },
          "metadata": {},
          "execution_count": 43
        }
      ]
    },
    {
      "cell_type": "markdown",
      "metadata": {
        "id": "mNODkmHCD1AV"
      },
      "source": [
        "## *dict.pop(key[, default ])*\n",
        "\n",
        "Se a chave for encontrada no dicionário, o item é removido e seu valor é retornado. Caso contrário, o valor especificado como *default* é retornado. Se o valor *default* não for fornecido e a chave não for encontrada no dicionário um erro será gerado."
      ]
    },
    {
      "cell_type": "code",
      "metadata": {
        "id": "_4QEPwScD1AW",
        "colab": {
          "base_uri": "https://localhost:8080/"
        },
        "outputId": "60e05576-096d-4dc2-affc-96ca5e8f8ab8"
      },
      "source": [
        "dadosCopy"
      ],
      "execution_count": null,
      "outputs": [
        {
          "output_type": "execute_result",
          "data": {
            "text/plain": [
              "{'Crossfox': 72832.16,\n",
              " 'DS5': 124549.07,\n",
              " 'Jetta Variant': 88078.64,\n",
              " 'Passat': 106161.95}"
            ]
          },
          "metadata": {},
          "execution_count": 45
        }
      ]
    },
    {
      "cell_type": "code",
      "metadata": {
        "id": "Hjh0MuymD1AX",
        "colab": {
          "base_uri": "https://localhost:8080/"
        },
        "outputId": "4ebd6e62-9a3c-434c-d633-7e5b8a9a4ad8"
      },
      "source": [
        "dadosCopy.pop('Passat')"
      ],
      "execution_count": null,
      "outputs": [
        {
          "output_type": "execute_result",
          "data": {
            "text/plain": [
              "106161.95"
            ]
          },
          "metadata": {},
          "execution_count": 46
        }
      ]
    },
    {
      "cell_type": "code",
      "metadata": {
        "id": "f51rKjkuD1AX",
        "colab": {
          "base_uri": "https://localhost:8080/"
        },
        "outputId": "ae230411-cd2d-4682-a986-b6696127362a"
      },
      "source": [
        "dadosCopy"
      ],
      "execution_count": null,
      "outputs": [
        {
          "output_type": "execute_result",
          "data": {
            "text/plain": [
              "{'Crossfox': 72832.16, 'DS5': 124549.07, 'Jetta Variant': 88078.64}"
            ]
          },
          "metadata": {},
          "execution_count": 47
        }
      ]
    },
    {
      "cell_type": "code",
      "metadata": {
        "id": "Ah4sZ7axD1AZ",
        "colab": {
          "base_uri": "https://localhost:8080/",
          "height": 165
        },
        "outputId": "3ff5bac9-0edd-414f-bdb6-e83235b79e71"
      },
      "source": [
        "# dadosCopy.pop('Passat')\n"
      ],
      "execution_count": null,
      "outputs": [
        {
          "output_type": "error",
          "ename": "KeyError",
          "evalue": "ignored",
          "traceback": [
            "\u001b[0;31m---------------------------------------------------------------------------\u001b[0m",
            "\u001b[0;31mKeyError\u001b[0m                                  Traceback (most recent call last)",
            "\u001b[0;32m<ipython-input-48-b12fd0f355e0>\u001b[0m in \u001b[0;36m<module>\u001b[0;34m()\u001b[0m\n\u001b[0;32m----> 1\u001b[0;31m \u001b[0mdadosCopy\u001b[0m\u001b[0;34m.\u001b[0m\u001b[0mpop\u001b[0m\u001b[0;34m(\u001b[0m\u001b[0;34m'Passat'\u001b[0m\u001b[0;34m)\u001b[0m\u001b[0;34m\u001b[0m\u001b[0;34m\u001b[0m\u001b[0m\n\u001b[0m",
            "\u001b[0;31mKeyError\u001b[0m: 'Passat'"
          ]
        }
      ]
    },
    {
      "cell_type": "code",
      "metadata": {
        "id": "SJATRY8RD1Aa",
        "colab": {
          "base_uri": "https://localhost:8080/",
          "height": 34
        },
        "outputId": "7fc3a8b7-af3f-4b59-d954-b9854bc97583"
      },
      "source": [
        "dadosCopy.pop('Passat','Chave não encontrada')\n"
      ],
      "execution_count": null,
      "outputs": [
        {
          "output_type": "execute_result",
          "data": {
            "application/vnd.google.colaboratory.intrinsic+json": {
              "type": "string"
            },
            "text/plain": [
              "'Chave não encontrada'"
            ]
          },
          "metadata": {},
          "execution_count": 49
        }
      ]
    },
    {
      "cell_type": "code",
      "metadata": {
        "id": "V36wHdzmD1Ab",
        "colab": {
          "base_uri": "https://localhost:8080/"
        },
        "outputId": "d1bba553-632e-42fc-b207-0332e7bad7a5"
      },
      "source": [
        "dadosCopy.pop('DS5','Chave não encontrada')\n"
      ],
      "execution_count": null,
      "outputs": [
        {
          "output_type": "execute_result",
          "data": {
            "text/plain": [
              "124549.07"
            ]
          },
          "metadata": {},
          "execution_count": 50
        }
      ]
    },
    {
      "cell_type": "code",
      "metadata": {
        "id": "LJ0lQIrdD1Ac",
        "colab": {
          "base_uri": "https://localhost:8080/"
        },
        "outputId": "04f947c9-d091-4779-bdfc-e945d468cb48"
      },
      "source": [
        "dadosCopy"
      ],
      "execution_count": null,
      "outputs": [
        {
          "output_type": "execute_result",
          "data": {
            "text/plain": [
              "{'Crossfox': 72832.16, 'Jetta Variant': 88078.64}"
            ]
          },
          "metadata": {},
          "execution_count": 51
        }
      ]
    },
    {
      "cell_type": "code",
      "metadata": {
        "id": "yKGu-fYkD1Ad",
        "colab": {
          "base_uri": "https://localhost:8080/",
          "height": 165
        },
        "outputId": "f1f49121-6e2f-4cc0-bf63-911c34aed410"
      },
      "source": [
        "# dadosCopy.pop()"
      ],
      "execution_count": null,
      "outputs": [
        {
          "output_type": "error",
          "ename": "TypeError",
          "evalue": "ignored",
          "traceback": [
            "\u001b[0;31m---------------------------------------------------------------------------\u001b[0m",
            "\u001b[0;31mTypeError\u001b[0m                                 Traceback (most recent call last)",
            "\u001b[0;32m<ipython-input-55-fd31ae170d17>\u001b[0m in \u001b[0;36m<module>\u001b[0;34m()\u001b[0m\n\u001b[0;32m----> 1\u001b[0;31m \u001b[0mdadosCopy\u001b[0m\u001b[0;34m.\u001b[0m\u001b[0mpop\u001b[0m\u001b[0;34m(\u001b[0m\u001b[0;34m)\u001b[0m\u001b[0;34m\u001b[0m\u001b[0;34m\u001b[0m\u001b[0m\n\u001b[0m",
            "\u001b[0;31mTypeError\u001b[0m: pop expected at least 1 arguments, got 0"
          ]
        }
      ]
    },
    {
      "cell_type": "code",
      "metadata": {
        "id": "x-h8nVyhD1Af",
        "colab": {
          "base_uri": "https://localhost:8080/"
        },
        "outputId": "9c51ca5e-4b9d-4905-a10d-01e7b16668be"
      },
      "source": [
        "dadosCopy.update(UnoMile = 195000, Toro = 260000)\n",
        "dadosCopy"
      ],
      "execution_count": null,
      "outputs": [
        {
          "output_type": "execute_result",
          "data": {
            "text/plain": [
              "{'Crossfox': 72832.16,\n",
              " 'DS5': 124549.07,\n",
              " 'Fusca': 150000,\n",
              " 'Jetta Variant': 88078.64,\n",
              " 'Passat': 106161.95,\n",
              " 'Toro': 260000,\n",
              " 'UnoMile': 195000}"
            ]
          },
          "metadata": {},
          "execution_count": 57
        }
      ]
    },
    {
      "cell_type": "markdown",
      "metadata": {
        "id": "Q5J0R7d3D1Ag"
      },
      "source": [
        "## *dict.clear()*\n",
        "\n",
        "Remove todos os itens do dicionário."
      ]
    },
    {
      "cell_type": "code",
      "metadata": {
        "id": "AvkP_8mND1Ag"
      },
      "source": [
        "dadosCopy.clear()"
      ],
      "execution_count": null,
      "outputs": []
    },
    {
      "cell_type": "code",
      "metadata": {
        "id": "S69pMYboD1Ah",
        "colab": {
          "base_uri": "https://localhost:8080/"
        },
        "outputId": "516f2733-7be0-4d22-b9d9-58cba2cb79b0"
      },
      "source": [
        "dadosCopy"
      ],
      "execution_count": null,
      "outputs": [
        {
          "output_type": "execute_result",
          "data": {
            "text/plain": [
              "{}"
            ]
          },
          "metadata": {},
          "execution_count": 53
        }
      ]
    },
    {
      "cell_type": "markdown",
      "metadata": {
        "id": "QhoSRfPsD1Ai"
      },
      "source": [
        "# 3.4 Iterando em dicionários"
      ]
    },
    {
      "cell_type": "markdown",
      "metadata": {
        "id": "E-agaqakD1Ai"
      },
      "source": [
        "## *dict.keys()*\n",
        "\n",
        "Retorna uma lista contendo as chaves (*keys*) do dicionário."
      ]
    },
    {
      "cell_type": "code",
      "metadata": {
        "id": "qFADEYmBD1Aj",
        "colab": {
          "base_uri": "https://localhost:8080/"
        },
        "outputId": "8e22dba9-8929-41fe-eb38-8f61c23fd053"
      },
      "source": [
        "dados.keys()"
      ],
      "execution_count": null,
      "outputs": [
        {
          "output_type": "execute_result",
          "data": {
            "text/plain": [
              "dict_keys(['Jetta Variant', 'Crossfox', 'DS5', 'Passat', 'Fusca'])"
            ]
          },
          "metadata": {},
          "execution_count": 58
        }
      ]
    },
    {
      "cell_type": "code",
      "metadata": {
        "id": "niwh9AgDD1Aj",
        "colab": {
          "base_uri": "https://localhost:8080/"
        },
        "outputId": "ffab1ce3-0181-482e-c787-539f8b4154b4"
      },
      "source": [
        "for key in dados.keys():\n",
        "  print(dados[key])"
      ],
      "execution_count": null,
      "outputs": [
        {
          "output_type": "stream",
          "name": "stdout",
          "text": [
            "88078.64\n",
            "72832.16\n",
            "124549.07\n",
            "106161.95\n",
            "150000\n"
          ]
        }
      ]
    },
    {
      "cell_type": "markdown",
      "metadata": {
        "id": "qFj6Cc7dD1Ak"
      },
      "source": [
        "## *dict.values()*\n",
        "\n",
        "Retorna uma lista com todos os valores (*values*) do dicionário."
      ]
    },
    {
      "cell_type": "code",
      "metadata": {
        "id": "nfpLxrQVD1Al",
        "colab": {
          "base_uri": "https://localhost:8080/"
        },
        "outputId": "dc77db17-0639-4312-8e2e-25452761ed28"
      },
      "source": [
        "dados.values()"
      ],
      "execution_count": null,
      "outputs": [
        {
          "output_type": "execute_result",
          "data": {
            "text/plain": [
              "dict_values([88078.64, 72832.16, 124549.07, 106161.95, 150000])"
            ]
          },
          "metadata": {},
          "execution_count": 60
        }
      ]
    },
    {
      "cell_type": "markdown",
      "metadata": {
        "id": "-NGRwX0AD1Al"
      },
      "source": [
        "## *dict.items()*\n",
        "\n",
        "Retorna uma lista contendo uma tupla para cada par chave-valor (*key-value*) do dicionário."
      ]
    },
    {
      "cell_type": "code",
      "metadata": {
        "id": "Q2I9_6YvD1Am",
        "colab": {
          "base_uri": "https://localhost:8080/"
        },
        "outputId": "3e632d49-7bd6-49c4-90f1-3ea29ec81f67"
      },
      "source": [
        "dados.items()"
      ],
      "execution_count": null,
      "outputs": [
        {
          "output_type": "execute_result",
          "data": {
            "text/plain": [
              "dict_items([('Jetta Variant', 88078.64), ('Crossfox', 72832.16), ('DS5', 124549.07), ('Passat', 106161.95), ('Fusca', 150000)])"
            ]
          },
          "metadata": {},
          "execution_count": 61
        }
      ]
    },
    {
      "cell_type": "code",
      "metadata": {
        "id": "0j41ZqgQD1Am",
        "colab": {
          "base_uri": "https://localhost:8080/"
        },
        "outputId": "d7c2146d-d4e4-415f-ff7b-9d97ad5fbd82"
      },
      "source": [
        "for item in dados.items():\n",
        "  print(item)"
      ],
      "execution_count": null,
      "outputs": [
        {
          "output_type": "stream",
          "name": "stdout",
          "text": [
            "('Jetta Variant', 88078.64)\n",
            "('Crossfox', 72832.16)\n",
            "('DS5', 124549.07)\n",
            "('Passat', 106161.95)\n",
            "('Fusca', 150000)\n"
          ]
        }
      ]
    },
    {
      "cell_type": "code",
      "metadata": {
        "id": "OVY9rIwFD1An",
        "colab": {
          "base_uri": "https://localhost:8080/"
        },
        "outputId": "aaf573f1-6721-40cb-b094-e36010fd080b"
      },
      "source": [
        "for key, value in dados.items():\n",
        "  print(key,value)"
      ],
      "execution_count": null,
      "outputs": [
        {
          "output_type": "stream",
          "name": "stdout",
          "text": [
            "Jetta Variant 88078.64\n",
            "Crossfox 72832.16\n",
            "DS5 124549.07\n",
            "Passat 106161.95\n",
            "Fusca 150000\n"
          ]
        }
      ]
    },
    {
      "cell_type": "code",
      "metadata": {
        "id": "ma2Ol8vcD1Ap",
        "colab": {
          "base_uri": "https://localhost:8080/"
        },
        "outputId": "e1acd77b-067d-45c1-f380-255f4399b0c5"
      },
      "source": [
        "for key,value in dados.items():\n",
        "  if value > 100000:\n",
        "    print(key)"
      ],
      "execution_count": null,
      "outputs": [
        {
          "output_type": "stream",
          "name": "stdout",
          "text": [
            "DS5\n",
            "Passat\n",
            "Fusca\n"
          ]
        }
      ]
    },
    {
      "cell_type": "markdown",
      "metadata": {
        "id": "-q3AlSg3D1Aq"
      },
      "source": [
        "# <font color=green> 4. FUNÇÕES E PACOTES\n",
        "---\n",
        "    \n",
        "Funções são unidades de código reutilizáveis que realizam uma tarefa específica, podem receber alguma entrada e também podem retornar alguma resultado."
      ]
    },
    {
      "cell_type": "markdown",
      "metadata": {
        "id": "5CfEcU58D1Aq"
      },
      "source": [
        "# 4.1 Built-in function\n",
        "\n",
        "A linguagem Python possui várias funções integradas que estão sempre acessíveis. Algumas já utilizamos em nosso treinamento: type(), print(), zip(), len(), set() etc.\n",
        "\n",
        "https://docs.python.org/3.6/library/functions.html"
      ]
    },
    {
      "cell_type": "code",
      "metadata": {
        "id": "DP7cmY7xD1Aq",
        "outputId": "1d33034f-da2d-41c6-e164-c0dba9fafdc2",
        "colab": {
          "base_uri": "https://localhost:8080/"
        }
      },
      "source": [
        "dados = {'Jetta Variant': 88078.64, 'Passat': 106161.94, 'Crossfox': 72832.16}\n",
        "dados"
      ],
      "execution_count": 1,
      "outputs": [
        {
          "output_type": "execute_result",
          "data": {
            "text/plain": [
              "{'Crossfox': 72832.16, 'Jetta Variant': 88078.64, 'Passat': 106161.94}"
            ]
          },
          "metadata": {},
          "execution_count": 1
        }
      ]
    },
    {
      "cell_type": "code",
      "metadata": {
        "id": "5zAcGSCbD1Ar",
        "outputId": "8758744e-4085-478f-a9b3-98cd1be0cb97",
        "colab": {
          "base_uri": "https://localhost:8080/"
        }
      },
      "source": [
        "valores = []\n",
        "for valor in dados.values():\n",
        "  valores.append(valor)\n",
        "valores"
      ],
      "execution_count": 5,
      "outputs": [
        {
          "output_type": "execute_result",
          "data": {
            "text/plain": [
              "[88078.64, 106161.94, 72832.16]"
            ]
          },
          "metadata": {},
          "execution_count": 5
        }
      ]
    },
    {
      "cell_type": "code",
      "metadata": {
        "id": "zG9_jU_1D1At",
        "outputId": "e6f43280-ddfc-4afc-b1db-dd8bd3eaea2f",
        "colab": {
          "base_uri": "https://localhost:8080/"
        }
      },
      "source": [
        "soma = 0\n",
        "for valor in dados.values():\n",
        "  soma += valor\n",
        "soma"
      ],
      "execution_count": 6,
      "outputs": [
        {
          "output_type": "execute_result",
          "data": {
            "text/plain": [
              "267072.74"
            ]
          },
          "metadata": {},
          "execution_count": 6
        }
      ]
    },
    {
      "cell_type": "code",
      "metadata": {
        "id": "jn0O3uXZD1Au"
      },
      "source": [
        ""
      ],
      "execution_count": null,
      "outputs": []
    },
    {
      "cell_type": "code",
      "metadata": {
        "id": "lnUjKVnoD1Aw"
      },
      "source": [
        ""
      ],
      "execution_count": null,
      "outputs": []
    },
    {
      "cell_type": "code",
      "metadata": {
        "scrolled": false,
        "id": "WdEuYXe2D1Ay"
      },
      "source": [
        ""
      ],
      "execution_count": null,
      "outputs": []
    },
    {
      "cell_type": "code",
      "metadata": {
        "id": "hIA29O3tD1Az"
      },
      "source": [
        ""
      ],
      "execution_count": null,
      "outputs": []
    },
    {
      "cell_type": "markdown",
      "metadata": {
        "id": "6w62Sl5ZD1A0"
      },
      "source": [
        "# 4.2 Definindo funções sem e com parâmetros"
      ]
    },
    {
      "cell_type": "markdown",
      "metadata": {
        "id": "OADZiBP2D1A0"
      },
      "source": [
        "### Funções sem parâmetros\n",
        "\n",
        "#### Formato padrão\n",
        "\n",
        "```\n",
        "def <nome>():\n",
        "    <instruções>\n",
        "```"
      ]
    },
    {
      "cell_type": "code",
      "metadata": {
        "id": "uCkplEpQD1A0"
      },
      "source": [
        ""
      ],
      "execution_count": null,
      "outputs": []
    },
    {
      "cell_type": "code",
      "metadata": {
        "id": "fOCEGq5VD1A1"
      },
      "source": [
        ""
      ],
      "execution_count": null,
      "outputs": []
    },
    {
      "cell_type": "markdown",
      "metadata": {
        "id": "PwSlYSVAD1A2"
      },
      "source": [
        "### Funções com parâmetros\n",
        "\n",
        "#### Formato padrão\n",
        "\n",
        "```\n",
        "def <nome>(<param_1>, <param_2>, ..., <param_n>):\n",
        "    <instruções>\n",
        "```"
      ]
    },
    {
      "cell_type": "code",
      "metadata": {
        "id": "A3YnBUduD1A3"
      },
      "source": [
        ""
      ],
      "execution_count": null,
      "outputs": []
    },
    {
      "cell_type": "code",
      "metadata": {
        "id": "rGUZbRERD1A3"
      },
      "source": [
        ""
      ],
      "execution_count": null,
      "outputs": []
    },
    {
      "cell_type": "code",
      "metadata": {
        "id": "B9WDlRE7D1A5"
      },
      "source": [
        ""
      ],
      "execution_count": null,
      "outputs": []
    },
    {
      "cell_type": "code",
      "metadata": {
        "id": "1HAy8OK_D1A6"
      },
      "source": [
        ""
      ],
      "execution_count": null,
      "outputs": []
    },
    {
      "cell_type": "code",
      "metadata": {
        "id": "_CDa4oOfD1A6"
      },
      "source": [
        ""
      ],
      "execution_count": null,
      "outputs": []
    },
    {
      "cell_type": "code",
      "metadata": {
        "id": "xH-mxqYAD1A8"
      },
      "source": [
        ""
      ],
      "execution_count": null,
      "outputs": []
    },
    {
      "cell_type": "code",
      "metadata": {
        "id": "WXXC_UidD1A8"
      },
      "source": [
        ""
      ],
      "execution_count": null,
      "outputs": []
    },
    {
      "cell_type": "markdown",
      "metadata": {
        "id": "8zNYrmFbD1A9"
      },
      "source": [
        "# 4.3 Definindo funções que retornam valores"
      ]
    },
    {
      "cell_type": "markdown",
      "metadata": {
        "id": "J44K-dMOD1A9"
      },
      "source": [
        "### Funções que retornam um valor\n",
        "\n",
        "#### Formato padrão\n",
        "\n",
        "```\n",
        "def <nome>(<param_1>, <param_2>, ..., <param_n>):\n",
        "    <instruções>\n",
        "    return <resultado>\n",
        "```"
      ]
    },
    {
      "cell_type": "code",
      "metadata": {
        "id": "-UG42RQJD1A9"
      },
      "source": [
        ""
      ],
      "execution_count": null,
      "outputs": []
    },
    {
      "cell_type": "code",
      "metadata": {
        "id": "VJwdvoT5D1A-"
      },
      "source": [
        ""
      ],
      "execution_count": null,
      "outputs": []
    },
    {
      "cell_type": "code",
      "metadata": {
        "id": "AgAeJkpND1A-"
      },
      "source": [
        ""
      ],
      "execution_count": null,
      "outputs": []
    },
    {
      "cell_type": "code",
      "metadata": {
        "id": "_r616TevD1A_"
      },
      "source": [
        ""
      ],
      "execution_count": null,
      "outputs": []
    },
    {
      "cell_type": "markdown",
      "metadata": {
        "id": "MQaK8GV5D1BA"
      },
      "source": [
        "### Funções que retornam mais de um valor\n",
        "\n",
        "#### Formato padrão\n",
        "\n",
        "```\n",
        "def <nome>(<param_1>, <param_2>, ..., <param_n>):\n",
        "    <instruções>\n",
        "    return (<resultado_1>, <resultado_2>, ..., <resultado_n>)\n",
        "```"
      ]
    },
    {
      "cell_type": "code",
      "metadata": {
        "id": "v0PUMegVD1BA"
      },
      "source": [
        ""
      ],
      "execution_count": null,
      "outputs": []
    },
    {
      "cell_type": "code",
      "metadata": {
        "id": "Ys-etom8D1BA"
      },
      "source": [
        ""
      ],
      "execution_count": null,
      "outputs": []
    },
    {
      "cell_type": "code",
      "metadata": {
        "id": "LERrvkMHD1BC"
      },
      "source": [
        ""
      ],
      "execution_count": null,
      "outputs": []
    },
    {
      "cell_type": "code",
      "metadata": {
        "id": "sqoFOWSsD1BC"
      },
      "source": [
        ""
      ],
      "execution_count": null,
      "outputs": []
    },
    {
      "cell_type": "code",
      "metadata": {
        "id": "NdB_Jyw_D1BD"
      },
      "source": [
        ""
      ],
      "execution_count": null,
      "outputs": []
    },
    {
      "cell_type": "markdown",
      "metadata": {
        "id": "uQ5lNnKrD1BD"
      },
      "source": [
        "# <font color=green> 5. PANDAS BÁSICO\n",
        "---\n",
        "\n",
        "**versão: 0.25.2**\n",
        "  \n",
        "Pandas é uma ferramenta de manipulação de dados de alto nível, construída com base no pacote Numpy. O pacote pandas possui estruturas de dados bastante interessantes para manipulação de dados e por isso é muito utilizado por cientistas de dados.\n",
        "\n",
        "\n",
        "## Estruturas de Dados\n",
        "\n",
        "### Series\n",
        "\n",
        "Series são arrays unidimensionais rotulados capazes de armazenar qualquer tipo de dado. Os rótulos das linhas são chamados de **index**. A forma básica de criação de uma Series é a seguinte:\n",
        "\n",
        "\n",
        "```\n",
        "    s = pd.Series(dados, index = index)\n",
        "```\n",
        "\n",
        "O argumento *dados* pode ser um dicionário, uma lista, um array Numpy ou uma constante.\n",
        "\n",
        "### DataFrames\n",
        "\n",
        "DataFrame é uma estrutura de dados tabular bidimensional com rótulos nas linha e colunas. Como a Series, os DataFrames são capazes de armazenar qualquer tipo de dados.\n",
        "\n",
        "\n",
        "```\n",
        "    df = pd.DataFrame(dados, index = index, columns = columns)\n",
        "```\n",
        "\n",
        "O argumento *dados* pode ser um dicionário, uma lista, um array Numpy, uma Series e outro DataFrame.\n",
        "\n",
        "**Documentação:** https://pandas.pydata.org/pandas-docs/version/0.25/"
      ]
    },
    {
      "cell_type": "markdown",
      "metadata": {
        "id": "2qa7RC03D1BD"
      },
      "source": [
        "# 5.1 Estruturas de dados"
      ]
    },
    {
      "cell_type": "code",
      "metadata": {
        "id": "4QyFDeS4D1BD"
      },
      "source": [
        ""
      ],
      "execution_count": null,
      "outputs": []
    },
    {
      "cell_type": "markdown",
      "metadata": {
        "id": "kIey8_OcD1BF"
      },
      "source": [
        "### Criando uma Series a partir de uma lista"
      ]
    },
    {
      "cell_type": "code",
      "metadata": {
        "id": "yEZR6DWiD1BF"
      },
      "source": [
        ""
      ],
      "execution_count": null,
      "outputs": []
    },
    {
      "cell_type": "code",
      "metadata": {
        "id": "rLudWKZ_D1BF"
      },
      "source": [
        ""
      ],
      "execution_count": null,
      "outputs": []
    },
    {
      "cell_type": "markdown",
      "metadata": {
        "id": "VYVIKd1-D1BG"
      },
      "source": [
        "### Criando um DataFrame a partir de uma lista de dicionários"
      ]
    },
    {
      "cell_type": "code",
      "metadata": {
        "id": "QFNS9PckD1BG"
      },
      "source": [
        "dados = [\n",
        "    {'Nome': 'Jetta Variant', 'Motor': 'Motor 4.0 Turbo', 'Ano': 2003, 'Quilometragem': 44410.0, 'Zero_km': False, 'Valor': 88078.64},\n",
        "    {'Nome': 'Passat', 'Motor': 'Motor Diesel', 'Ano': 1991, 'Quilometragem': 5712.0, 'Zero_km': False, 'Valor': 106161.94},\n",
        "    {'Nome': 'Crossfox', 'Motor': 'Motor Diesel V8', 'Ano': 1990, 'Quilometragem': 37123.0, 'Zero_km': False, 'Valor': 72832.16}\n",
        "]"
      ],
      "execution_count": null,
      "outputs": []
    },
    {
      "cell_type": "code",
      "metadata": {
        "id": "WDQb9AnKD1BH"
      },
      "source": [
        ""
      ],
      "execution_count": null,
      "outputs": []
    },
    {
      "cell_type": "code",
      "metadata": {
        "id": "-2-jGvmGD1BI"
      },
      "source": [
        ""
      ],
      "execution_count": null,
      "outputs": []
    },
    {
      "cell_type": "code",
      "metadata": {
        "id": "2kbyOThiD1BJ"
      },
      "source": [
        ""
      ],
      "execution_count": null,
      "outputs": []
    },
    {
      "cell_type": "markdown",
      "metadata": {
        "id": "pJK2tQgYD1BK"
      },
      "source": [
        "### Criando um DataFrame a partir de um dicionário"
      ]
    },
    {
      "cell_type": "code",
      "metadata": {
        "id": "WKNQwKucD1BK"
      },
      "source": [
        "dados = {\n",
        "    'Nome': ['Jetta Variant', 'Passat', 'Crossfox'], \n",
        "    'Motor': ['Motor 4.0 Turbo', 'Motor Diesel', 'Motor Diesel V8'],\n",
        "    'Ano': [2003, 1991, 1990],\n",
        "    'Quilometragem': [44410.0, 5712.0, 37123.0],\n",
        "    'Zero_km': [False, False, False],\n",
        "    'Valor': [88078.64, 106161.94, 72832.16]\n",
        "}"
      ],
      "execution_count": null,
      "outputs": []
    },
    {
      "cell_type": "code",
      "metadata": {
        "id": "lKnuZfzcD1BK"
      },
      "source": [
        ""
      ],
      "execution_count": null,
      "outputs": []
    },
    {
      "cell_type": "code",
      "metadata": {
        "id": "PNqTytC-D1BL"
      },
      "source": [
        ""
      ],
      "execution_count": null,
      "outputs": []
    },
    {
      "cell_type": "markdown",
      "metadata": {
        "id": "fCCXs0reD1BL"
      },
      "source": [
        "### Criando um DataFrame a partir de uma arquivo externo"
      ]
    },
    {
      "cell_type": "code",
      "metadata": {
        "id": "78PRHGeZD1BL"
      },
      "source": [
        ""
      ],
      "execution_count": null,
      "outputs": []
    },
    {
      "cell_type": "code",
      "metadata": {
        "scrolled": true,
        "id": "1o1YlnVPD1BM"
      },
      "source": [
        ""
      ],
      "execution_count": null,
      "outputs": []
    },
    {
      "cell_type": "markdown",
      "metadata": {
        "id": "y5V-1AK-D1BN"
      },
      "source": [
        "# 5.2 Seleções com DataFrames"
      ]
    },
    {
      "cell_type": "markdown",
      "metadata": {
        "id": "wZjqlHe9D1BN"
      },
      "source": [
        "### Selecionando colunas"
      ]
    },
    {
      "cell_type": "code",
      "metadata": {
        "scrolled": true,
        "id": "gM3LbtzlD1BN"
      },
      "source": [
        ""
      ],
      "execution_count": null,
      "outputs": []
    },
    {
      "cell_type": "code",
      "metadata": {
        "id": "R2FWgCM_D1BO"
      },
      "source": [
        ""
      ],
      "execution_count": null,
      "outputs": []
    },
    {
      "cell_type": "code",
      "metadata": {
        "scrolled": true,
        "id": "lCCumsxsD1BP"
      },
      "source": [
        ""
      ],
      "execution_count": null,
      "outputs": []
    },
    {
      "cell_type": "code",
      "metadata": {
        "id": "zxlyC3B8D1BP"
      },
      "source": [
        ""
      ],
      "execution_count": null,
      "outputs": []
    },
    {
      "cell_type": "markdown",
      "metadata": {
        "id": "7RPXPm1XD1BQ"
      },
      "source": [
        "### Selecionando linhas - [ i : j ] \n",
        "\n",
        "<font color=red>**Observação:**</font> A indexação tem origem no zero e nos fatiamentos (*slices*) a linha com índice i é **incluída** e a linha com índice j **não é incluída** no resultado."
      ]
    },
    {
      "cell_type": "code",
      "metadata": {
        "id": "PdDUwPw3D1BQ"
      },
      "source": [
        ""
      ],
      "execution_count": null,
      "outputs": []
    },
    {
      "cell_type": "markdown",
      "metadata": {
        "id": "G3DMSk97D1BR"
      },
      "source": [
        "### Utilizando .loc para seleções\n",
        "\n",
        "<font color=red>**Observação:**</font> Seleciona um grupo de linhas e colunas segundo os rótulos ou uma matriz booleana."
      ]
    },
    {
      "cell_type": "code",
      "metadata": {
        "id": "Ftg-hNOoD1BR"
      },
      "source": [
        ""
      ],
      "execution_count": null,
      "outputs": []
    },
    {
      "cell_type": "code",
      "metadata": {
        "id": "xdxkDrHvD1BS"
      },
      "source": [
        ""
      ],
      "execution_count": null,
      "outputs": []
    },
    {
      "cell_type": "code",
      "metadata": {
        "id": "pMN3U1KjD1BS"
      },
      "source": [
        ""
      ],
      "execution_count": null,
      "outputs": []
    },
    {
      "cell_type": "code",
      "metadata": {
        "scrolled": true,
        "id": "oOEO72uZD1BT"
      },
      "source": [
        ""
      ],
      "execution_count": null,
      "outputs": []
    },
    {
      "cell_type": "markdown",
      "metadata": {
        "id": "SYKEe3vCD1BT"
      },
      "source": [
        "### Utilizando .iloc para seleções\n",
        "\n",
        "<font color=red>**Observação:**</font> Seleciona com base nos índices, ou seja, se baseia na posição das informações."
      ]
    },
    {
      "cell_type": "code",
      "metadata": {
        "id": "U4Bru90bD1BT"
      },
      "source": [
        ""
      ],
      "execution_count": null,
      "outputs": []
    },
    {
      "cell_type": "code",
      "metadata": {
        "id": "iLKUyrzND1BU"
      },
      "source": [
        ""
      ],
      "execution_count": null,
      "outputs": []
    },
    {
      "cell_type": "code",
      "metadata": {
        "id": "KGZpixYUD1BU"
      },
      "source": [
        ""
      ],
      "execution_count": null,
      "outputs": []
    },
    {
      "cell_type": "code",
      "metadata": {
        "id": "GxdqIz4LD1BV"
      },
      "source": [
        ""
      ],
      "execution_count": null,
      "outputs": []
    },
    {
      "cell_type": "code",
      "metadata": {
        "scrolled": true,
        "id": "AVIhs7uLD1BW"
      },
      "source": [
        ""
      ],
      "execution_count": null,
      "outputs": []
    },
    {
      "cell_type": "markdown",
      "metadata": {
        "id": "eAbwq1oLD1BW"
      },
      "source": [
        "# 5.3 Queries com DataFrames"
      ]
    },
    {
      "cell_type": "code",
      "metadata": {
        "scrolled": true,
        "id": "AOZTWzehD1BW"
      },
      "source": [
        ""
      ],
      "execution_count": null,
      "outputs": []
    },
    {
      "cell_type": "code",
      "metadata": {
        "scrolled": true,
        "id": "rO5T4h94D1BX"
      },
      "source": [
        ""
      ],
      "execution_count": null,
      "outputs": []
    },
    {
      "cell_type": "code",
      "metadata": {
        "id": "STZ-l8oaD1BX"
      },
      "source": [
        ""
      ],
      "execution_count": null,
      "outputs": []
    },
    {
      "cell_type": "code",
      "metadata": {
        "id": "OZC8NAn6D1BX"
      },
      "source": [
        ""
      ],
      "execution_count": null,
      "outputs": []
    },
    {
      "cell_type": "code",
      "metadata": {
        "scrolled": true,
        "id": "OzXC2M40D1BY"
      },
      "source": [
        ""
      ],
      "execution_count": null,
      "outputs": []
    },
    {
      "cell_type": "markdown",
      "metadata": {
        "id": "_XKXcWO-D1BY"
      },
      "source": [
        "### Utilizando o método query"
      ]
    },
    {
      "cell_type": "code",
      "metadata": {
        "id": "AB9JirSoD1BY"
      },
      "source": [
        ""
      ],
      "execution_count": null,
      "outputs": []
    },
    {
      "cell_type": "markdown",
      "metadata": {
        "id": "ciJ4dw_FD1BZ"
      },
      "source": [
        "# 5.4 Iterando com DataFrames"
      ]
    },
    {
      "cell_type": "code",
      "metadata": {
        "id": "TKAB-g5KD1BZ"
      },
      "source": [
        ""
      ],
      "execution_count": null,
      "outputs": []
    },
    {
      "cell_type": "code",
      "metadata": {
        "id": "eFTNtPRWD1Ba"
      },
      "source": [
        ""
      ],
      "execution_count": null,
      "outputs": []
    },
    {
      "cell_type": "markdown",
      "metadata": {
        "id": "HnUzHFQPD1Ba"
      },
      "source": [
        "# 5.5 Tratamento de dados"
      ]
    },
    {
      "cell_type": "code",
      "metadata": {
        "id": "FRxBWoBGD1Ba"
      },
      "source": [
        ""
      ],
      "execution_count": null,
      "outputs": []
    },
    {
      "cell_type": "code",
      "metadata": {
        "id": "HHSwH0ZaD1Bc"
      },
      "source": [
        ""
      ],
      "execution_count": null,
      "outputs": []
    },
    {
      "cell_type": "code",
      "metadata": {
        "scrolled": true,
        "id": "G27pxgZ5D1Bd"
      },
      "source": [
        ""
      ],
      "execution_count": null,
      "outputs": []
    },
    {
      "cell_type": "code",
      "metadata": {
        "scrolled": true,
        "id": "DhlRbxy2D1Bd"
      },
      "source": [
        ""
      ],
      "execution_count": null,
      "outputs": []
    },
    {
      "cell_type": "code",
      "metadata": {
        "id": "OL04QU5RD1Be"
      },
      "source": [
        ""
      ],
      "execution_count": null,
      "outputs": []
    },
    {
      "cell_type": "code",
      "metadata": {
        "scrolled": true,
        "id": "fTH2JkGDD1Bf"
      },
      "source": [
        ""
      ],
      "execution_count": null,
      "outputs": []
    },
    {
      "cell_type": "code",
      "metadata": {
        "id": "lure2GvpD1Bg"
      },
      "source": [
        ""
      ],
      "execution_count": null,
      "outputs": []
    },
    {
      "cell_type": "code",
      "metadata": {
        "id": "4-ZvhXjvD1Bj"
      },
      "source": [
        ""
      ],
      "execution_count": null,
      "outputs": []
    },
    {
      "cell_type": "code",
      "metadata": {
        "scrolled": true,
        "id": "MQUw7i1OD1Bk"
      },
      "source": [
        ""
      ],
      "execution_count": null,
      "outputs": []
    },
    {
      "cell_type": "code",
      "metadata": {
        "id": "U4Cse7miD1Bl"
      },
      "source": [
        ""
      ],
      "execution_count": null,
      "outputs": []
    },
    {
      "cell_type": "code",
      "metadata": {
        "scrolled": true,
        "id": "8L4wum05D1Bl"
      },
      "source": [
        ""
      ],
      "execution_count": null,
      "outputs": []
    },
    {
      "cell_type": "code",
      "metadata": {
        "id": "8iLOc-U3D1Bm"
      },
      "source": [
        ""
      ],
      "execution_count": null,
      "outputs": []
    }
  ]
}