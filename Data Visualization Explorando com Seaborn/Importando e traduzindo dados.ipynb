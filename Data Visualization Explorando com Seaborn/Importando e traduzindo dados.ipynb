{
 "cells": [
  {
   "cell_type": "code",
   "execution_count": 6,
   "id": "4d31f14f",
   "metadata": {},
   "outputs": [],
   "source": [
    "import pandas as pd\n",
    "import seaborn as sns"
   ]
  },
  {
   "cell_type": "markdown",
   "id": "c523f95f",
   "metadata": {},
   "source": [
    "# Importando base de dados"
   ]
  },
  {
   "cell_type": "code",
   "execution_count": 7,
   "id": "f0af2593",
   "metadata": {},
   "outputs": [
    {
     "data": {
      "text/html": [
       "<div>\n",
       "<style scoped>\n",
       "    .dataframe tbody tr th:only-of-type {\n",
       "        vertical-align: middle;\n",
       "    }\n",
       "\n",
       "    .dataframe tbody tr th {\n",
       "        vertical-align: top;\n",
       "    }\n",
       "\n",
       "    .dataframe thead th {\n",
       "        text-align: right;\n",
       "    }\n",
       "</style>\n",
       "<table border=\"1\" class=\"dataframe\">\n",
       "  <thead>\n",
       "    <tr style=\"text-align: right;\">\n",
       "      <th></th>\n",
       "      <th>total_bill</th>\n",
       "      <th>tip</th>\n",
       "      <th>dessert</th>\n",
       "      <th>day</th>\n",
       "      <th>time</th>\n",
       "      <th>size</th>\n",
       "    </tr>\n",
       "  </thead>\n",
       "  <tbody>\n",
       "    <tr>\n",
       "      <th>0</th>\n",
       "      <td>16.99</td>\n",
       "      <td>1.01</td>\n",
       "      <td>No</td>\n",
       "      <td>Sun</td>\n",
       "      <td>Dinner</td>\n",
       "      <td>2</td>\n",
       "    </tr>\n",
       "    <tr>\n",
       "      <th>1</th>\n",
       "      <td>10.34</td>\n",
       "      <td>1.66</td>\n",
       "      <td>No</td>\n",
       "      <td>Sun</td>\n",
       "      <td>Dinner</td>\n",
       "      <td>3</td>\n",
       "    </tr>\n",
       "    <tr>\n",
       "      <th>2</th>\n",
       "      <td>21.01</td>\n",
       "      <td>3.50</td>\n",
       "      <td>No</td>\n",
       "      <td>Sun</td>\n",
       "      <td>Dinner</td>\n",
       "      <td>3</td>\n",
       "    </tr>\n",
       "    <tr>\n",
       "      <th>3</th>\n",
       "      <td>23.68</td>\n",
       "      <td>3.31</td>\n",
       "      <td>No</td>\n",
       "      <td>Sun</td>\n",
       "      <td>Dinner</td>\n",
       "      <td>2</td>\n",
       "    </tr>\n",
       "    <tr>\n",
       "      <th>4</th>\n",
       "      <td>24.59</td>\n",
       "      <td>3.61</td>\n",
       "      <td>No</td>\n",
       "      <td>Sun</td>\n",
       "      <td>Dinner</td>\n",
       "      <td>4</td>\n",
       "    </tr>\n",
       "    <tr>\n",
       "      <th>...</th>\n",
       "      <td>...</td>\n",
       "      <td>...</td>\n",
       "      <td>...</td>\n",
       "      <td>...</td>\n",
       "      <td>...</td>\n",
       "      <td>...</td>\n",
       "    </tr>\n",
       "    <tr>\n",
       "      <th>239</th>\n",
       "      <td>29.03</td>\n",
       "      <td>5.92</td>\n",
       "      <td>No</td>\n",
       "      <td>Sat</td>\n",
       "      <td>Dinner</td>\n",
       "      <td>3</td>\n",
       "    </tr>\n",
       "    <tr>\n",
       "      <th>240</th>\n",
       "      <td>27.18</td>\n",
       "      <td>2.00</td>\n",
       "      <td>Yes</td>\n",
       "      <td>Sat</td>\n",
       "      <td>Dinner</td>\n",
       "      <td>2</td>\n",
       "    </tr>\n",
       "    <tr>\n",
       "      <th>241</th>\n",
       "      <td>22.67</td>\n",
       "      <td>2.00</td>\n",
       "      <td>Yes</td>\n",
       "      <td>Sat</td>\n",
       "      <td>Dinner</td>\n",
       "      <td>2</td>\n",
       "    </tr>\n",
       "    <tr>\n",
       "      <th>242</th>\n",
       "      <td>17.82</td>\n",
       "      <td>1.75</td>\n",
       "      <td>No</td>\n",
       "      <td>Sat</td>\n",
       "      <td>Dinner</td>\n",
       "      <td>2</td>\n",
       "    </tr>\n",
       "    <tr>\n",
       "      <th>243</th>\n",
       "      <td>18.78</td>\n",
       "      <td>3.00</td>\n",
       "      <td>No</td>\n",
       "      <td>Thur</td>\n",
       "      <td>Dinner</td>\n",
       "      <td>2</td>\n",
       "    </tr>\n",
       "  </tbody>\n",
       "</table>\n",
       "<p>244 rows × 6 columns</p>\n",
       "</div>"
      ],
      "text/plain": [
       "     total_bill   tip dessert   day    time  size\n",
       "0         16.99  1.01      No   Sun  Dinner     2\n",
       "1         10.34  1.66      No   Sun  Dinner     3\n",
       "2         21.01  3.50      No   Sun  Dinner     3\n",
       "3         23.68  3.31      No   Sun  Dinner     2\n",
       "4         24.59  3.61      No   Sun  Dinner     4\n",
       "..          ...   ...     ...   ...     ...   ...\n",
       "239       29.03  5.92      No   Sat  Dinner     3\n",
       "240       27.18  2.00     Yes   Sat  Dinner     2\n",
       "241       22.67  2.00     Yes   Sat  Dinner     2\n",
       "242       17.82  1.75      No   Sat  Dinner     2\n",
       "243       18.78  3.00      No  Thur  Dinner     2\n",
       "\n",
       "[244 rows x 6 columns]"
      ]
     },
     "execution_count": 7,
     "metadata": {},
     "output_type": "execute_result"
    }
   ],
   "source": [
    "pd.read_csv('dados/tips.csv')"
   ]
  },
  {
   "cell_type": "code",
   "execution_count": 8,
   "id": "67c932a4",
   "metadata": {},
   "outputs": [],
   "source": [
    "dados = pd.read_csv('dados/tips.csv')"
   ]
  },
  {
   "cell_type": "code",
   "execution_count": 9,
   "id": "77264786",
   "metadata": {},
   "outputs": [
    {
     "data": {
      "text/html": [
       "<div>\n",
       "<style scoped>\n",
       "    .dataframe tbody tr th:only-of-type {\n",
       "        vertical-align: middle;\n",
       "    }\n",
       "\n",
       "    .dataframe tbody tr th {\n",
       "        vertical-align: top;\n",
       "    }\n",
       "\n",
       "    .dataframe thead th {\n",
       "        text-align: right;\n",
       "    }\n",
       "</style>\n",
       "<table border=\"1\" class=\"dataframe\">\n",
       "  <thead>\n",
       "    <tr style=\"text-align: right;\">\n",
       "      <th></th>\n",
       "      <th>total_bill</th>\n",
       "      <th>tip</th>\n",
       "      <th>dessert</th>\n",
       "      <th>day</th>\n",
       "      <th>time</th>\n",
       "      <th>size</th>\n",
       "    </tr>\n",
       "  </thead>\n",
       "  <tbody>\n",
       "    <tr>\n",
       "      <th>0</th>\n",
       "      <td>16.99</td>\n",
       "      <td>1.01</td>\n",
       "      <td>No</td>\n",
       "      <td>Sun</td>\n",
       "      <td>Dinner</td>\n",
       "      <td>2</td>\n",
       "    </tr>\n",
       "    <tr>\n",
       "      <th>1</th>\n",
       "      <td>10.34</td>\n",
       "      <td>1.66</td>\n",
       "      <td>No</td>\n",
       "      <td>Sun</td>\n",
       "      <td>Dinner</td>\n",
       "      <td>3</td>\n",
       "    </tr>\n",
       "    <tr>\n",
       "      <th>2</th>\n",
       "      <td>21.01</td>\n",
       "      <td>3.50</td>\n",
       "      <td>No</td>\n",
       "      <td>Sun</td>\n",
       "      <td>Dinner</td>\n",
       "      <td>3</td>\n",
       "    </tr>\n",
       "    <tr>\n",
       "      <th>3</th>\n",
       "      <td>23.68</td>\n",
       "      <td>3.31</td>\n",
       "      <td>No</td>\n",
       "      <td>Sun</td>\n",
       "      <td>Dinner</td>\n",
       "      <td>2</td>\n",
       "    </tr>\n",
       "    <tr>\n",
       "      <th>4</th>\n",
       "      <td>24.59</td>\n",
       "      <td>3.61</td>\n",
       "      <td>No</td>\n",
       "      <td>Sun</td>\n",
       "      <td>Dinner</td>\n",
       "      <td>4</td>\n",
       "    </tr>\n",
       "    <tr>\n",
       "      <th>5</th>\n",
       "      <td>25.29</td>\n",
       "      <td>4.71</td>\n",
       "      <td>No</td>\n",
       "      <td>Sun</td>\n",
       "      <td>Dinner</td>\n",
       "      <td>4</td>\n",
       "    </tr>\n",
       "    <tr>\n",
       "      <th>6</th>\n",
       "      <td>8.77</td>\n",
       "      <td>2.00</td>\n",
       "      <td>No</td>\n",
       "      <td>Sun</td>\n",
       "      <td>Dinner</td>\n",
       "      <td>2</td>\n",
       "    </tr>\n",
       "    <tr>\n",
       "      <th>7</th>\n",
       "      <td>26.88</td>\n",
       "      <td>3.12</td>\n",
       "      <td>No</td>\n",
       "      <td>Sun</td>\n",
       "      <td>Dinner</td>\n",
       "      <td>4</td>\n",
       "    </tr>\n",
       "    <tr>\n",
       "      <th>8</th>\n",
       "      <td>15.04</td>\n",
       "      <td>1.96</td>\n",
       "      <td>No</td>\n",
       "      <td>Sun</td>\n",
       "      <td>Dinner</td>\n",
       "      <td>2</td>\n",
       "    </tr>\n",
       "    <tr>\n",
       "      <th>9</th>\n",
       "      <td>14.78</td>\n",
       "      <td>3.23</td>\n",
       "      <td>No</td>\n",
       "      <td>Sun</td>\n",
       "      <td>Dinner</td>\n",
       "      <td>2</td>\n",
       "    </tr>\n",
       "  </tbody>\n",
       "</table>\n",
       "</div>"
      ],
      "text/plain": [
       "   total_bill   tip dessert  day    time  size\n",
       "0       16.99  1.01      No  Sun  Dinner     2\n",
       "1       10.34  1.66      No  Sun  Dinner     3\n",
       "2       21.01  3.50      No  Sun  Dinner     3\n",
       "3       23.68  3.31      No  Sun  Dinner     2\n",
       "4       24.59  3.61      No  Sun  Dinner     4\n",
       "5       25.29  4.71      No  Sun  Dinner     4\n",
       "6        8.77  2.00      No  Sun  Dinner     2\n",
       "7       26.88  3.12      No  Sun  Dinner     4\n",
       "8       15.04  1.96      No  Sun  Dinner     2\n",
       "9       14.78  3.23      No  Sun  Dinner     2"
      ]
     },
     "execution_count": 9,
     "metadata": {},
     "output_type": "execute_result"
    }
   ],
   "source": [
    "dados.head(10)"
   ]
  },
  {
   "cell_type": "markdown",
   "id": "d87c33b8",
   "metadata": {},
   "source": [
    "## Tradução"
   ]
  },
  {
   "cell_type": "code",
   "execution_count": 10,
   "id": "fd652c05",
   "metadata": {},
   "outputs": [
    {
     "data": {
      "text/plain": [
       "Index(['total_bill', 'tip', 'dessert', 'day', 'time', 'size'], dtype='object')"
      ]
     },
     "execution_count": 10,
     "metadata": {},
     "output_type": "execute_result"
    }
   ],
   "source": [
    "dados.columns"
   ]
  },
  {
   "cell_type": "code",
   "execution_count": 11,
   "id": "1bf8ca90",
   "metadata": {},
   "outputs": [],
   "source": [
    "renomear = {\n",
    "    'total_bill' : 'valor_da_conta',\n",
    "    'tip' : 'gorjeta',\n",
    "    'dessert' : 'sobremesa',\n",
    "    'day' : 'dia_da_semana',\n",
    "    'time' : 'hora_do_dia',\n",
    "    'size' : 'total_de_pessoas'\n",
    "}"
   ]
  },
  {
   "cell_type": "code",
   "execution_count": 12,
   "id": "d61f7d56",
   "metadata": {},
   "outputs": [
    {
     "data": {
      "text/plain": [
       "pandas.core.frame.DataFrame"
      ]
     },
     "execution_count": 12,
     "metadata": {},
     "output_type": "execute_result"
    }
   ],
   "source": [
    "type(dados)"
   ]
  },
  {
   "cell_type": "code",
   "execution_count": 14,
   "id": "8d46afe9",
   "metadata": {},
   "outputs": [],
   "source": [
    "gorjetas = dados.rename(columns = renomear)"
   ]
  },
  {
   "cell_type": "code",
   "execution_count": 16,
   "id": "083f5ee6",
   "metadata": {},
   "outputs": [
    {
     "data": {
      "text/html": [
       "<div>\n",
       "<style scoped>\n",
       "    .dataframe tbody tr th:only-of-type {\n",
       "        vertical-align: middle;\n",
       "    }\n",
       "\n",
       "    .dataframe tbody tr th {\n",
       "        vertical-align: top;\n",
       "    }\n",
       "\n",
       "    .dataframe thead th {\n",
       "        text-align: right;\n",
       "    }\n",
       "</style>\n",
       "<table border=\"1\" class=\"dataframe\">\n",
       "  <thead>\n",
       "    <tr style=\"text-align: right;\">\n",
       "      <th></th>\n",
       "      <th>valor_da_conta</th>\n",
       "      <th>gorjeta</th>\n",
       "      <th>sobremesa</th>\n",
       "      <th>dia_da_semana</th>\n",
       "      <th>hora_do_dia</th>\n",
       "      <th>total_de_pessoas</th>\n",
       "    </tr>\n",
       "  </thead>\n",
       "  <tbody>\n",
       "    <tr>\n",
       "      <th>0</th>\n",
       "      <td>16.99</td>\n",
       "      <td>1.01</td>\n",
       "      <td>No</td>\n",
       "      <td>Sun</td>\n",
       "      <td>Dinner</td>\n",
       "      <td>2</td>\n",
       "    </tr>\n",
       "  </tbody>\n",
       "</table>\n",
       "</div>"
      ],
      "text/plain": [
       "   valor_da_conta  gorjeta sobremesa dia_da_semana hora_do_dia  \\\n",
       "0           16.99     1.01        No           Sun      Dinner   \n",
       "\n",
       "   total_de_pessoas  \n",
       "0                 2  "
      ]
     },
     "execution_count": 16,
     "metadata": {},
     "output_type": "execute_result"
    }
   ],
   "source": [
    "gorjetas.head(1)"
   ]
  },
  {
   "cell_type": "code",
   "execution_count": 17,
   "id": "93d95432",
   "metadata": {},
   "outputs": [
    {
     "data": {
      "text/plain": [
       "array(['No', 'Yes'], dtype=object)"
      ]
     },
     "execution_count": 17,
     "metadata": {},
     "output_type": "execute_result"
    }
   ],
   "source": [
    "gorjetas.sobremesa.unique()"
   ]
  },
  {
   "cell_type": "code",
   "execution_count": 18,
   "id": "cf19d977",
   "metadata": {},
   "outputs": [],
   "source": [
    "sim_nao = {\n",
    "    'No' : 'Não',\n",
    "    'Yes' : 'Sim'\n",
    "}"
   ]
  },
  {
   "cell_type": "code",
   "execution_count": 19,
   "id": "8eab3f89",
   "metadata": {},
   "outputs": [
    {
     "data": {
      "text/plain": [
       "0      Não\n",
       "1      Não\n",
       "2      Não\n",
       "3      Não\n",
       "4      Não\n",
       "      ... \n",
       "239    Não\n",
       "240    Sim\n",
       "241    Sim\n",
       "242    Não\n",
       "243    Não\n",
       "Name: sobremesa, Length: 244, dtype: object"
      ]
     },
     "execution_count": 19,
     "metadata": {},
     "output_type": "execute_result"
    }
   ],
   "source": [
    "gorjetas.sobremesa.map(sim_nao)"
   ]
  },
  {
   "cell_type": "code",
   "execution_count": 20,
   "id": "e9c8ec5f",
   "metadata": {},
   "outputs": [
    {
     "data": {
      "text/html": [
       "<div>\n",
       "<style scoped>\n",
       "    .dataframe tbody tr th:only-of-type {\n",
       "        vertical-align: middle;\n",
       "    }\n",
       "\n",
       "    .dataframe tbody tr th {\n",
       "        vertical-align: top;\n",
       "    }\n",
       "\n",
       "    .dataframe thead th {\n",
       "        text-align: right;\n",
       "    }\n",
       "</style>\n",
       "<table border=\"1\" class=\"dataframe\">\n",
       "  <thead>\n",
       "    <tr style=\"text-align: right;\">\n",
       "      <th></th>\n",
       "      <th>valor_da_conta</th>\n",
       "      <th>gorjeta</th>\n",
       "      <th>sobremesa</th>\n",
       "      <th>dia_da_semana</th>\n",
       "      <th>hora_do_dia</th>\n",
       "      <th>total_de_pessoas</th>\n",
       "    </tr>\n",
       "  </thead>\n",
       "  <tbody>\n",
       "    <tr>\n",
       "      <th>0</th>\n",
       "      <td>16.99</td>\n",
       "      <td>1.01</td>\n",
       "      <td>No</td>\n",
       "      <td>Sun</td>\n",
       "      <td>Dinner</td>\n",
       "      <td>2</td>\n",
       "    </tr>\n",
       "  </tbody>\n",
       "</table>\n",
       "</div>"
      ],
      "text/plain": [
       "   valor_da_conta  gorjeta sobremesa dia_da_semana hora_do_dia  \\\n",
       "0           16.99     1.01        No           Sun      Dinner   \n",
       "\n",
       "   total_de_pessoas  \n",
       "0                 2  "
      ]
     },
     "execution_count": 20,
     "metadata": {},
     "output_type": "execute_result"
    }
   ],
   "source": [
    "gorjetas.head(1)"
   ]
  },
  {
   "cell_type": "code",
   "execution_count": 23,
   "id": "ae5604b4",
   "metadata": {},
   "outputs": [],
   "source": [
    "gorjetas.sobremesa = gorjetas.sobremesa.map(sim_nao)"
   ]
  },
  {
   "cell_type": "code",
   "execution_count": 24,
   "id": "e06f877e",
   "metadata": {},
   "outputs": [
    {
     "data": {
      "text/html": [
       "<div>\n",
       "<style scoped>\n",
       "    .dataframe tbody tr th:only-of-type {\n",
       "        vertical-align: middle;\n",
       "    }\n",
       "\n",
       "    .dataframe tbody tr th {\n",
       "        vertical-align: top;\n",
       "    }\n",
       "\n",
       "    .dataframe thead th {\n",
       "        text-align: right;\n",
       "    }\n",
       "</style>\n",
       "<table border=\"1\" class=\"dataframe\">\n",
       "  <thead>\n",
       "    <tr style=\"text-align: right;\">\n",
       "      <th></th>\n",
       "      <th>valor_da_conta</th>\n",
       "      <th>gorjeta</th>\n",
       "      <th>sobremesa</th>\n",
       "      <th>dia_da_semana</th>\n",
       "      <th>hora_do_dia</th>\n",
       "      <th>total_de_pessoas</th>\n",
       "    </tr>\n",
       "  </thead>\n",
       "  <tbody>\n",
       "    <tr>\n",
       "      <th>0</th>\n",
       "      <td>16.99</td>\n",
       "      <td>1.01</td>\n",
       "      <td>Não</td>\n",
       "      <td>Sun</td>\n",
       "      <td>Dinner</td>\n",
       "      <td>2</td>\n",
       "    </tr>\n",
       "  </tbody>\n",
       "</table>\n",
       "</div>"
      ],
      "text/plain": [
       "   valor_da_conta  gorjeta sobremesa dia_da_semana hora_do_dia  \\\n",
       "0           16.99     1.01       Não           Sun      Dinner   \n",
       "\n",
       "   total_de_pessoas  \n",
       "0                 2  "
      ]
     },
     "execution_count": 24,
     "metadata": {},
     "output_type": "execute_result"
    }
   ],
   "source": [
    "gorjetas.head(1)"
   ]
  },
  {
   "cell_type": "code",
   "execution_count": 25,
   "id": "38e25f26",
   "metadata": {},
   "outputs": [
    {
     "data": {
      "text/plain": [
       "array(['Sun', 'Sat', 'Thur', 'Fri'], dtype=object)"
      ]
     },
     "execution_count": 25,
     "metadata": {},
     "output_type": "execute_result"
    }
   ],
   "source": [
    "gorjetas.dia_da_semana.unique()"
   ]
  },
  {
   "cell_type": "code",
   "execution_count": 26,
   "id": "eaea1301",
   "metadata": {},
   "outputs": [],
   "source": [
    "dias = {\n",
    "    'Sun' : 'Domingo',\n",
    "    'Sat' : 'Sábado',\n",
    "    'Thur' : 'Quinta',\n",
    "    'Fri' : 'Sexta'\n",
    "}"
   ]
  },
  {
   "cell_type": "code",
   "execution_count": 28,
   "id": "0cbc6e59",
   "metadata": {},
   "outputs": [],
   "source": [
    "gorjetas.dia_da_semana = gorjetas.dia_da_semana.map(dias)"
   ]
  },
  {
   "cell_type": "code",
   "execution_count": 29,
   "id": "8713f0ae",
   "metadata": {},
   "outputs": [
    {
     "data": {
      "text/html": [
       "<div>\n",
       "<style scoped>\n",
       "    .dataframe tbody tr th:only-of-type {\n",
       "        vertical-align: middle;\n",
       "    }\n",
       "\n",
       "    .dataframe tbody tr th {\n",
       "        vertical-align: top;\n",
       "    }\n",
       "\n",
       "    .dataframe thead th {\n",
       "        text-align: right;\n",
       "    }\n",
       "</style>\n",
       "<table border=\"1\" class=\"dataframe\">\n",
       "  <thead>\n",
       "    <tr style=\"text-align: right;\">\n",
       "      <th></th>\n",
       "      <th>valor_da_conta</th>\n",
       "      <th>gorjeta</th>\n",
       "      <th>sobremesa</th>\n",
       "      <th>dia_da_semana</th>\n",
       "      <th>hora_do_dia</th>\n",
       "      <th>total_de_pessoas</th>\n",
       "    </tr>\n",
       "  </thead>\n",
       "  <tbody>\n",
       "    <tr>\n",
       "      <th>0</th>\n",
       "      <td>16.99</td>\n",
       "      <td>1.01</td>\n",
       "      <td>Não</td>\n",
       "      <td>Domingo</td>\n",
       "      <td>Dinner</td>\n",
       "      <td>2</td>\n",
       "    </tr>\n",
       "  </tbody>\n",
       "</table>\n",
       "</div>"
      ],
      "text/plain": [
       "   valor_da_conta  gorjeta sobremesa dia_da_semana hora_do_dia  \\\n",
       "0           16.99     1.01       Não       Domingo      Dinner   \n",
       "\n",
       "   total_de_pessoas  \n",
       "0                 2  "
      ]
     },
     "execution_count": 29,
     "metadata": {},
     "output_type": "execute_result"
    }
   ],
   "source": [
    "gorjetas.head(1)"
   ]
  },
  {
   "cell_type": "code",
   "execution_count": 30,
   "id": "959a9f9f",
   "metadata": {},
   "outputs": [
    {
     "data": {
      "text/plain": [
       "array(['Domingo', 'Sábado', 'Quinta', 'Sexta'], dtype=object)"
      ]
     },
     "execution_count": 30,
     "metadata": {},
     "output_type": "execute_result"
    }
   ],
   "source": [
    "gorjetas.dia_da_semana.unique()"
   ]
  },
  {
   "cell_type": "code",
   "execution_count": 31,
   "id": "b6ea81ca",
   "metadata": {},
   "outputs": [
    {
     "data": {
      "text/plain": [
       "array(['Dinner', 'Lunch'], dtype=object)"
      ]
     },
     "execution_count": 31,
     "metadata": {},
     "output_type": "execute_result"
    }
   ],
   "source": [
    "gorjetas.hora_do_dia.unique()"
   ]
  },
  {
   "cell_type": "code",
   "execution_count": 32,
   "id": "61083ed7",
   "metadata": {},
   "outputs": [],
   "source": [
    "hora = {\n",
    "    'Dinner' : 'Jantar', \n",
    "    'Lunch' : 'Almoço'\n",
    "}"
   ]
  },
  {
   "cell_type": "code",
   "execution_count": 33,
   "id": "96f10946",
   "metadata": {},
   "outputs": [],
   "source": [
    "gorjetas.hora_do_dia = gorjetas.hora_do_dia.map(hora)"
   ]
  },
  {
   "cell_type": "code",
   "execution_count": 34,
   "id": "7e66c4b5",
   "metadata": {},
   "outputs": [
    {
     "data": {
      "text/html": [
       "<div>\n",
       "<style scoped>\n",
       "    .dataframe tbody tr th:only-of-type {\n",
       "        vertical-align: middle;\n",
       "    }\n",
       "\n",
       "    .dataframe tbody tr th {\n",
       "        vertical-align: top;\n",
       "    }\n",
       "\n",
       "    .dataframe thead th {\n",
       "        text-align: right;\n",
       "    }\n",
       "</style>\n",
       "<table border=\"1\" class=\"dataframe\">\n",
       "  <thead>\n",
       "    <tr style=\"text-align: right;\">\n",
       "      <th></th>\n",
       "      <th>valor_da_conta</th>\n",
       "      <th>gorjeta</th>\n",
       "      <th>sobremesa</th>\n",
       "      <th>dia_da_semana</th>\n",
       "      <th>hora_do_dia</th>\n",
       "      <th>total_de_pessoas</th>\n",
       "    </tr>\n",
       "  </thead>\n",
       "  <tbody>\n",
       "    <tr>\n",
       "      <th>0</th>\n",
       "      <td>16.99</td>\n",
       "      <td>1.01</td>\n",
       "      <td>Não</td>\n",
       "      <td>Domingo</td>\n",
       "      <td>Jantar</td>\n",
       "      <td>2</td>\n",
       "    </tr>\n",
       "  </tbody>\n",
       "</table>\n",
       "</div>"
      ],
      "text/plain": [
       "   valor_da_conta  gorjeta sobremesa dia_da_semana hora_do_dia  \\\n",
       "0           16.99     1.01       Não       Domingo      Jantar   \n",
       "\n",
       "   total_de_pessoas  \n",
       "0                 2  "
      ]
     },
     "execution_count": 34,
     "metadata": {},
     "output_type": "execute_result"
    }
   ],
   "source": [
    "gorjetas.head(1)"
   ]
  },
  {
   "cell_type": "code",
   "execution_count": 38,
   "id": "1675db08",
   "metadata": {},
   "outputs": [
    {
     "data": {
      "text/html": [
       "<div>\n",
       "<style scoped>\n",
       "    .dataframe tbody tr th:only-of-type {\n",
       "        vertical-align: middle;\n",
       "    }\n",
       "\n",
       "    .dataframe tbody tr th {\n",
       "        vertical-align: top;\n",
       "    }\n",
       "\n",
       "    .dataframe thead th {\n",
       "        text-align: right;\n",
       "    }\n",
       "</style>\n",
       "<table border=\"1\" class=\"dataframe\">\n",
       "  <thead>\n",
       "    <tr style=\"text-align: right;\">\n",
       "      <th></th>\n",
       "      <th>valor_da_conta</th>\n",
       "      <th>gorjeta</th>\n",
       "      <th>sobremesa</th>\n",
       "      <th>dia_da_semana</th>\n",
       "      <th>hora_do_dia</th>\n",
       "      <th>total_de_pessoas</th>\n",
       "    </tr>\n",
       "  </thead>\n",
       "  <tbody>\n",
       "    <tr>\n",
       "      <th>239</th>\n",
       "      <td>29.03</td>\n",
       "      <td>5.92</td>\n",
       "      <td>Não</td>\n",
       "      <td>Sábado</td>\n",
       "      <td>Jantar</td>\n",
       "      <td>3</td>\n",
       "    </tr>\n",
       "    <tr>\n",
       "      <th>240</th>\n",
       "      <td>27.18</td>\n",
       "      <td>2.00</td>\n",
       "      <td>Sim</td>\n",
       "      <td>Sábado</td>\n",
       "      <td>Jantar</td>\n",
       "      <td>2</td>\n",
       "    </tr>\n",
       "    <tr>\n",
       "      <th>241</th>\n",
       "      <td>22.67</td>\n",
       "      <td>2.00</td>\n",
       "      <td>Sim</td>\n",
       "      <td>Sábado</td>\n",
       "      <td>Jantar</td>\n",
       "      <td>2</td>\n",
       "    </tr>\n",
       "    <tr>\n",
       "      <th>242</th>\n",
       "      <td>17.82</td>\n",
       "      <td>1.75</td>\n",
       "      <td>Não</td>\n",
       "      <td>Sábado</td>\n",
       "      <td>Jantar</td>\n",
       "      <td>2</td>\n",
       "    </tr>\n",
       "    <tr>\n",
       "      <th>243</th>\n",
       "      <td>18.78</td>\n",
       "      <td>3.00</td>\n",
       "      <td>Não</td>\n",
       "      <td>Quinta</td>\n",
       "      <td>Jantar</td>\n",
       "      <td>2</td>\n",
       "    </tr>\n",
       "  </tbody>\n",
       "</table>\n",
       "</div>"
      ],
      "text/plain": [
       "     valor_da_conta  gorjeta sobremesa dia_da_semana hora_do_dia  \\\n",
       "239           29.03     5.92       Não        Sábado      Jantar   \n",
       "240           27.18     2.00       Sim        Sábado      Jantar   \n",
       "241           22.67     2.00       Sim        Sábado      Jantar   \n",
       "242           17.82     1.75       Não        Sábado      Jantar   \n",
       "243           18.78     3.00       Não        Quinta      Jantar   \n",
       "\n",
       "     total_de_pessoas  \n",
       "239                 3  \n",
       "240                 2  \n",
       "241                 2  \n",
       "242                 2  \n",
       "243                 2  "
      ]
     },
     "execution_count": 38,
     "metadata": {},
     "output_type": "execute_result"
    }
   ],
   "source": [
    "gorjetas.tail() # exibe os últimos cinco itens do DataFrame"
   ]
  },
  {
   "cell_type": "code",
   "execution_count": null,
   "id": "e4b7c643",
   "metadata": {},
   "outputs": [],
   "source": [
    "# Deletar uma coluna do DataFrame = tips.drop('day', axis=1)"
   ]
  }
 ],
 "metadata": {
  "kernelspec": {
   "display_name": "Python 3",
   "language": "python",
   "name": "python3"
  },
  "language_info": {
   "codemirror_mode": {
    "name": "ipython",
    "version": 3
   },
   "file_extension": ".py",
   "mimetype": "text/x-python",
   "name": "python",
   "nbconvert_exporter": "python",
   "pygments_lexer": "ipython3",
   "version": "3.8.8"
  }
 },
 "nbformat": 4,
 "nbformat_minor": 5
}
